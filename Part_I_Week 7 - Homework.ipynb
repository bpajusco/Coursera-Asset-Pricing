{
 "cells": [
  {
   "cell_type": "markdown",
   "metadata": {},
   "source": [
    "#Quiz 3: Efficient GMM\n",
    "\n",
    "####Question 1\n",
    "\n",
    "Suppose your GMM is exactly identified. That is, there are the same number of moments (size of $g_T$) as the number of parameters. Furthermore, the parameters matter to the moments, i.e. $d=dg(b)/db′$ is a full rank square matrix, and the moments aren't repeated, $var(g_T)=S$ is nonsingular. (I.e., this is not a trick question.) What is the efficient choice of the a matrix in this situation?\n",
    "\n",
    ">**Answer: $a=d′S−1$. Full rank d means that $a=d′$ will give the same efficient result**\n",
    "\n",
    "####Question 2\n",
    "\n",
    "Consider the CAPM estimation again. Our model is\n",
    "$$g(a,b) = \\left[ \\begin{array}{c} E(mR^{em}) \\\\ E(mR^f-1) \\\\ E(mR^{e1}) \\\\ E(mR^{e2}) \\\\  \\end{array} \\right]$$\n",
    "\n",
    "with\n",
    "\n",
    "$$m=α−\\beta R^{em}$$\n",
    "\n",
    "to examine the CAPM. (we usually use a,b, but there are too many as and bs' floating around. $R^{ei}$ refers to different securities, not raising to the power i.) We talked about using different $a$ matrices in $ag_T(b)=0$ to estimate $\\alpha, \\beta$. What happens if instead we use the minimization approach to GMM and form\n",
    "\n",
    "$$min_{b=[\\alpha \\ \\beta]'} g_T(b)'Wg_T(b)$$\n",
    "\n",
    "What a matrix in $ag_T(b)=0$ is equivalent to this minimization? \n",
    "\n",
    ">**Answer: $a=d'W$**\n",
    "\n",
    "####Question 3\n",
    "\n",
    "Now, suppose as in previous examples you want to use the first two moments for estimation and the remaining moments for model evaluation (alphas). Again, our model is\n",
    "\n",
    "$$g(a,b) = \\left[ \\begin{array}{c} E(mR^{em}) \\\\ E(mR^f-1) \\\\ E(mR^{e1}) \\\\ E(mR^{e2}) \\\\  \\end{array} \\right]$$\n",
    "\n",
    "with\n",
    "\n",
    "$$m=α−\\beta R^{em}$$\n",
    "\n",
    "Previously, we used\n",
    "\n",
    "$$\\begin{equation} a = \\left[ \\begin{array}{ c c c c } 1 & 0 & 0 & 0 \\\\ 0 & 1 & 0 & 0 \\\\ \\end{array} \\right] \\ \\ \\ \\  (1)\n",
    "\\end{equation}$$\n",
    "\n",
    "to this end. What happens if instead we use the minimization approach to GMM and form\n",
    "\n",
    "$$min_{b=\\{\\alpha, \\ \\beta\\}} g_T(b)'Wg_T(b) \\ \\ \\ \\ \\  (2)$$\n",
    "\n",
    "using\n",
    "\n",
    "$$W = \\left[ \\begin{array} {c c c c } 1 & 0 & 0 & 0  \\\\ 0 & 1 & 0 & 0 \\\\ 0 & 0 & 0 & 0 \\\\ 0 & 0 & 0 & 0 \\\\ \\end{array} \\right]$$\n",
    "\n",
    "in order to force the minimization to focus only on the first two moments?\n",
    "\n",
    "Again, this is not a trick question. Assume that $\\partial g(b) / \\partial b$ are nonzero, and full rank where appropriate. \n",
    "\n",
    ">**Answer: In this case, though the resulting a matrix is different, the fixed a approach (1) and minimization approach (2) give the same estimates. **\n",
    "\n",
    "####Question 4\n",
    "\n",
    "Consider again the example of measuring the equity premium $E(R^e)$ from data from two countries. Again, suppose you believe the two mean returns are the same $μ$ so the moments are\n",
    "\n",
    "$$g_T(\\mu)=E_T \\left[ \\begin{array}{c} R^{eA}-\\mu \\\\ R^{eB}-\\mu \\end{array} \\right]$$\n",
    "\n",
    "Suppose the returns are independent over time, have the same variance, and correlation $|\\rho|<1$ so the covariance matrix of returns is\n",
    "\n",
    "$$\\Sigma = \\left[ \\begin{array}{cc} 1 &\\rho \\\\ \\rho & 1 \\end{array} \\right] \\times \\sigma^2$$\n",
    "\n",
    "What is the efficient GMM estimator of $\\mu$? \n",
    "\n",
    ">**Answer: $\\frac{1}{2}[E_T(R^{eA})+E_T(R^{eB})]$**\n",
    "\n",
    "####Question 5\n",
    "\n",
    "Now, suppose the two countries have different return variances $σ^2_A$ and $σ^2_B$ with $σ^2_B=4×σ^2_A$. Suppose the returns are uncorrelated $\\rho=0$. What is the efficient GMM estimator in this case? Give the weights on the mean of country A and the mean of country B, accurate to two decimals, separated by a space, i.e. enter $w_A$ and $w_B$ in \n",
    "\n",
    "$$\\hat{\\mu} = w_A E_T(R^{eA}) + \n",
    "w_B E_T(R^{eB})$$\n",
    "\n",
    ">**Answer: the formula of great beauty and utility is:**\n",
    "\n",
    "$$\\frac{\\frac{1}{\\sigma_A^2}}{\\left[ \\frac{1}{\\sigma_A^2} + \\frac{1}{\\sigma_B^2}\\right]}E_T(R^{eA}) + \n",
    "\\frac{\\frac{1}{\\sigma_B^2}}{\\left[ \\frac{1}{\\sigma_A^2} + \\frac{1}{\\sigma_B^2}\\right]}E_T(R^{eB})= \\mu$$ "
   ]
  },
  {
   "cell_type": "code",
   "execution_count": 1,
   "metadata": {
    "collapsed": false
   },
   "outputs": [
    {
     "name": "stdout",
     "output_type": "stream",
     "text": [
      "0.80 0.20\n"
     ]
    }
   ],
   "source": [
    "var_A = 1\n",
    "var_B = 4\n",
    "\n",
    "print('{:.2f} {:.2f}'.format((1/var_A)/(1/var_A+1/var_B),(1/var_B)/(1/var_A+1/var_B)))"
   ]
  },
  {
   "cell_type": "markdown",
   "metadata": {},
   "source": [
    "####Question 6\n",
    "\n",
    "Now suppose $\\rho \\neq 0 $, $\\sigma_A=\\sigma_B=\\sigma=1$, but suppose your model predicts that smaller countries have higher equity premiums. A having half the population of B, your model predicts\n",
    "\n",
    "$$g_T(\\mu)=E_T \\left[ \\begin{array}{c} R^{eA}-\\mu \\\\ R^{eB}-\\mu \\end{array} \\right]$$\n",
    "\n",
    "Find the efficient GMM estimator in this case. Take the limit $\\rho \\rightarrow 1$ (Note, first find the estimator, then take the limit.) Again, enter the weights $w_A$, $w_B$ in\n",
    "\n",
    "$$\\hat{\\mu} = w_A E_T(R^{eA}) + \n",
    "w_B E_T(R^{eB})$$\n",
    "\n",
    ">**Answer:**\n",
    "$$d=dg_T(\\mu)/d\\mu = \\left[ \\begin{array}{c} -2 \\\\ -1 \\end{array} \\right] \\\\\n",
    "S = \\Sigma = \\sigma^2  \\left[ \\begin{array}{c c} 1& \\rho   \\\\ \\rho   & 1\\end{array} \\right] \\\\\n",
    "d'S^{-1} = -\\frac{1}{(1-\\rho^2)\\sigma^{2}} [2 \\ \\ 1] \\left[  \\begin{array}{c c} 1 & -\\rho \\\\ -\\rho & 1 \\end{array} \\right] \\\\\n",
    "d'S^{-1}g_T(\\mu)  =0: (2-\\rho)E_T(R^{eA}-2\\mu) +(1-2\\rho)E_T(R^{eB}-\\mu)=0 \\\\\n",
    "(2-\\rho)E_T(R^{eA}) +(1-2\\rho)E_T(R^{eB})=(5-4\\rho) \\mu \\\\\n",
    "\\frac{(2-\\rho)}{(5-4\\rho)}E_T(R^{eA}) +\\frac{(1-2\\rho)}{(5-4\\rho)}E_T(R^{eB})= \\mu$$"
   ]
  },
  {
   "cell_type": "code",
   "execution_count": 2,
   "metadata": {
    "collapsed": false
   },
   "outputs": [
    {
     "name": "stdout",
     "output_type": "stream",
     "text": [
      "1.0 -1.0\n"
     ]
    }
   ],
   "source": [
    "rho = 1\n",
    "print('{:} {:}'.format((2-rho)/(5-4*rho), (1-2*rho)/(5-4*rho)))"
   ]
  },
  {
   "cell_type": "markdown",
   "metadata": {},
   "source": [
    "#Homework: GMM Part I\n",
    "\n",
    "####Question 1\n",
    "\n",
    "We are going to do GMM of the consumption-based model,\n",
    "\n",
    "$$E\\left[\\left(\\frac{c_{t+1}}{c_t}\\right)^{-\\gamma}R^e_{t+1}\\right]=0$$\n",
    "\n",
    "using these portfolios. We're going to build up to it so you can understand how things are working.\n",
    "\n",
    "Find the mean and correlation matrix of consumption growth and the three excess returns. Enter the correlation between consumption growth and rmrf, smb, hml as three numbers separated by a space.\n",
    "\n",
    "For you to ponder: Is consumption growth positively correlated with the returns? Which ones have greater correlation with consumption growth?\n"
   ]
  },
  {
   "cell_type": "code",
   "execution_count": 1,
   "metadata": {
    "collapsed": false
   },
   "outputs": [
    {
     "name": "stdout",
     "output_type": "stream",
     "text": [
      "0.3012 0.0570 0.2729\n"
     ]
    },
    {
     "data": {
      "text/html": [
       "<div style=\"max-height:1000px;max-width:1500px;overflow:auto;\">\n",
       "<table border=\"1\" class=\"dataframe\">\n",
       "  <thead>\n",
       "    <tr style=\"text-align: right;\">\n",
       "      <th></th>\n",
       "      <th>dc</th>\n",
       "      <th>rmrf</th>\n",
       "      <th>smb</th>\n",
       "      <th>hml</th>\n",
       "      <th>rf</th>\n",
       "    </tr>\n",
       "  </thead>\n",
       "  <tbody>\n",
       "    <tr>\n",
       "      <th>count</th>\n",
       "      <td>63.000000</td>\n",
       "      <td>63.000000</td>\n",
       "      <td>63.000000</td>\n",
       "      <td>63.000000</td>\n",
       "      <td>63.000000</td>\n",
       "    </tr>\n",
       "    <tr>\n",
       "      <th>mean</th>\n",
       "      <td>1.022611</td>\n",
       "      <td>0.078687</td>\n",
       "      <td>0.026444</td>\n",
       "      <td>0.049111</td>\n",
       "      <td>0.045181</td>\n",
       "    </tr>\n",
       "    <tr>\n",
       "      <th>std</th>\n",
       "      <td>0.014706</td>\n",
       "      <td>0.183304</td>\n",
       "      <td>0.129718</td>\n",
       "      <td>0.129510</td>\n",
       "      <td>0.030802</td>\n",
       "    </tr>\n",
       "    <tr>\n",
       "      <th>min</th>\n",
       "      <td>0.988846</td>\n",
       "      <td>-0.383400</td>\n",
       "      <td>-0.249100</td>\n",
       "      <td>-0.339600</td>\n",
       "      <td>0.000200</td>\n",
       "    </tr>\n",
       "    <tr>\n",
       "      <th>25%</th>\n",
       "      <td>1.015823</td>\n",
       "      <td>-0.039900</td>\n",
       "      <td>-0.064200</td>\n",
       "      <td>-0.031750</td>\n",
       "      <td>0.022950</td>\n",
       "    </tr>\n",
       "    <tr>\n",
       "      <th>50%</th>\n",
       "      <td>1.022914</td>\n",
       "      <td>0.106600</td>\n",
       "      <td>0.002500</td>\n",
       "      <td>0.051900</td>\n",
       "      <td>0.043900</td>\n",
       "    </tr>\n",
       "    <tr>\n",
       "      <th>75%</th>\n",
       "      <td>1.031039</td>\n",
       "      <td>0.205250</td>\n",
       "      <td>0.087350</td>\n",
       "      <td>0.133800</td>\n",
       "      <td>0.060250</td>\n",
       "    </tr>\n",
       "    <tr>\n",
       "      <th>max</th>\n",
       "      <td>1.057154</td>\n",
       "      <td>0.493500</td>\n",
       "      <td>0.510900</td>\n",
       "      <td>0.393900</td>\n",
       "      <td>0.147100</td>\n",
       "    </tr>\n",
       "  </tbody>\n",
       "</table>\n",
       "</div>"
      ],
      "text/plain": [
       "              dc       rmrf        smb        hml         rf\n",
       "count  63.000000  63.000000  63.000000  63.000000  63.000000\n",
       "mean    1.022611   0.078687   0.026444   0.049111   0.045181\n",
       "std     0.014706   0.183304   0.129718   0.129510   0.030802\n",
       "min     0.988846  -0.383400  -0.249100  -0.339600   0.000200\n",
       "25%     1.015823  -0.039900  -0.064200  -0.031750   0.022950\n",
       "50%     1.022914   0.106600   0.002500   0.051900   0.043900\n",
       "75%     1.031039   0.205250   0.087350   0.133800   0.060250\n",
       "max     1.057154   0.493500   0.510900   0.393900   0.147100"
      ]
     },
     "execution_count": 1,
     "metadata": {},
     "output_type": "execute_result"
    }
   ],
   "source": [
    "import pandas as pd\n",
    "\n",
    "gmm_data = pd.read_csv('https://d396qusza40orc.cloudfront.net/assetpricing/data/ \\\n",
    "                       coursera_gmm_data.txt', sep='\\s+', skiprows=2, \n",
    "                       names=['dc', 'rmrf', 'smb', 'hml', 'rf'], index_col=0, \n",
    "                       parse_dates=True)\n",
    "\n",
    "#Find correlation values and display full correlation matrix\n",
    "corr_mat = gmm_data.corr()\n",
    "print('{:.4f} {:.4f} {:.4f}'.format(*corr_mat.ix[0,1:4]))\n",
    "gmm_data.describe()"
   ]
  },
  {
   "cell_type": "markdown",
   "metadata": {},
   "source": [
    "####Question 2\n",
    "\n",
    "Still building up to GMM, make a plot of the moment condition\n",
    "\n",
    "$$E\\left[\\left(\\frac{c_{t+1}}{c_t}\\right)^{-\\gamma}R^e_{t+1}\\right]=0$$\n",
    "\n",
    "as a function of $\\gamma$ for each of $R^e= rmrf, smb, hml$. Why? Recall that GMM wants to choose $\\gamma$ to set the moments to zero. If we use one asset at a time, the $\\gamma$ which sets that asset's moment to zero is the estimate. So let's look at the $E(m(\\gamma)R^e)$ as a function of $\\gamma$ for each asset in turn. Later, when we use multiple assets, the $a$ matrix will choose a portfolio, a linear combination of our three asset returns, and set its sample $E(mR^e)$ to zero. Knowing how the individual assets' moments behave will help to interpret those results.\n",
    "\n",
    "To verify that your graph is working, enter a rough value for the GMM estimate of $\\gamma$ resulting from each of rmrf, smb, and hml in turn, as three numbers separated by spaces. You can eyeball these from the graph, as the answers accept a fairly wide range. Report -99 if an estimate is not calculable.\n"
   ]
  },
  {
   "cell_type": "code",
   "execution_count": 4,
   "metadata": {
    "collapsed": false
   },
   "outputs": [
    {
     "name": "stdout",
     "output_type": "stream",
     "text": [
      "78.3004 -99 99.5617\n"
     ]
    },
    {
     "name": "stderr",
     "output_type": "stream",
     "text": [
      "/usr/local/lib/python3.4/dist-packages/matplotlib-1.5.x-py3.4-linux-x86_64.egg/matplotlib/font_manager.py:1279: UserWarning: findfont: Font family ['monospace'] not found. Falling back to Bitstream Vera Sans\n",
      "  (prop.get_family(), self.defaultFamily[fontext]))\n"
     ]
    },
    {
     "data": {
      "image/png": "[encoded data removed]",
      "text/plain": [
       "<matplotlib.figure.Figure at 0x7fc5d25f1160>"
      ]
     },
     "metadata": {},
     "output_type": "display_data"
    }
   ],
   "source": [
    "%matplotlib inline\n",
    "import numpy as np\n",
    "import scipy.optimize as opt\n",
    "import matplotlib.pyplot as plt\n",
    "plt.style.use('ggplot')\n",
    "\n",
    "def mom_consumption(gamma, dc, instr):\n",
    "    return (instr * dc**-gamma).mean(0)\n",
    "           \n",
    "\n",
    "gamma_rmrf = opt.brentq(mom_consumption, 40, 150, args=(gmm_data.dc, gmm_data.rmrf), rtol=1e-12)\n",
    "#gamma_smb = opt.brentq(mom_consumption, 40, 150, args=(gmm_data.dc, gmm_data.smb), rtol=1e-12)\n",
    "gamma_hml = opt.brentq(mom_consumption, 40, 150, args=(gmm_data.dc, gmm_data.hml), rtol=1e-12)\n",
    "\n",
    "\n",
    "interval = np.linspace(40,120, num=400)\n",
    "plt.plot(interval, [mom_consumption(i, gmm_data.dc, gmm_data.rmrf) for i in interval], \n",
    "         label = '$\\gamma_rmrf$')\n",
    "plt.plot(interval, [mom_consumption(i, gmm_data.dc, gmm_data.smb) for i in interval], \n",
    "         label = '$\\gamma_smb$')\n",
    "plt.plot(interval, [mom_consumption(i, gmm_data.dc, gmm_data.hml) for i in interval], \n",
    "         label = '$\\gamma_hml$')\n",
    "plt.legend(loc='best');\n",
    "\n",
    "print('{:.4f} {:} {:.4f}'.format(gamma_rmrf, -99, gamma_hml))"
   ]
  },
  {
   "cell_type": "markdown",
   "metadata": {},
   "source": [
    "####Question 3\n",
    "\n",
    "Now we will perform a first-stage and second-stage GMM estimate of $\\gamma$, using rmrf and hml (Omit smb.) The homework will guide you through these calculations. The directions are a bit chatty, so this really is not as hard as it looks.\n",
    "\n",
    "Start by finding the first stage GMM estimate.\n",
    "\n",
    "$$min_{\\gamma} g_T(\\gamma)'Wg_T(\\gamma)$$\n",
    "\n",
    "with $W=I$,\n",
    "\n",
    "$$g_T(\\gamma)=E\\left[\\left(\\frac{c_{t+1}}{c_t}\\right)^{-\\gamma}R^e_{t+1}\\right]$$\n",
    "\n",
    "\n",
    "and using $R^e=[rmrf \\; hml]′$.\n",
    "\n",
    "Report your $\\hat\\gamma$ accurate to one decimal. "
   ]
  },
  {
   "cell_type": "code",
   "execution_count": 5,
   "metadata": {
    "collapsed": false,
    "scrolled": true
   },
   "outputs": [
    {
     "name": "stdout",
     "output_type": "stream",
     "text": [
      "80.95\n"
     ]
    },
    {
     "name": "stderr",
     "output_type": "stream",
     "text": [
      "/usr/local/lib/python3.4/dist-packages/matplotlib-1.5.x-py3.4-linux-x86_64.egg/matplotlib/font_manager.py:1279: UserWarning: findfont: Font family ['monospace'] not found. Falling back to Bitstream Vera Sans\n",
      "  (prop.get_family(), self.defaultFamily[fontext]))\n"
     ]
    },
    {
     "data": {
      "image/png": "[encoded data removed]",
      "text/plain": [
       "<matplotlib.figure.Figure at 0x7fc5cb6ea550>"
      ]
     },
     "metadata": {},
     "output_type": "display_data"
    }
   ],
   "source": [
    "def g_t(gamma):\n",
    "    return (np.c_[gmm_data.rmrf * gmm_data.dc**-gamma,\n",
    "                  gmm_data.hml  * gmm_data.dc**-gamma]).mean(0)\n",
    "\n",
    "def obj_fun(gamma):\n",
    "    return g_t(gamma).dot(np.eye(2)).dot(g_t(gamma))\n",
    "\n",
    "\n",
    "gamma = opt.minimize(obj_fun, 80, tol=1e-8)\n",
    "print ('{:.2f}'.format(*gamma.x))\n",
    "\n",
    "interval = np.linspace(0,200, num=200)\n",
    "plt.plot(interval, [obj_fun(i) for i in interval], label = '$g_T(\\gamma)$')\n",
    "plt.yscale('log')\n",
    "plt.legend(loc='best');"
   ]
  },
  {
   "cell_type": "markdown",
   "metadata": {},
   "source": [
    "####Question 4\n",
    "\n",
    "Next, we're going to compute the standard error of $\\hat \\gamma$. This requires several steps.\n",
    "\n",
    "First, compute\n",
    "\n",
    "$$d = \\frac{d g_T(\\gamma)}{d \\gamma}$$\n",
    "\n",
    "Be careful.\n",
    "\n",
    "$$\\frac{ d}{d \\gamma}  \\left( \\frac{c_{t+1}}{c_t} \\right)^{-\\gamma} \\neq -\\gamma\n",
    "\\left(\\frac{c_{t+1}}{c_t}\\right)^{-\\gamma-1}!$$\n",
    "\n",
    "The correct $d$ matrix is\n",
    "\n",
    "$$d=\\frac{\\partial }{\\partial \\gamma }E\\left[ \\left( \\frac{c_{t+1}}{c_{t}}%\n",
    "\\right) ^{-\\gamma }R_{t+1}^{e}\\right] =\\frac{\\partial }{\\partial \\gamma }E%\n",
    "\\left[ e^{-\\gamma \\log (c_{t+1}/c_{t})}R_{t+1}^{e}\\right] \\\\\n",
    "=-E\\left[ \\log \\left( \\frac{c_{t+1}}{c_{t}}\\right) e^{-\\gamma \\log\n",
    "(c_{t+1}/c_{t})}R_{t+1}^{e}\\right] \n",
    "=-E \\left[ \\log\n",
    "\\left( \\frac{c_{t+1}}{c_{t}}\\right) \n",
    "\\left( \\frac {c_{t+1}}{c_{t}} \\right) ^{-\\gamma} R_{t+1}^{e} \\right]$$\n",
    "\n",
    "Next, compute $a=d′W$. (Recall the first order condition for the minimization is $d′Wg_T(\\hat \\gamma)=0$.)\n",
    "\n",
    "Look at your $a=d′W$ matrix. Is GMM paying equal attention to weighting one return vs. another one? Why? "
   ]
  },
  {
   "cell_type": "code",
   "execution_count": 6,
   "metadata": {
    "collapsed": false
   },
   "outputs": [
    {
     "name": "stdout",
     "output_type": "stream",
     "text": [
      "-0.00033037 -0.00014241\n"
     ]
    }
   ],
   "source": [
    "d = -np.c_[gmm_data.rmrf * np.log(gmm_data.dc) * (gmm_data.dc**-gamma.x), \n",
    "           gmm_data.hml  * np.log(gmm_data.dc) * (gmm_data.dc**-gamma.x)].mean(axis = 0)\n",
    "\n",
    "a = d.dot(np.eye(2))\n",
    "\n",
    "print ('{:.8f} {:.8f}'.format(*d))"
   ]
  },
  {
   "cell_type": "markdown",
   "metadata": {},
   "source": [
    ">**Answer: GMM pays more attention to rmrf, because it has a larger element of the d matrix, its moment is more sensitive to $\\gamma$. ** "
   ]
  },
  {
   "cell_type": "markdown",
   "metadata": {},
   "source": [
    "####Question 5\n",
    "\n",
    "Next, compute the $S$ matrix. For the purposes of a homework, we can exploit the null that $E_t(m_{t+1}R^e_{t+1})=0$ to ignore all the lead and lag terms of $S$. It's also a good idea to remove the sample mean of $m_{t+1}R^e_{t+1}$, so you are just calculating the covariance matrix of $u_t=f(x_t,b)=m_{t+1}R^e_{t+1}$. (Under the null the mean is zero, so covariance and second moment are the same asymptotically.)\n",
    "\n",
    "Finally, program up the standard error formula,\n",
    "\n",
    "$$var(\\hat\\gamma)=\\frac{1}{T}(ad)^{−1}aSa′(ad)^{−1}′$$\n",
    "\n",
    "Report the standard error (not variance) of your $\\gamma$ estimate. "
   ]
  },
  {
   "cell_type": "code",
   "execution_count": 7,
   "metadata": {
    "collapsed": false
   },
   "outputs": [
    {
     "name": "stdout",
     "output_type": "stream",
     "text": [
      "52.1872\n"
     ]
    },
    {
     "data": {
      "text/html": [
       "<div style=\"max-height:1000px;max-width:1500px;overflow:auto;\">\n",
       "<table border=\"1\" class=\"dataframe\">\n",
       "  <thead>\n",
       "    <tr style=\"text-align: right;\">\n",
       "      <th></th>\n",
       "      <th>rmrf</th>\n",
       "      <th>hml</th>\n",
       "    </tr>\n",
       "  </thead>\n",
       "  <tbody>\n",
       "    <tr>\n",
       "      <th>rmrf</th>\n",
       "      <td>0.031083</td>\n",
       "      <td>-0.006385</td>\n",
       "    </tr>\n",
       "    <tr>\n",
       "      <th>hml</th>\n",
       "      <td>-0.006385</td>\n",
       "      <td>0.004065</td>\n",
       "    </tr>\n",
       "  </tbody>\n",
       "</table>\n",
       "</div>"
      ],
      "text/plain": [
       "          rmrf       hml\n",
       "rmrf  0.031083 -0.006385\n",
       "hml  -0.006385  0.004065"
      ]
     },
     "execution_count": 7,
     "metadata": {},
     "output_type": "execute_result"
    }
   ],
   "source": [
    "# Calculate m,x and the m*x series\n",
    "gmm_data['m'] = pd.Series(gmm_data.dc**-gamma.x)\n",
    "mx = gmm_data[['rmrf', 'hml']].multiply(gmm_data.m, axis=0)\n",
    "\n",
    "# Compute the second moment matrix\n",
    "S = mx.cov()\n",
    "\n",
    "# Calculate the variance and standard error\n",
    "ad_inv = 1/a.dot(d)\n",
    "var = np.dot(ad_inv,a).dot(S).dot(a[:,np.newaxis]).dot(ad_inv) / gmm_data.shape[0]\n",
    "se = np.sqrt(var)\n",
    "\n",
    "print('{:.4f}'.format(*se))\n",
    "S"
   ]
  },
  {
   "cell_type": "markdown",
   "metadata": {},
   "source": [
    "####Question 6\n",
    "\n",
    "Now let's look at the variance of the moments $g_T(\\hat b)$. As a reminder, the formula is\n",
    "\n",
    "$$\\text{cov}\\left(g_T(\\hat{\\gamma})\\right) = \\frac{1}{T}\\left(I-d(ad)^{-1}a \\right)S\\left(\\cdot\\right)'$$\n",
    "\n",
    "Present $g_T(\\hat\\gamma)$, $\\sigma(g_T(\\hat\\gamma))$, and $E_T(R_e)$. $g_T(\\hat\\gamma)$ are your pricing errors, sample alphas. So this computation asks if the sample alphas are large, compared to average returns, and whether they are statistically significant.\n",
    "\n",
    "Optional: Compute the first-stage overidentifying restrictions test\n",
    "\n",
    "$$g_T(\\hat{\\gamma})'\\text{cov}\\left(g_T(\\hat{\\gamma})\\right)^{+}g_T(\\hat{\\gamma}) \\sim \\chi^2_{1}$$\n",
    "\n",
    "where + denotes pseudo-inversion of a singular matrix. Is the model rejected? "
   ]
  },
  {
   "cell_type": "code",
   "execution_count": 8,
   "metadata": {
    "collapsed": false
   },
   "outputs": [
    {
     "name": "stdout",
     "output_type": "stream",
     "text": [
      "0.9618 0.4923\n",
      "0.0250\n"
     ]
    },
    {
     "data": {
      "text/plain": [
       "array([[  3.21857092e-05,  -7.46672971e-05],\n",
       "       [ -7.46672971e-05,   1.73219898e-04]])"
      ]
     },
     "execution_count": 8,
     "metadata": {},
     "output_type": "execute_result"
    }
   ],
   "source": [
    "cov_g_hat = (np.eye(2)-(d[:,np.newaxis].dot(ad_inv)).dot(a[np.newaxis])).dot(S.T).dot(\n",
    "            (np.eye(2)-(d[:,np.newaxis].dot(ad_inv)).dot(a[np.newaxis]))) / \\\n",
    "             gmm_data.dc.shape[0]\n",
    "    \n",
    "alphas = (mx.rmrf.std()/gmm_data.rmrf.std(), mx.hml.std()/gmm_data.hml.std())\n",
    "\n",
    "print('{:.4f} {:.4f}'.format(*alphas))\n",
    "\n",
    "chi_sq = g_t(gamma.x).dot(np.linalg.pinv(cov_g_hat)).dot(g_t(gamma.x))\n",
    "print ('{:.4f}'.format(chi_sq))\n",
    "cov_g_hat"
   ]
  },
  {
   "cell_type": "markdown",
   "metadata": {},
   "source": [
    "> **Answers:**\n",
    "\n",
    "> **The pricing errors $g_T=E_T(mR^e)$ are, on an economic basis, much smaller than the $E_T(R^e)$**\n",
    "\n",
    "> **The pricing errors $g_T$ are statistically insignificant.**\n",
    "\n",
    "> **The pricing errors $g_T$ are many standard errors different from expected excess returns **"
   ]
  },
  {
   "cell_type": "markdown",
   "metadata": {},
   "source": [
    "####Question 7\n",
    "\n",
    "Everything is looking super for the consumption-based model, except perhaps the large standard error of $\\hat\\gamma$. The essence of the model is $E(R^e) = R^f cov\\left(R^e,\\left(\\frac{c_{t+1}}{c_t}\\right)^{-\\gamma}\\right)$ -- assets with higher average returns covary more (negatively) with marginal utility growth. Plot $\\left(\\frac{c_{t+1}}{c_t}\\right)^{-\\hat{\\gamma}}$ together with your asset returns rmrf and hml, to answer the following question. "
   ]
  },
  {
   "cell_type": "code",
   "execution_count": 9,
   "metadata": {
    "collapsed": false
   },
   "outputs": [
    {
     "data": {
      "text/html": [
       "<div style=\"max-height:1000px;max-width:1500px;overflow:auto;\">\n",
       "<table border=\"1\" class=\"dataframe\">\n",
       "  <thead>\n",
       "    <tr style=\"text-align: right;\">\n",
       "      <th></th>\n",
       "      <th>dc</th>\n",
       "      <th>rmrf</th>\n",
       "      <th>smb</th>\n",
       "      <th>hml</th>\n",
       "      <th>rf</th>\n",
       "      <th>m</th>\n",
       "    </tr>\n",
       "  </thead>\n",
       "  <tbody>\n",
       "    <tr>\n",
       "      <th>dc</th>\n",
       "      <td>1.000000</td>\n",
       "      <td>0.301194</td>\n",
       "      <td>0.056972</td>\n",
       "      <td>0.272944</td>\n",
       "      <td>0.022382</td>\n",
       "      <td>-0.800124</td>\n",
       "    </tr>\n",
       "    <tr>\n",
       "      <th>rmrf</th>\n",
       "      <td>0.301194</td>\n",
       "      <td>1.000000</td>\n",
       "      <td>0.261329</td>\n",
       "      <td>-0.125273</td>\n",
       "      <td>-0.228107</td>\n",
       "      <td>-0.299629</td>\n",
       "    </tr>\n",
       "    <tr>\n",
       "      <th>smb</th>\n",
       "      <td>0.056972</td>\n",
       "      <td>0.261329</td>\n",
       "      <td>1.000000</td>\n",
       "      <td>0.006841</td>\n",
       "      <td>-0.016608</td>\n",
       "      <td>0.008732</td>\n",
       "    </tr>\n",
       "    <tr>\n",
       "      <th>hml</th>\n",
       "      <td>0.272944</td>\n",
       "      <td>-0.125273</td>\n",
       "      <td>0.006841</td>\n",
       "      <td>1.000000</td>\n",
       "      <td>0.094239</td>\n",
       "      <td>-0.223286</td>\n",
       "    </tr>\n",
       "    <tr>\n",
       "      <th>rf</th>\n",
       "      <td>0.022382</td>\n",
       "      <td>-0.228107</td>\n",
       "      <td>-0.016608</td>\n",
       "      <td>0.094239</td>\n",
       "      <td>1.000000</td>\n",
       "      <td>-0.028325</td>\n",
       "    </tr>\n",
       "    <tr>\n",
       "      <th>m</th>\n",
       "      <td>-0.800124</td>\n",
       "      <td>-0.299629</td>\n",
       "      <td>0.008732</td>\n",
       "      <td>-0.223286</td>\n",
       "      <td>-0.028325</td>\n",
       "      <td>1.000000</td>\n",
       "    </tr>\n",
       "  </tbody>\n",
       "</table>\n",
       "</div>"
      ],
      "text/plain": [
       "            dc      rmrf       smb       hml        rf         m\n",
       "dc    1.000000  0.301194  0.056972  0.272944  0.022382 -0.800124\n",
       "rmrf  0.301194  1.000000  0.261329 -0.125273 -0.228107 -0.299629\n",
       "smb   0.056972  0.261329  1.000000  0.006841 -0.016608  0.008732\n",
       "hml   0.272944 -0.125273  0.006841  1.000000  0.094239 -0.223286\n",
       "rf    0.022382 -0.228107 -0.016608  0.094239  1.000000 -0.028325\n",
       "m    -0.800124 -0.299629  0.008732 -0.223286 -0.028325  1.000000"
      ]
     },
     "execution_count": 9,
     "metadata": {},
     "output_type": "execute_result"
    },
    {
     "data": {
      "image/png": "[encoded data removed]",
      "text/plain": [
       "<matplotlib.figure.Figure at 0x7fc5cb571588>"
      ]
     },
     "metadata": {},
     "output_type": "display_data"
    }
   ],
   "source": [
    "gmm_data[['rmrf', 'hml', 'm']].plot()\n",
    "gmm_data.corr()"
   ]
  },
  {
   "cell_type": "markdown",
   "metadata": {},
   "source": [
    ">**Answer: The correlation between m and returns is driven by 3 or 4 data points with huge spikes in m, and negative returns. **"
   ]
  },
  {
   "cell_type": "markdown",
   "metadata": {
    "collapsed": true
   },
   "source": [
    "#Homework: GMM Part II\n",
    "\n",
    "####Question 1\n",
    "\n",
    "We are going to continue our exploration of GMM in the consumption-based model,\n",
    "\n",
    "$$E\\left[\\left(\\frac{c_{t+1}}{c_t}\\right)^{-\\gamma}R^e_{t+1}\\right]=0$$\n",
    "\n",
    "I encourage you to submit your final answers to part I and read my explanations before continuing, as a way to make sure you're not on a wrong track.\n",
    "\n",
    "Now, form the second-stage \"efficient\" GMM estimate,\n",
    "\n",
    "$$min_\\gamma g_T(\\gamma)'S^{-1}g_T(\\gamma)$$\n",
    "\n",
    "Again, you have to search for $\\gamma$. Report your estimate $\\hat\\gamma$ accurate to one decimal. To ponder: Why is it different from your first-stage estimate?\n"
   ]
  },
  {
   "cell_type": "code",
   "execution_count": 10,
   "metadata": {
    "collapsed": false
   },
   "outputs": [
    {
     "name": "stdout",
     "output_type": "stream",
     "text": [
      "88.34\n"
     ]
    },
    {
     "name": "stderr",
     "output_type": "stream",
     "text": [
      "/usr/local/lib/python3.4/dist-packages/matplotlib-1.5.x-py3.4-linux-x86_64.egg/matplotlib/font_manager.py:1279: UserWarning: findfont: Font family ['monospace'] not found. Falling back to Bitstream Vera Sans\n",
      "  (prop.get_family(), self.defaultFamily[fontext]))\n"
     ]
    },
    {
     "data": {
      "image/png": "[encoded data removed]",
      "text/plain": [
       "<matplotlib.figure.Figure at 0x7fc5cb5719e8>"
      ]
     },
     "metadata": {},
     "output_type": "display_data"
    }
   ],
   "source": [
    "def obj_fun(gamma):\n",
    "    return g_t(gamma).dot(np.linalg.pinv(S)).dot(g_t(gamma))\n",
    "\n",
    "\n",
    "gamma_prime = opt.minimize(obj_fun, 80, tol=1e-8)\n",
    "print ('{:.2f}'.format(*gamma_prime.x))\n",
    "\n",
    "interval = np.linspace(0,200, num=200)\n",
    "plt.plot(interval, [obj_fun(i) for i in interval], label = '$g_T(\\gamma)$')\n",
    "plt.yscale('log')\n",
    "plt.legend(loc='best');"
   ]
  },
  {
   "cell_type": "markdown",
   "metadata": {},
   "source": [
    "####Question 2\n",
    "\n",
    "Using the d matrix evaluated at your new estimate,\n",
    "\n",
    "$$d = \\left. \\frac{d g_T(\\gamma)}{d \\gamma} \\right|_{\\hat{\\gamma}}$$\n",
    "\n",
    "$$d=-E \\left[ \\log\n",
    "\\left( \\frac{c_{t+1}}{c_{t}}\\right) \n",
    "\\left( \\frac {c_{t+1}}{c_{t}} \\right) ^{-\\hat{\\gamma}} R_{t+1}^{e} \\right]$$\n",
    "\n",
    "\n",
    "compute $a=d′S^{−1}$. (Recall the first order condition for the minimization is $d′S^{−1}gT_(\\hat\\gamma)=0$.)\n",
    "\n",
    "Look at your $a=d′S^{−1}$ matrix. Is GMM paying different attention to the two moments than it was before? If so why has GMM changed its focus? "
   ]
  },
  {
   "cell_type": "code",
   "execution_count": 11,
   "metadata": {
    "collapsed": false
   },
   "outputs": [
    {
     "name": "stdout",
     "output_type": "stream",
     "text": [
      "0.2609 0.7391\n",
      "17.63% 6.38%\n"
     ]
    }
   ],
   "source": [
    "d_prime = -np.c_[gmm_data.rmrf * np.log(gmm_data.dc) * (gmm_data.dc**-gamma_prime.x), \n",
    "                 gmm_data.hml  * np.log(gmm_data.dc) * (gmm_data.dc**-gamma_prime.x)].mean(0)\n",
    "\n",
    "a = d_prime.dot(np.linalg.inv(S))\n",
    "\n",
    "print ('{:.4f} {:.4f}'.format(*a/a.sum()))\n",
    "print ('{:.2%} {:.2%}'.format(*np.diag(np.sqrt(S))))"
   ]
  },
  {
   "cell_type": "markdown",
   "metadata": {},
   "source": [
    ">**GMM is paying more attention to the hml moment, because hml is less volatile so its $g_T$ is better measured**"
   ]
  },
  {
   "cell_type": "markdown",
   "metadata": {},
   "source": [
    "####Question 3\n",
    "\n",
    "Compute the second-stage standard error,\n",
    "\n",
    "$$var(\\hat\\gamma)=\\frac{1}{T}(d′S^{−1}d)^{−1}$$\n",
    "\n",
    "Report the standard error (not variance) of your \\gamma estimate. To ponder: efficient GMM is supposed to produce better estimates, by focusing more attention on better measured moments. Is your standard error lower than the first stage standard error? By a lot? "
   ]
  },
  {
   "cell_type": "code",
   "execution_count": 12,
   "metadata": {
    "collapsed": false
   },
   "outputs": [
    {
     "name": "stdout",
     "output_type": "stream",
     "text": [
      "33.4126\n"
     ]
    }
   ],
   "source": [
    "var = 1 / (d_prime.dot(np.linalg.pinv(S)).dot(d_prime) * gmm_data.dc.shape[0])\n",
    "se = np.sqrt(var)\n",
    "\n",
    "print('{:.4f}'.format(se))"
   ]
  },
  {
   "cell_type": "markdown",
   "metadata": {},
   "source": [
    "####Question 4\n",
    "\n",
    "Compute the variance of the moments $g_T(\\hat b)$. As a reminder, the formula is\n",
    "\n",
    "$$cov(g_T(\\hat\\gamma))=\\frac{1}{T}(S−d(d′S^{−1}d)^{−1}d′)$$\n",
    "\n",
    "Calculate $gT(\\hat\\gamma)$, $σ(gT(\\hat\\gamma))$ and compare to the first-stage values. "
   ]
  },
  {
   "cell_type": "code",
   "execution_count": 13,
   "metadata": {
    "collapsed": false
   },
   "outputs": [
    {
     "data": {
      "text/html": [
       "<div style=\"max-height:1000px;max-width:1500px;overflow:auto;\">\n",
       "<table border=\"1\" class=\"dataframe\">\n",
       "  <thead>\n",
       "    <tr style=\"text-align: right;\">\n",
       "      <th></th>\n",
       "      <th>rmrf</th>\n",
       "      <th>hml</th>\n",
       "    </tr>\n",
       "  </thead>\n",
       "  <tbody>\n",
       "    <tr>\n",
       "      <th>rmrf</th>\n",
       "      <td>0.000493</td>\n",
       "      <td>-0.000102</td>\n",
       "    </tr>\n",
       "    <tr>\n",
       "      <th>hml</th>\n",
       "      <td>-0.000102</td>\n",
       "      <td>0.000064</td>\n",
       "    </tr>\n",
       "  </tbody>\n",
       "</table>\n",
       "</div>"
      ],
      "text/plain": [
       "          rmrf       hml\n",
       "rmrf  0.000493 -0.000102\n",
       "hml  -0.000102  0.000064"
      ]
     },
     "execution_count": 13,
     "metadata": {},
     "output_type": "execute_result"
    }
   ],
   "source": [
    "d_S_inv_d = d_prime.dot(np.linalg.pinv(S)).dot(d_prime)\n",
    "cov_g_hat_prime = (S - d_prime.dot(np.linalg.pinv(S)).dot(d_prime)) / gmm_data.dc.shape[0]\n",
    "\n",
    "\n",
    "(S-(d_prime/d_S_inv_d).dot(d_prime)) / gmm_data.dc.shape[0]\n",
    "cov_g_hat_prime"
   ]
  },
  {
   "cell_type": "markdown",
   "metadata": {},
   "source": [
    ">**Answer: The rmrf $g_T(\\hat\\gamma)$ is larger and the hml $g_T(\\hat\\gamma)$ is smaller, since GMM put more attention on the latter** "
   ]
  },
  {
   "cell_type": "markdown",
   "metadata": {},
   "source": [
    "####Question 5\n",
    "\n",
    "Compute the \"JT\" test of overidentifying restrictions, which tells us whether the moments (pricing errors) are statistically significantly different from zero. Reminder,\n",
    "\n",
    "$$TJ_T=Tg_T'S^{-1}g_T \\sim \\chi^2_1$$\n",
    "\n",
    "The right hand side is the objective function from the second-stage minimization. Notes: There is one degree of freedom since we have two moments and set one linear combination to zero. in estimating $\\gamma$"
   ]
  },
  {
   "cell_type": "code",
   "execution_count": 14,
   "metadata": {
    "collapsed": false
   },
   "outputs": [
    {
     "name": "stdout",
     "output_type": "stream",
     "text": [
      "test result: 0.0259 \n",
      "probability: 12.7808%\n"
     ]
    }
   ],
   "source": [
    "from scipy.stats import chi2\n",
    "T_J_test = gmm_data.dc.shape[0] * g_t(gamma_prime.x).dot(np.linalg.pinv(S)).dot(g_t(gamma_prime.x))\n",
    "\n",
    "print('test result: {:.4f} \\nprobability: {:.4%}'.format(T_J_test, chi2.cdf(T_J_test,1)))"
   ]
  },
  {
   "cell_type": "markdown",
   "metadata": {},
   "source": [
    ">**Answer: The JT test does not reject the hypothesis that the moments are zero **"
   ]
  }
 ],
 "metadata": {
  "kernelspec": {
   "display_name": "IPython (Python 3)",
   "language": "python",
   "name": "python3"
  },
  "language_info": {
   "codemirror_mode": {
    "name": "ipython",
    "version": 3
   },
   "file_extension": ".py",
   "mimetype": "text/x-python",
   "name": "python",
   "nbconvert_exporter": "python",
   "pygments_lexer": "ipython3",
   "version": "3.4.3"
  }
 },
 "nbformat": 4,
 "nbformat_minor": 0
}
