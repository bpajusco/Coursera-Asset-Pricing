{
 "cells": [
  {
   "cell_type": "markdown",
   "metadata": {},
   "source": [
    "####Question 1\n",
    "Question 1, part a)\n",
    "\n",
    "Suppose the log prices of one-, two- and three-year zero-coupon bonds are $p^{(1)}_t=−0.10$, $p^{(2)}_t=−0.30$, $p^{(3)}_t=−0.40$. Find today's log one-year yield $y^{(1)}_t$ and the two- and three-year log forward rates $f^{(2)}_t,\\:f^{(3)}_t$. Enter three numbers, separated by a space, accurate to two decimals, in net (not percent) units. For all of question 1, if the answer cannot be determined from the given information, enter \"99\".\n"
   ]
  },
  {
   "cell_type": "code",
   "execution_count": 1,
   "metadata": {
    "collapsed": true
   },
   "outputs": [],
   "source": [
    "import numpy as np\n",
    "import statsmodels.formula.api as sm"
   ]
  },
  {
   "cell_type": "code",
   "execution_count": 2,
   "metadata": {
    "collapsed": false
   },
   "outputs": [
    {
     "name": "stdout",
     "output_type": "stream",
     "text": [
      "0.10 0.20 0.10\n"
     ]
    }
   ],
   "source": [
    "p = np.array([-0.1, -0.3, -0.4])\n",
    "y = -p / np.arange(1, 4)\n",
    "f = np.diff(-p)\n",
    "\n",
    "print('{:.2f} {:.2f} {:.2f}'.format(*np.r_[y[0], f]))"
   ]
  },
  {
   "cell_type": "markdown",
   "metadata": {},
   "source": [
    "####Question 2\n",
    "\n",
    "Question 1, part b)\n",
    "\n",
    "According to the expectations hypothesis, what is the expected value of interest rates in years $t+1, \\:t+2$, and $t+3$, $E_t(y^{(1)}_{t+1}), \\:E_t(y^{(1)}_{t+2}) \\:E_t(y^{(1)}_{t+3})$? Enter three numbers, separated by a space, accurate to two decimals. Enter the rates in net, not percent units.\n"
   ]
  },
  {
   "cell_type": "code",
   "execution_count": 7,
   "metadata": {
    "collapsed": false
   },
   "outputs": [
    {
     "name": "stdout",
     "output_type": "stream",
     "text": [
      "0.20 0.10 99.00\n"
     ]
    }
   ],
   "source": [
    "print('{:.2f} {:.2f} {:.2f}'.format(*np.r_[f[0], np.diff(p, 2), 99]))"
   ]
  },
  {
   "cell_type": "markdown",
   "metadata": {},
   "source": [
    "####Question 3\n",
    "Question 1, part c)\n",
    "\n",
    "According to the expectations hypothesis, what is the expected value of forward rates at time $t+1$? What are $E_t(f^{(2)}_{t+1})$ and $E_t(f^{(3)}_{t+1})$? Enter two numbers separated by a space, accurate to two decimals and in net units. (Two numbers because you already answered $E_t(y^{(1)}_{t+1})$.)\n"
   ]
  },
  {
   "cell_type": "code",
   "execution_count": 4,
   "metadata": {
    "collapsed": false
   },
   "outputs": [
    {
     "name": "stdout",
     "output_type": "stream",
     "text": [
      "0.10 99.00\n"
     ]
    }
   ],
   "source": [
    "print('{:.2f} {:.2f}'.format(*np.r_[f[1], 99]))"
   ]
  },
  {
   "cell_type": "markdown",
   "metadata": {},
   "source": [
    "####Question 4\n",
    "Question 1, part d)\n",
    "\n",
    "Specializing the Fama-Bliss regression slope coefficients to 0 (future spot regression) and 1 (excess return regression), and ignoring the constant (i.e. set it to zero), what do Fama and Bliss say the expected one year rate $y^{(1)}_{t+1}$ and the expected return on two year bonds $E_t(rx^{(2)}_{t+1})$ are? Enter two numbers, separated by a space, in net units.\n"
   ]
  },
  {
   "cell_type": "code",
   "execution_count": 5,
   "metadata": {
    "collapsed": false
   },
   "outputs": [
    {
     "name": "stdout",
     "output_type": "stream",
     "text": [
      "0.10 0.10\n"
     ]
    }
   ],
   "source": [
    "# try to do the forward\n",
    "delta_fwd = np.diff(p, 2) \n",
    "# 'future spot regression.' I think.\n",
    "beta_fwd = 0\n",
    "dely = beta_fwd * delta_fwd\n",
    "next_oyrate = y[0] + dely\n",
    "exp_2yr = 0\n",
    "# 'excess return regression.' I think\n",
    "beta_exr = 1\n",
    "rtp1_2 = beta_exr * delta_fwd\n",
    "\n",
    "print('{:.2f} {:.2f}'.format(*np.r_[next_oyrate, rtp1_2]))"
   ]
  },
  {
   "cell_type": "markdown",
   "metadata": {},
   "source": [
    "####Question 5\n",
    "Question 2 part a)\n",
    "\n",
    "You have a set of 3 excess returns $R^e_{t+1}(3×1)$. You form the covariance matrix $\\Sigma=cov(R^eR^{e\\prime})$. You eigenvalue decompose $\\Sigma=Q\\Lambda Q^\\prime$, and the result is\n",
    "\n",
    "$$Q = \\left[ \n",
    "\\begin{array}{rrr} \\\\ \n",
    "0.58 &-0.71 & -0.41 \\\\\n",
    "0.58 & 0.00 &  0.81 \\\\\n",
    "0.58 & 0.71 & -0.41 \\\\\n",
    "\\end{array} \\right]\n",
    "= \\left[ \n",
    "\\begin{array}{rrr} \\\\ \n",
    "1/\\sqrt{3} &-1/\\sqrt{2} & -1/\\sqrt{6} \\\\\n",
    "1/\\sqrt{3} & 0.00 &  2/\\sqrt{6} \\\\\n",
    "1/\\sqrt{3} & 1/\\sqrt{2}& -1/\\sqrt{6} \\\\\n",
    "\\end{array} \\right]$$\n",
    "\n",
    "$$\\Lambda = \n",
    "\\left[ \n",
    "\\begin{array}{rrr} \\\\ \n",
    "3.00 &0 & 0 \\\\\n",
    "0 & 1.00 &  0 \\\\\n",
    "0 & 0 & 0.06 \\\\\n",
    "\\end{array} \\right]$$\n",
    "You want to form a one-factor model that captures the most variance, i.e. maximizes $R^2$ in factor model regressions.\n",
    "\n",
    "What weights do you use to form factors from the return data -- what is $w$ in $f_t=w^\\prime R^e_t$? Enter three numbers, separated by a space, accurate to two decimal points.\n"
   ]
  },
  {
   "cell_type": "code",
   "execution_count": 6,
   "metadata": {
    "collapsed": false
   },
   "outputs": [
    {
     "name": "stdout",
     "output_type": "stream",
     "text": [
      "0.5774 0.5774 0.5774\n"
     ]
    }
   ],
   "source": [
    "irt2 = 1 / np.sqrt(2)\n",
    "irt3 = 1 / np.sqrt(3)\n",
    "irt6 = 1 / np.sqrt(6)\n",
    "\n",
    "Q = np.c_[[irt3, irt3, irt3],  [-irt2, 0, irt2],   [-irt6, 2 * irt6, -irt6]]\n",
    "L = np.eye(3) * [3, 1, 0.06]\n",
    "Sigma = Q.dot(L).dot(Q.T)\n",
    "u, s, v = np.linalg.svd(Sigma)\n",
    "\n",
    "print('{:.4f} {:.4f} {:.4f}'.format(*np.abs(u[:, 0])))"
   ]
  },
  {
   "cell_type": "markdown",
   "metadata": {},
   "source": [
    "####Question 6\n",
    "Question 2, part b)\n",
    "\n",
    "What loadings will your factor model have on the first factor? If you run a regression of each return on the first factor, $R^{(ei)}_t=a+b_if_t+ε^{(i)}_t$, what values of $b_i$ will you recover? Enter three numbers, separated by a space, accurate to two decimal points.\n"
   ]
  },
  {
   "cell_type": "code",
   "execution_count": 30,
   "metadata": {
    "collapsed": false
   },
   "outputs": [
    {
     "name": "stdout",
     "output_type": "stream",
     "text": [
      "0.5774 0.5774 0.5774\n"
     ]
    },
    {
     "data": {
      "text/html": [
       "<div style=\"max-height:1000px;max-width:1500px;overflow:auto;\">\n",
       "<table border=\"1\" class=\"dataframe\">\n",
       "  <thead>\n",
       "    <tr style=\"text-align: right;\">\n",
       "      <th></th>\n",
       "      <th>0</th>\n",
       "      <th>1</th>\n",
       "      <th>2</th>\n",
       "    </tr>\n",
       "  </thead>\n",
       "  <tbody>\n",
       "    <tr>\n",
       "      <th>factor</th>\n",
       "      <td>-0.577879</td>\n",
       "      <td>-0.577413</td>\n",
       "      <td>-0.576759</td>\n",
       "    </tr>\n",
       "  </tbody>\n",
       "</table>\n",
       "</div>"
      ],
      "text/plain": [
       "               0         1         2\n",
       "factor -0.577879 -0.577413 -0.576759"
      ]
     },
     "execution_count": 30,
     "metadata": {},
     "output_type": "execute_result"
    }
   ],
   "source": [
    "X = np.random.multivariate_normal(np.zeros(3), Sigma, 1000000)\n",
    "factor_reg = sm.ols('X ~ factor', data = {'X' : X, 'factor' : X.dot(u[:, 0])}).fit()\n",
    "\n",
    "print('{:.4f} {:.4f} {:.4f}'.format(*np.abs(u[:, 0])))\n",
    "factor_reg.params.ix[['factor']]"
   ]
  },
  {
   "cell_type": "markdown",
   "metadata": {
    "collapsed": false
   },
   "source": [
    "####Question 7\n",
    "Question 2, part c)\n",
    "\n",
    "What R2 value will you achieve in the regression of $R(^{e1}_t)$ on the first factor? Enter your answer as a decimal."
   ]
  },
  {
   "cell_type": "code",
   "execution_count": 29,
   "metadata": {
    "collapsed": false
   },
   "outputs": [
    {
     "name": "stdout",
     "output_type": "stream",
     "text": [
      "0.6631\n"
     ]
    },
    {
     "data": {
      "text/html": [
       "<table class=\"simpletable\">\n",
       "<caption>OLS Regression Results</caption>\n",
       "<tr>\n",
       "  <th>Dep. Variable:</th>            <td>X</td>        <th>  R-squared:         </th>  <td>   0.663</td>  \n",
       "</tr>\n",
       "<tr>\n",
       "  <th>Model:</th>                   <td>OLS</td>       <th>  Adj. R-squared:    </th>  <td>   0.663</td>  \n",
       "</tr>\n",
       "<tr>\n",
       "  <th>Method:</th>             <td>Least Squares</td>  <th>  F-statistic:       </th>  <td>1.968e+06</td> \n",
       "</tr>\n",
       "<tr>\n",
       "  <th>Date:</th>             <td>Wed, 20 May 2015</td> <th>  Prob (F-statistic):</th>   <td>  0.00</td>   \n",
       "</tr>\n",
       "<tr>\n",
       "  <th>Time:</th>                 <td>13:51:28</td>     <th>  Log-Likelihood:    </th> <td>-1.0810e+06</td>\n",
       "</tr>\n",
       "<tr>\n",
       "  <th>No. Observations:</th>      <td>1000000</td>     <th>  AIC:               </th>  <td>2.162e+06</td> \n",
       "</tr>\n",
       "<tr>\n",
       "  <th>Df Residuals:</th>          <td>999998</td>      <th>  BIC:               </th>  <td>2.162e+06</td> \n",
       "</tr>\n",
       "<tr>\n",
       "  <th>Df Model:</th>              <td>     1</td>      <th>                     </th>      <td> </td>     \n",
       "</tr>\n",
       "<tr>\n",
       "  <th>Covariance Type:</th>      <td>nonrobust</td>    <th>                     </th>      <td> </td>     \n",
       "</tr>\n",
       "</table>\n",
       "<table class=\"simpletable\">\n",
       "<tr>\n",
       "      <td></td>         <th>coef</th>     <th>std err</th>      <th>t</th>      <th>P>|t|</th> <th>[95.0% Conf. Int.]</th> \n",
       "</tr>\n",
       "<tr>\n",
       "  <th>Intercept</th> <td>   -0.0009</td> <td>    0.001</td> <td>   -1.207</td> <td> 0.227</td> <td>   -0.002     0.001</td>\n",
       "</tr>\n",
       "<tr>\n",
       "  <th>factor</th>    <td>   -0.5777</td> <td>    0.000</td> <td>-1402.968</td> <td> 0.000</td> <td>   -0.578    -0.577</td>\n",
       "</tr>\n",
       "</table>\n",
       "<table class=\"simpletable\">\n",
       "<tr>\n",
       "  <th>Omnibus:</th>       <td> 3.912</td> <th>  Durbin-Watson:     </th> <td>   2.002</td>\n",
       "</tr>\n",
       "<tr>\n",
       "  <th>Prob(Omnibus):</th> <td> 0.141</td> <th>  Jarque-Bera (JB):  </th> <td>   3.909</td>\n",
       "</tr>\n",
       "<tr>\n",
       "  <th>Skew:</th>          <td> 0.005</td> <th>  Prob(JB):          </th> <td>   0.142</td>\n",
       "</tr>\n",
       "<tr>\n",
       "  <th>Kurtosis:</th>      <td> 3.002</td> <th>  Cond. No.          </th> <td>    1.73</td>\n",
       "</tr>\n",
       "</table>"
      ],
      "text/plain": [
       "<class 'statsmodels.iolib.summary.Summary'>\n",
       "\"\"\"\n",
       "                            OLS Regression Results                            \n",
       "==============================================================================\n",
       "Dep. Variable:                      X   R-squared:                       0.663\n",
       "Model:                            OLS   Adj. R-squared:                  0.663\n",
       "Method:                 Least Squares   F-statistic:                 1.968e+06\n",
       "Date:                Wed, 20 May 2015   Prob (F-statistic):               0.00\n",
       "Time:                        13:51:28   Log-Likelihood:            -1.0810e+06\n",
       "No. Observations:             1000000   AIC:                         2.162e+06\n",
       "Df Residuals:                  999998   BIC:                         2.162e+06\n",
       "Df Model:                           1                                         \n",
       "Covariance Type:            nonrobust                                         \n",
       "==============================================================================\n",
       "                 coef    std err          t      P>|t|      [95.0% Conf. Int.]\n",
       "------------------------------------------------------------------------------\n",
       "Intercept     -0.0009      0.001     -1.207      0.227        -0.002     0.001\n",
       "factor        -0.5777      0.000  -1402.968      0.000        -0.578    -0.577\n",
       "==============================================================================\n",
       "Omnibus:                        3.912   Durbin-Watson:                   2.002\n",
       "Prob(Omnibus):                  0.141   Jarque-Bera (JB):                3.909\n",
       "Skew:                           0.005   Prob(JB):                        0.142\n",
       "Kurtosis:                       3.002   Cond. No.                         1.73\n",
       "==============================================================================\n",
       "\n",
       "Warnings:\n",
       "[1] Standard Errors assume that the covariance matrix of the errors is correctly specified.\n",
       "\"\"\""
      ]
     },
     "execution_count": 29,
     "metadata": {},
     "output_type": "execute_result"
    }
   ],
   "source": [
    "factor1_reg = sm.ols('X ~ factor', data = {'X' : X[:, 0], 'factor' : X.dot(u[:, 0])}).fit()\n",
    "\n",
    "print('{:.4f}'.format(factor1_reg.rsquared))\n",
    "factor1_reg.summary()"
   ]
  },
  {
   "cell_type": "markdown",
   "metadata": {},
   "source": [
    "####Question 8\n",
    "Question 3 part a)\n",
    "\n",
    "Let's solve a simple term structure model. Suppose the state variable $X_t$ follows an $MA(1)$,\n",
    "$$X_t=\\epsilon_t+\\theta\\epsilon_{t−1}$$\n",
    "and the discount factor is\n",
    "$$M_{t+1}=e^{−X_t−\\frac{1}{2}\\lambda^2X^2_t\\sigma^2_\\epsilon−\\lambda X_t\\epsilon_{t+1}}$$\n",
    "Remember, $\\epsilon_t$ is known at time $t$, so $E_t(\\epsilon_t)=\\epsilon_t$, not $0$, and $\\sigma_t(\\epsilon t)=0$ not $\\sigma^2_\\epsilon$. Also, this will be a two state variable model, as both $X_t$ and $\\epsilon_{t−1}$ or equivalently $\\epsilon_t$ and $\\epsilon_{t−1}$ describe where we are at any given date.\n",
    "\n",
    "Find the price of a one-period bond, and hence the yield $y^{(1)}_t$. To check your answer, enter the numerical value of $y^{(1)}_t$ if $\\theta=1$, $\\lambda=50$,$\\sigma\\epsilon=0.10$, and $\\epsilon_t=0.01$, $\\epsilon_{t−1}=0.01$ and hence $X_t=0.02$. Enter $y^{(1)}_t$ as a percent (10, not 0.10), accurate to two decimal places.\n"
   ]
  },
  {
   "cell_type": "code",
   "execution_count": 36,
   "metadata": {
    "collapsed": false
   },
   "outputs": [
    {
     "name": "stdout",
     "output_type": "stream",
     "text": [
      "2.0\n"
     ]
    }
   ],
   "source": [
    "params = {'theta' : 1, 'lambda' : 50, 'sigma.e' : 0.10, 'epsilon.t' : 0.01,\n",
    "          'epsilon.tm1' : 0.01, 'Xt' : 0.02}\n",
    "\n",
    "print(params['Xt'] * 100)"
   ]
  },
  {
   "cell_type": "markdown",
   "metadata": {},
   "source": [
    "####Question 9\n",
    "Question 3 part b)\n",
    "\n",
    "Find the price $p^{(2)}_t$ of a two-year bond, and hence the two-year forward rate, $f^{(2)}_t$, under the same assumptions as the previous question. To check your answer, calculate the forward rate $f^{(2)}_t$ in the given parameter configuration, and enter it as a percent, accurate to two decimal places.\n"
   ]
  },
  {
   "cell_type": "code",
   "execution_count": 42,
   "metadata": {
    "collapsed": false
   },
   "outputs": [
    {
     "name": "stdout",
     "output_type": "stream",
     "text": [
      "-0.50\n"
     ]
    }
   ],
   "source": [
    "logp1 = -params['Xt']\n",
    "logp2 = 0.5 * params['sigma.e']**2 + (params['lambda'] * params['sigma.e']**2 - 1) * \\\n",
    "       params['Xt'] - params['theta'] * params['epsilon.t']\n",
    "\n",
    "print('{:.2f}'.format((logp1 - logp2) * 100))"
   ]
  },
  {
   "cell_type": "markdown",
   "metadata": {},
   "source": [
    "####Question 10\n",
    "Question 3 part c)\n",
    "\n",
    "Now find the expected value of the one-year yield one year ahead, $E_ty^{(1)}_{t+1}$, and the expected return of the two year bond $E_tr^{(2)}_{t+1}$. To check all your answers, find the relationship between the forward rate $f^{(2)}_t$ and these two quantities, and make sure it holds. Stop and savor how the market price of risk $\\lambda$ controls the split of the forward rate between expected interest rate changes and risk premium. To check your answer, enter $E_ty^{(1)}_{t+1}$ and $E_tr^{(2)}_{t+1}$, as percent values, separated by a space.\n"
   ]
  },
  {
   "cell_type": "code",
   "execution_count": 44,
   "metadata": {
    "collapsed": false
   },
   "outputs": [
    {
     "name": "stdout",
     "output_type": "stream",
     "text": [
      "1.00 0.50\n"
     ]
    }
   ],
   "source": [
    "# note that the *expected* value of p^1_{t+1} is E[x_t+1] = E[epsilon_t+1] + Theta * epsilon.t\n",
    "Extp1 = 0 + params['theta'] * params['epsilon.t']\n",
    "p1tp1 = - Extp1\n",
    "Eytp1 = - p1tp1\n",
    "p2t = logp2\n",
    "\n",
    "Er2tp1 = p1tp1 - p2t\n",
    "\n",
    "print('{:.2f} {:.2f}'.format(*np.r_[Eytp1, Er2tp1] * 100))\n"
   ]
  }
 ],
 "metadata": {
  "kernelspec": {
   "display_name": "IPython (Python 3)",
   "language": "python",
   "name": "python3"
  },
  "language_info": {
   "codemirror_mode": {
    "name": "ipython",
    "version": 3
   },
   "file_extension": ".py",
   "mimetype": "text/x-python",
   "name": "python",
   "nbconvert_exporter": "python",
   "pygments_lexer": "ipython3",
   "version": "3.4.3"
  }
 },
 "nbformat": 4,
 "nbformat_minor": 0
}
