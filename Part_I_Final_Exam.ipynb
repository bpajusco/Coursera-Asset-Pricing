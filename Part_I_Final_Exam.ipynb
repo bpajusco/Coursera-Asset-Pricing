{
 "cells": [
  {
   "cell_type": "markdown",
   "metadata": {},
   "source": [
    "#Part I  - Final Exam\n",
    "\n",
    "####Question 1\n",
    "Question 1, Part a.\n",
    "\n",
    "An investor has preferences with a minimum subsistence level of consumption h, so she maximizes\n",
    "\n",
    "$$E\\int_{t=0}^{\\infty }e^{-\\rho t}\\frac{(c_{t}-h)^{1-\\gamma }}{1-\\gamma}dt$$\n",
    "\n",
    "Suppose consumption follows\n",
    "\n",
    "$$\\frac{dc_{t}}{c_{t}}=\\mu dt+\\sigma dz_{t}$$\n",
    "\n",
    "Find the stochastic discount factor for this case, i.e. (some expression involving c) = $\\Lambda t$ where $\\Lambda t$ prices assets by $p_t = E_t \\int_{s=0}^{\\infty} \\frac{\\Lambda_{t+s}}{\\Lambda_t}x_{t+s}ds$. Throughout this problem, assume c>h and don't worry about what happens otherwise. \n",
    "\n",
    ">**Answer: $e^{-\\rho*t}  (c-h)^{-\\gamma}$**"
   ]
  },
  {
   "cell_type": "markdown",
   "metadata": {},
   "source": [
    "####Question 2\n",
    "\n",
    "Question 1, Part b.\n",
    "\n",
    "Find the real interest rate $r^f_t$. You should have three terms. Enter your formula as an algebraic expression. \n",
    "\n",
    ">**since $r^f dt = - E[\\frac{d\\Lambda}{\\Lambda}]$**\n",
    "\n",
    ">**we have**\n",
    "\n",
    ">**$\\rho + \\frac{\\gamma \\mu} {S} - \\frac{1}{2}\\gamma (\\gamma+1)(\\frac{\\sigma}{S})^2$**\n",
    "\n",
    "> **but $S = (c - h) / c$**\n",
    "\n",
    "> **so**\n",
    "\n",
    "> **Answer:$\\rho + (\\gamma \\mu \\frac{c} {(c-h)}) - \\frac{1}{2}\\gamma(\\gamma+1)(\\sigma * \\frac{c}{(c-h)})^2$**"
   ]
  },
  {
   "cell_type": "markdown",
   "metadata": {},
   "source": [
    "####Question 3\n",
    "Question 1, Part c.\n",
    "\n",
    "Enter a numerical value for the risk free rate, in percent, if $\\rho=0.05 \\; (5\\%)$, $\\gamma=2$, $c_t=10$, $h=5$, $\\mu=0.01 \\;(1\\%)$, $\\sigma=0.05 \\; (5\\%)$."
   ]
  },
  {
   "cell_type": "code",
   "execution_count": 1,
   "metadata": {
    "collapsed": false
   },
   "outputs": [
    {
     "name": "stdout",
     "output_type": "stream",
     "text": [
      "6.00%\n"
     ]
    }
   ],
   "source": [
    "rho = 0.05\n",
    "gamma = 2\n",
    "c_t = 10\n",
    "h = 5\n",
    "mu = 0.01\n",
    "sigma = 0.05\n",
    "\n",
    "print('{:.2%}'.format(rho + (gamma * mu * c_t / (c_t - h)) - 0.5 * gamma * (gamma + 1) * \n",
    "                      (sigma * c_t / (c_t - h))**2))"
   ]
  },
  {
   "cell_type": "markdown",
   "metadata": {},
   "source": [
    "###Question 4\n",
    "Question 1, Part d.\n",
    "\n",
    "Find the maximum instantaneous Sharpe ratio among all assets priced by this discount factor. Express your answer in annual units, i.e. $SR = (E(dR)-r^f)/\\sigma(dR)$. \n",
    "\n",
    ">**Answer: the formula is:  $\\frac{\\gamma \\sigma}{S}$**\n",
    "\n",
    ">**so : $\\gamma \\sigma{\\frac{c}{c-h}}$**\n"
   ]
  },
  {
   "cell_type": "markdown",
   "metadata": {},
   "source": [
    "####Question 5\n",
    "\n",
    "Question 1, Part e.\n",
    "\n",
    "Enter the numerical value of the maximum Sharpe ratio, in percent, if $\\rho=0.05 \\; (5\\%)$, $\\gamma=2$, $c_t=10$, $h=5$, $\\mu=0.01 \\;(1\\%)$, $\\sigma=0.05 \\; (5\\%)$."
   ]
  },
  {
   "cell_type": "code",
   "execution_count": 2,
   "metadata": {
    "collapsed": false
   },
   "outputs": [
    {
     "name": "stdout",
     "output_type": "stream",
     "text": [
      "0.20\n"
     ]
    }
   ],
   "source": [
    "print('{:.2f}'.format(gamma * sigma * c_t / (c_t - h)))"
   ]
  },
  {
   "cell_type": "markdown",
   "metadata": {},
   "source": [
    "####Question 6\n",
    "Question 2, Part a.\n",
    "\n",
    "The binomial model. Suppose that there are two states tomorrow, up and down, and each can happen with probability 1/2. Consumption is $c_t=1$ today, $c_{t+1}(u)=3/2=1.5$ in the up state and $c_{t+1}(d)=3/4=0.75$ in the down state. Assume $\\gamma=1$ (i.e., $u(c)=log(c)$), $\\beta=1$.\n",
    "\n",
    "Find the price of a bond -- an asset that pays 1 in each state. Enter a number, accurate to two decimal places.\n",
    "\n",
    "recall that $p = E[\\beta * (u'(c_{t+1})/u'(c_t)) * x_{t+1}]$\n",
    "\n",
    "the bond has payout $1 = x_{t+1}$\n",
    " \n",
    "assuming $\\beta = 1$, $u(c) = log(c)$, $u'(c) = \\frac{1}{c}$ so\n",
    "\n",
    "$p = E[(c_{t}/(c_{t+1})) * 1] = E[c_t/(c_{t+1})]$"
   ]
  },
  {
   "cell_type": "code",
   "execution_count": 3,
   "metadata": {
    "collapsed": false
   },
   "outputs": [
    {
     "name": "stdout",
     "output_type": "stream",
     "text": [
      "1.00\n"
     ]
    }
   ],
   "source": [
    "c_0 = 1\n",
    "c_u = 1.5\n",
    "c_d = 0.75\n",
    "gamma = 1\n",
    "beta = 1\n",
    "p_u=p_d=0.5\n",
    "x_u=x_d=1\n",
    "def price(x_u, x_d, p_u, p_d, c_0, c_u, c_d):\n",
    "    return x_u * p_u * (c_0 / c_u) + x_d * p_d * (c_0 / c_d)\n",
    "\n",
    "print('{:.2f}'.format(price(x_u, x_d, p_u, p_d, c_0, c_u, c_d)))"
   ]
  },
  {
   "cell_type": "markdown",
   "metadata": {},
   "source": [
    "####Question 7\n",
    "Question 2, part b.\n",
    "\n",
    "\n",
    "Find the price of asset A that pays x=−1 in the up state and x=1 in the down state, as a decimal, accurate to two decimal points"
   ]
  },
  {
   "cell_type": "code",
   "execution_count": 4,
   "metadata": {
    "collapsed": false
   },
   "outputs": [
    {
     "name": "stdout",
     "output_type": "stream",
     "text": [
      "0.33\n"
     ]
    }
   ],
   "source": [
    "x_u = -1\n",
    "x_d = 1\n",
    "\n",
    "print('{:.2f}'.format(price(x_u, x_d, p_u, p_d, c_0, c_u, c_d)))"
   ]
  },
  {
   "cell_type": "markdown",
   "metadata": {},
   "source": [
    "####Question 8\n",
    "Question 2, part c.\n",
    "\n",
    "Find the prices of contingent claims to the up state and down state respectively. Enter them as two numbers separated by a space, each accurate to two decimals.\n"
   ]
  },
  {
   "cell_type": "code",
   "execution_count": 5,
   "metadata": {
    "collapsed": false
   },
   "outputs": [
    {
     "name": "stdout",
     "output_type": "stream",
     "text": [
      "0.33 0.67\n"
     ]
    }
   ],
   "source": [
    "cc_u = price(1, 0, p_u, p_d, c_0, c_u, c_d)\n",
    "cc_d = price(0, 1, p_u, p_d, c_0, c_u, c_d)\n",
    "\n",
    "print('{:.2f} {:.2f}'.format(*(cc_u, cc_d)))"
   ]
  },
  {
   "cell_type": "markdown",
   "metadata": {},
   "source": [
    "####Question 9\n",
    "\n",
    "Question 2, part d\n",
    "\n",
    "Find a set of risk-neutral probabilities $\\pi∗(u),\\; \\pi∗(d)$ that you could use to price assets in this circumstance. Report $\\pi∗(u),\\; \\pi∗(d)$  as two numbers, accurate to two decimal places, separated by a space\n"
   ]
  },
  {
   "cell_type": "code",
   "execution_count": 6,
   "metadata": {
    "collapsed": false
   },
   "outputs": [
    {
     "name": "stdout",
     "output_type": "stream",
     "text": [
      "0.33 0.67\n"
     ]
    }
   ],
   "source": [
    "rf = price(1, 1, p_u, p_d, c_0, c_u, c_d)\n",
    "\n",
    "print('{:.2f} {:.2f}'.format(*(cc_u * rf, cc_d * rf)))"
   ]
  },
  {
   "cell_type": "markdown",
   "metadata": {},
   "source": [
    "####Question 10\n",
    "Question 3, part a)\n",
    "\n",
    "Suppose there is a single excess return $R^e_{t+1}$, and an information variable $z_t$ which can take two values, $z_t=1,2$ with equal probability. Use values\n",
    "\n",
    "$$E(R_{t+1}^{e}\\mid z_{t}=1)=E(R_{t+1}^{e}\\mid z_{t}=2)=8\\%$$\n",
    "\n",
    "$$\\sigma(R_{t+1}^{e}\\mid z_{t}=1)=16\\%,\\sigma(R_{t+1}^{e}\\mid z_{t}=2)=24\\%$$\n",
    "\n",
    "The notation $E_{t}(R_{t+1})=E(R_{t+1}\\mid z_{t})$ means the same thing.\n",
    "\n",
    "What is the unconditional Sharpe ratio of a constant-weight portfolio, i.e. just holding $R_e$? Enter one number, accurate to two decimals. "
   ]
  },
  {
   "cell_type": "code",
   "execution_count": 7,
   "metadata": {
    "collapsed": false
   },
   "outputs": [
    {
     "name": "stdout",
     "output_type": "stream",
     "text": [
      "0.39\n"
     ]
    }
   ],
   "source": [
    "import numpy as np\n",
    "\n",
    "p  = np.array([0.5]*2)\n",
    "mu = np.array([0.08]*2)\n",
    "sd = np.array([0.16, 0.24])\n",
    "\n",
    "unc_mu = mu.dot(p)\n",
    "unc_var = (mu**2 + sd**2).dot(p) - unc_mu**2\n",
    "unc_sr = unc_mu / np.sqrt(unc_var)\n",
    "\n",
    "print('{:.2f}'.format(unc_sr))"
   ]
  },
  {
   "cell_type": "markdown",
   "metadata": {},
   "source": [
    "#####Question 11\n",
    "Question 3, part b)\n",
    "\n",
    "Well, let's see if we can do better by putting more money in to the high conditional Sharpe ratio market. Find $R^{e∗}_{t+1}$, which allows you to characterize the conditional mean variance frontier as $R^{emv}_{t+1}=\\delta R^{e∗}_{t+1}$. What does \"find $R^{e∗}$ mean? Well, $R^{e∗}_{t+1}=w_tR^e_{t+1}$ and there being only one excess return, this is as general as portfolios get. So, find and enter $w_t$ in state 1 and state 2, separated by a space, accurate to two decimal points. "
   ]
  },
  {
   "cell_type": "code",
   "execution_count": 8,
   "metadata": {
    "collapsed": false
   },
   "outputs": [
    {
     "name": "stdout",
     "output_type": "stream",
     "text": [
      "2.50 1.25\n"
     ]
    }
   ],
   "source": [
    "w = mu/(mu**2+sd**2)\n",
    "print ('{:.2f} {:.2f}'.format(*w))"
   ]
  },
  {
   "cell_type": "markdown",
   "metadata": {},
   "source": [
    "####Question 12\n",
    "Question 3, part c)\n",
    "\n",
    "Now find the Sharpe ratio of the unconditional mean-variance frontier. Report its numerical value to two decimal places."
   ]
  },
  {
   "cell_type": "code",
   "execution_count": 9,
   "metadata": {
    "collapsed": false
   },
   "outputs": [
    {
     "name": "stdout",
     "output_type": "stream",
     "text": [
      "0.42\n"
     ]
    }
   ],
   "source": [
    "E_R_e_st = (w*mu).dot(p)\n",
    "sd_R_e_st = np.sqrt(E_R_e_st * (1 - E_R_e_st))\n",
    "unc_SR = E_R_e_st / sd_R_e_st\n",
    "print('{:.2f}'.format(unc_SR))"
   ]
  },
  {
   "cell_type": "markdown",
   "metadata": {},
   "source": [
    "####Question 13\n",
    "Question 3, part d)\n",
    "\n",
    "So, finally, what do you actually do? Since the return $R^{e∗}$ is not traded, find weights in the underlying security $R^e_{t+1}$ that yield an unconditionally mean-variance efficient investment with unconditional mean equal to 8%. How much do you put in -- $w_t$ in $w_tR^e_{t+1}$ -- if state 1 and state 2 occur at time t? Enter two numbers, separated by a space, accurate to two decimals.\n"
   ]
  },
  {
   "cell_type": "code",
   "execution_count": 10,
   "metadata": {
    "collapsed": false
   },
   "outputs": [
    {
     "name": "stdout",
     "output_type": "stream",
     "text": [
      "1.33 0.67\n"
     ]
    }
   ],
   "source": [
    "E = mu**2 / (mu**2 + sd**2)\n",
    "c = np.array([2*E[0], 2*E[1]])/E.sum()\n",
    "print ('{:.2f} {:.2f}'.format(*c))"
   ]
  },
  {
   "cell_type": "markdown",
   "metadata": {},
   "source": [
    "####Question 14\n",
    "\n",
    "Download the data on consumption growth, rmrf, smb, hml, and rf. This is the same data used in the GMM homework, so you do not have to download again if you did that homework.\n",
    "\n",
    "Using only rmrf (ignore smb hml and rf), do a GMM estimate of the consumption-based model,\n",
    "\n",
    "$$E\\left[\\left(\\frac{c_{t+1}}{c_t}\\right)^{-\\gamma}R^e_{t+1}\\right]=0$$\n",
    "\n",
    "Compute the GMM estimate $\\gamma$ and its standard error $\\sigma(\\hat\\gamma)$. Enter these as two numbers, separated by a space, accurate to one decimal. Use -99 for any numbers that are infinite or undefined.\n"
   ]
  },
  {
   "cell_type": "code",
   "execution_count": 13,
   "metadata": {
    "collapsed": false
   },
   "outputs": [
    {
     "name": "stdout",
     "output_type": "stream",
     "text": [
      "78.27 62.96\n"
     ]
    },
    {
     "name": "stderr",
     "output_type": "stream",
     "text": [
      "/usr/local/lib/python3.4/dist-packages/matplotlib-1.5.x-py3.4-linux-x86_64.egg/matplotlib/font_manager.py:1279: UserWarning: findfont: Font family ['monospace'] not found. Falling back to Bitstream Vera Sans\n",
      "  (prop.get_family(), self.defaultFamily[fontext]))\n"
     ]
    },
    {
     "data": {
      "image/png": "[encoded data removed]",
      "text/plain": [
       "<matplotlib.figure.Figure at 0x7fded274df28>"
      ]
     },
     "metadata": {},
     "output_type": "display_data"
    }
   ],
   "source": [
    "%matplotlib inline\n",
    "import pandas as pd\n",
    "import scipy.optimize as opt\n",
    "import matplotlib.pyplot as plt\n",
    "plt.style.use('ggplot')\n",
    "\n",
    "#Get Data\n",
    "gmm_data = pd.read_csv('https://d396qusza40orc.cloudfront.net/assetpricing/data/ \\\n",
    "                       coursera_gmm_data.txt', sep='\\s+', skiprows=2, \n",
    "                       names=['dc', 'rmrf', 'smb', 'hml', 'rf'], index_col=0, \n",
    "                       parse_dates=True)\n",
    "\n",
    "\n",
    "#Define g_t and objective function\n",
    "def g_t(gamma):\n",
    "    return (np.c_[gmm_data.rmrf * gmm_data.dc**-gamma]).mean(0)\n",
    "\n",
    "def obj_fun(gamma):\n",
    "    return g_t(gamma).dot(np.eye(1)).dot(g_t(gamma))\n",
    "\n",
    "gamma = opt.minimize(obj_fun, 80, tol=1e-8)\n",
    "\n",
    "#compute standard error of gamma\n",
    "d = -np.c_[gmm_data.rmrf * np.log(gmm_data.dc) * (gmm_data.dc**-gamma.x)].mean(0)\n",
    "a = d.dot(np.eye(1))\n",
    "\n",
    "# Calculate m,x and the m*x series\n",
    "gmm_data['m'] = pd.Series(gmm_data.dc**-gamma.x, index=gmm_data.index)\n",
    "mx = gmm_data['rmrf'].multiply(gmm_data.m, axis=0)\n",
    "\n",
    "# Compute the second moment matrix\n",
    "S = mx.var()\n",
    "\n",
    "# Calculate the variance and standard error\n",
    "ad_inv = 1/a.dot(d)\n",
    "var = np.dot(ad_inv,a).dot(S).dot(a[:,np.newaxis]).dot(ad_inv)/gmm_data.shape[0]\n",
    "se = np.sqrt(var)\n",
    "\n",
    "#Plot g_T(gamma) \n",
    "interval = np.linspace(0,200, num=200)\n",
    "plt.plot(interval, [obj_fun(i) for i in interval], label = '$g_T(\\gamma)$')\n",
    "plt.yscale('log')\n",
    "plt.legend(loc='best');\n",
    "\n",
    "print('{:.2f} {:.2f}'.format(gamma.x[0], se[0]))"
   ]
  },
  {
   "cell_type": "markdown",
   "metadata": {},
   "source": [
    "An Alternative way is to set this up as a multivariate case with the instruments matrix as containing twice or N-times the same variable as in the univariate case. Admittedly this is an overkill but it's interesting to see how the parameters are identical in both cases."
   ]
  },
  {
   "cell_type": "code",
   "execution_count": 12,
   "metadata": {
    "collapsed": false
   },
   "outputs": [
    {
     "name": "stdout",
     "output_type": "stream",
     "text": [
      "78.30 63.01\n"
     ]
    },
    {
     "name": "stderr",
     "output_type": "stream",
     "text": [
      "/usr/local/lib/python3.4/dist-packages/matplotlib-1.5.x-py3.4-linux-x86_64.egg/matplotlib/font_manager.py:1279: UserWarning: findfont: Font family ['monospace'] not found. Falling back to Bitstream Vera Sans\n",
      "  (prop.get_family(), self.defaultFamily[fontext]))\n"
     ]
    },
    {
     "data": {
      "image/png": "[encoded data removed]",
      "text/plain": [
       "<matplotlib.figure.Figure at 0x7fded2685dd8>"
      ]
     },
     "metadata": {},
     "output_type": "display_data"
    }
   ],
   "source": [
    "def g_t(gamma):\n",
    "    return (np.c_[gmm_data.rmrf * gmm_data.dc**-gamma,\n",
    "                  gmm_data.rmrf  * gmm_data.dc**-gamma]).mean(0)\n",
    "\n",
    "def obj_fun(gamma):\n",
    "    return g_t(gamma).dot(np.eye(2)).dot(g_t(gamma))\n",
    "\n",
    "\n",
    "gamma = opt.minimize(obj_fun, 80, tol=1e-8)\n",
    "\n",
    "interval = np.linspace(0,200, num=200)\n",
    "plt.plot(interval, [obj_fun(i) for i in interval], label = '$g_T(\\gamma)$')\n",
    "plt.yscale('log')\n",
    "plt.legend(loc='best');\n",
    "d = -np.c_[gmm_data.rmrf * np.log(gmm_data.dc) * (gmm_data.dc**-gamma.x), \n",
    "           gmm_data.rmrf  * np.log(gmm_data.dc) * (gmm_data.dc**-gamma.x)].mean(0)\n",
    "\n",
    "a = d.dot(np.eye(2))\n",
    "# Calculate m,x and the m*x series\n",
    "gmm_data['m'] = pd.Series(gmm_data.dc**-gamma.x, index=gmm_data.index)\n",
    "mx = gmm_data[['rmrf', 'rmrf']].multiply(gmm_data.m, axis=0)\n",
    "\n",
    "# Compute the second moment matrix\n",
    "S = mx.cov()\n",
    "\n",
    "# Calculate the variance and standard error\n",
    "ad_inv = 1/a.dot(d)\n",
    "var = np.dot(ad_inv,a).dot(S).dot(a[:,np.newaxis]).dot(ad_inv)/gmm_data.shape[0]\n",
    "se = np.sqrt(var)\n",
    "\n",
    "print('{:.2f} {:.2f}'.format(gamma.x[0], se[0]))"
   ]
  }
 ],
 "metadata": {
  "kernelspec": {
   "display_name": "Python 3",
   "language": "python",
   "name": "python3"
  },
  "language_info": {
   "codemirror_mode": {
    "name": "ipython",
    "version": 3
   },
   "file_extension": ".py",
   "mimetype": "text/x-python",
   "name": "python",
   "nbconvert_exporter": "python",
   "pygments_lexer": "ipython3",
   "version": "3.4.2"
  }
 },
 "nbformat": 4,
 "nbformat_minor": 0
}
