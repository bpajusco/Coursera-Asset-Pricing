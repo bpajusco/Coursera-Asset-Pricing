{
 "cells": [
  {
   "cell_type": "markdown",
   "metadata": {},
   "source": [
    "#Homework 1: The VAR\n",
    "\n",
    "####Question 1\n",
    "\n",
    "Get the data on dividend yields, returns, and dividend growth. This is updated from the file you used in part 1 week 1, so get the new data even if you have that data. Create log returns, dividend yield and dividend growth.\n",
    "\n",
    "We will use the Campbell-Shiller identity $r_{t+1}=−\\rho dp_{t+1}+dp_t+\\Delta d_{t+1}$ extensively. The first question everyone has is, just how accurate is this approximation? Let's find out. In finance, you should never approximate rates of return. So, compute the approximate log dividend growth by $\\Delta d_{t+1}=r_{t+1}+\\rho dp_{t+1}−dp_t$. Use $\\rho$=0.96. Graph this approximate dividend growth together with actual dividend growth. This should give you a sense of how trustworthy the approximation is. (We suppress constants in all of this so graph each series minus its mean.)\n",
    "\n",
    "Use the approximate dividend growth you just constructed in the rest of the problem. It makes only a very small difference to the results, but it will help you to understand the impact of identities if the identities hold exactly.\n",
    "\n",
    "Compute the correlation between actual log dividend growth and your log dividend growth implied by this approximate identity. Enter one number, accurate to four decimal places.\n"
   ]
  },
  {
   "cell_type": "code",
   "execution_count": 1,
   "metadata": {
    "collapsed": true
   },
   "outputs": [],
   "source": [
    "%matplotlib inline\n",
    "import numpy as np\n",
    "import pandas as pd\n",
    "import matplotlib.pyplot as plt\n",
    "import seaborn as sns\n",
    "import statsmodels.formula.api as sm\n",
    "import statsmodels.tsa.api as tsa"
   ]
  },
  {
   "cell_type": "code",
   "execution_count": 19,
   "metadata": {
    "collapsed": false,
    "scrolled": true
   },
   "outputs": [
    {
     "name": "stdout",
     "output_type": "stream",
     "text": [
      "0.9995\n"
     ]
    },
    {
     "data": {
      "text/html": [
       "<div style=\"max-height:1000px;max-width:1500px;overflow:auto;\">\n",
       "<table border=\"1\" class=\"dataframe\">\n",
       "  <thead>\n",
       "    <tr style=\"text-align: right;\">\n",
       "      <th></th>\n",
       "      <th>Return</th>\n",
       "      <th>DP</th>\n",
       "      <th>DivGrowth</th>\n",
       "      <th>EstDivGrowth</th>\n",
       "    </tr>\n",
       "    <tr>\n",
       "      <th>Date</th>\n",
       "      <th></th>\n",
       "      <th></th>\n",
       "      <th></th>\n",
       "      <th></th>\n",
       "    </tr>\n",
       "  </thead>\n",
       "  <tbody>\n",
       "    <tr>\n",
       "      <th>1926-12-31</th>\n",
       "      <td>0.093926</td>\n",
       "      <td>-2.934498</td>\n",
       "      <td>NaN</td>\n",
       "      <td>NaN</td>\n",
       "    </tr>\n",
       "    <tr>\n",
       "      <th>1927-12-31</th>\n",
       "      <td>0.284213</td>\n",
       "      <td>-3.013013</td>\n",
       "      <td>0.157724</td>\n",
       "      <td>0.326219</td>\n",
       "    </tr>\n",
       "    <tr>\n",
       "      <th>1928-12-31</th>\n",
       "      <td>0.330308</td>\n",
       "      <td>-3.202946</td>\n",
       "      <td>0.100536</td>\n",
       "      <td>0.268492</td>\n",
       "    </tr>\n",
       "    <tr>\n",
       "      <th>1929-12-31</th>\n",
       "      <td>-0.163643</td>\n",
       "      <td>-3.258298</td>\n",
       "      <td>-0.256728</td>\n",
       "      <td>-0.088663</td>\n",
       "    </tr>\n",
       "    <tr>\n",
       "      <th>1930-12-31</th>\n",
       "      <td>-0.341090</td>\n",
       "      <td>-3.040250</td>\n",
       "      <td>-0.169756</td>\n",
       "      <td>-0.001432</td>\n",
       "    </tr>\n",
       "    <tr>\n",
       "      <th>1931-12-31</th>\n",
       "      <td>-0.586759</td>\n",
       "      <td>-2.760228</td>\n",
       "      <td>-0.368092</td>\n",
       "      <td>-0.196328</td>\n",
       "    </tr>\n",
       "    <tr>\n",
       "      <th>1932-12-31</th>\n",
       "      <td>-0.082783</td>\n",
       "      <td>-2.641698</td>\n",
       "      <td>-0.033069</td>\n",
       "      <td>0.141416</td>\n",
       "    </tr>\n",
       "    <tr>\n",
       "      <th>1933-12-30</th>\n",
       "      <td>0.453703</td>\n",
       "      <td>-3.144838</td>\n",
       "      <td>-0.091609</td>\n",
       "      <td>0.076357</td>\n",
       "    </tr>\n",
       "    <tr>\n",
       "      <th>1934-12-31</th>\n",
       "      <td>0.031347</td>\n",
       "      <td>-3.174192</td>\n",
       "      <td>-0.038985</td>\n",
       "      <td>0.128960</td>\n",
       "    </tr>\n",
       "    <tr>\n",
       "      <th>1935-12-31</th>\n",
       "      <td>0.374653</td>\n",
       "      <td>-3.171956</td>\n",
       "      <td>0.335823</td>\n",
       "      <td>0.503767</td>\n",
       "    </tr>\n",
       "    <tr>\n",
       "      <th>1936-12-31</th>\n",
       "      <td>0.280018</td>\n",
       "      <td>-3.112966</td>\n",
       "      <td>0.295499</td>\n",
       "      <td>0.463526</td>\n",
       "    </tr>\n",
       "    <tr>\n",
       "      <th>1937-12-31</th>\n",
       "      <td>-0.424715</td>\n",
       "      <td>-2.874166</td>\n",
       "      <td>-0.240842</td>\n",
       "      <td>-0.070949</td>\n",
       "    </tr>\n",
       "    <tr>\n",
       "      <th>1938-12-31</th>\n",
       "      <td>0.250260</td>\n",
       "      <td>-3.124165</td>\n",
       "      <td>-0.042773</td>\n",
       "      <td>0.125228</td>\n",
       "    </tr>\n",
       "    <tr>\n",
       "      <th>1939-12-30</th>\n",
       "      <td>0.018267</td>\n",
       "      <td>-3.019453</td>\n",
       "      <td>0.075306</td>\n",
       "      <td>0.243758</td>\n",
       "    </tr>\n",
       "    <tr>\n",
       "      <th>1940-12-31</th>\n",
       "      <td>-0.078074</td>\n",
       "      <td>-2.812371</td>\n",
       "      <td>0.070680</td>\n",
       "      <td>0.241503</td>\n",
       "    </tr>\n",
       "    <tr>\n",
       "      <th>1941-12-31</th>\n",
       "      <td>-0.105791</td>\n",
       "      <td>-2.625898</td>\n",
       "      <td>0.010806</td>\n",
       "      <td>0.185718</td>\n",
       "    </tr>\n",
       "    <tr>\n",
       "      <th>1942-12-31</th>\n",
       "      <td>0.154623</td>\n",
       "      <td>-2.654311</td>\n",
       "      <td>0.058227</td>\n",
       "      <td>0.232383</td>\n",
       "    </tr>\n",
       "    <tr>\n",
       "      <th>1943-12-31</th>\n",
       "      <td>0.246616</td>\n",
       "      <td>-2.948995</td>\n",
       "      <td>-0.099134</td>\n",
       "      <td>0.069892</td>\n",
       "    </tr>\n",
       "    <tr>\n",
       "      <th>1944-12-30</th>\n",
       "      <td>0.193624</td>\n",
       "      <td>-2.976039</td>\n",
       "      <td>0.116844</td>\n",
       "      <td>0.285622</td>\n",
       "    </tr>\n",
       "    <tr>\n",
       "      <th>1945-12-31</th>\n",
       "      <td>0.329730</td>\n",
       "      <td>-3.186679</td>\n",
       "      <td>0.078613</td>\n",
       "      <td>0.246558</td>\n",
       "    </tr>\n",
       "    <tr>\n",
       "      <th>1946-12-31</th>\n",
       "      <td>-0.066366</td>\n",
       "      <td>-3.177818</td>\n",
       "      <td>-0.098337</td>\n",
       "      <td>0.069607</td>\n",
       "    </tr>\n",
       "    <tr>\n",
       "      <th>1947-12-31</th>\n",
       "      <td>0.032402</td>\n",
       "      <td>-2.863550</td>\n",
       "      <td>0.291173</td>\n",
       "      <td>0.461212</td>\n",
       "    </tr>\n",
       "    <tr>\n",
       "      <th>1948-12-31</th>\n",
       "      <td>0.021089</td>\n",
       "      <td>-2.738208</td>\n",
       "      <td>0.083751</td>\n",
       "      <td>0.255960</td>\n",
       "    </tr>\n",
       "    <tr>\n",
       "      <th>1949-12-31</th>\n",
       "      <td>0.183234</td>\n",
       "      <td>-2.642019</td>\n",
       "      <td>0.210627</td>\n",
       "      <td>0.385104</td>\n",
       "    </tr>\n",
       "    <tr>\n",
       "      <th>1950-12-30</th>\n",
       "      <td>0.265996</td>\n",
       "      <td>-2.635098</td>\n",
       "      <td>0.203660</td>\n",
       "      <td>0.378321</td>\n",
       "    </tr>\n",
       "    <tr>\n",
       "      <th>1951-12-31</th>\n",
       "      <td>0.190158</td>\n",
       "      <td>-2.839474</td>\n",
       "      <td>-0.071029</td>\n",
       "      <td>0.099361</td>\n",
       "    </tr>\n",
       "    <tr>\n",
       "      <th>1952-12-31</th>\n",
       "      <td>0.125155</td>\n",
       "      <td>-2.896398</td>\n",
       "      <td>0.014479</td>\n",
       "      <td>0.184086</td>\n",
       "    </tr>\n",
       "    <tr>\n",
       "      <th>1953-12-31</th>\n",
       "      <td>0.003836</td>\n",
       "      <td>-2.865045</td>\n",
       "      <td>-0.020227</td>\n",
       "      <td>0.149791</td>\n",
       "    </tr>\n",
       "    <tr>\n",
       "      <th>1954-12-31</th>\n",
       "      <td>0.408208</td>\n",
       "      <td>-3.012583</td>\n",
       "      <td>0.212675</td>\n",
       "      <td>0.381173</td>\n",
       "    </tr>\n",
       "    <tr>\n",
       "      <th>1955-12-30</th>\n",
       "      <td>0.226446</td>\n",
       "      <td>-3.179517</td>\n",
       "      <td>0.018749</td>\n",
       "      <td>0.186694</td>\n",
       "    </tr>\n",
       "    <tr>\n",
       "      <th>...</th>\n",
       "      <td>...</td>\n",
       "      <td>...</td>\n",
       "      <td>...</td>\n",
       "      <td>...</td>\n",
       "    </tr>\n",
       "    <tr>\n",
       "      <th>1985-12-31</th>\n",
       "      <td>0.273162</td>\n",
       "      <td>-3.240591</td>\n",
       "      <td>0.126693</td>\n",
       "      <td>0.294711</td>\n",
       "    </tr>\n",
       "    <tr>\n",
       "      <th>1986-12-31</th>\n",
       "      <td>0.144636</td>\n",
       "      <td>-3.388578</td>\n",
       "      <td>-0.036550</td>\n",
       "      <td>0.132192</td>\n",
       "    </tr>\n",
       "    <tr>\n",
       "      <th>1987-12-31</th>\n",
       "      <td>0.018143</td>\n",
       "      <td>-3.432015</td>\n",
       "      <td>-0.057105</td>\n",
       "      <td>0.111986</td>\n",
       "    </tr>\n",
       "    <tr>\n",
       "      <th>1988-12-30</th>\n",
       "      <td>0.161740</td>\n",
       "      <td>-3.206267</td>\n",
       "      <td>0.347780</td>\n",
       "      <td>0.515739</td>\n",
       "    </tr>\n",
       "    <tr>\n",
       "      <th>1989-12-29</th>\n",
       "      <td>0.250230</td>\n",
       "      <td>-3.337642</td>\n",
       "      <td>0.083950</td>\n",
       "      <td>0.252360</td>\n",
       "    </tr>\n",
       "    <tr>\n",
       "      <th>1990-12-31</th>\n",
       "      <td>-0.062765</td>\n",
       "      <td>-3.311457</td>\n",
       "      <td>-0.072394</td>\n",
       "      <td>0.095878</td>\n",
       "    </tr>\n",
       "    <tr>\n",
       "      <th>1991-12-31</th>\n",
       "      <td>0.290006</td>\n",
       "      <td>-3.475895</td>\n",
       "      <td>0.095103</td>\n",
       "      <td>0.264604</td>\n",
       "    </tr>\n",
       "    <tr>\n",
       "      <th>1992-12-31</th>\n",
       "      <td>0.086770</td>\n",
       "      <td>-3.583551</td>\n",
       "      <td>-0.048284</td>\n",
       "      <td>0.122456</td>\n",
       "    </tr>\n",
       "    <tr>\n",
       "      <th>1993-12-31</th>\n",
       "      <td>0.109651</td>\n",
       "      <td>-3.663386</td>\n",
       "      <td>0.004494</td>\n",
       "      <td>0.176352</td>\n",
       "    </tr>\n",
       "    <tr>\n",
       "      <th>1994-12-30</th>\n",
       "      <td>-0.007602</td>\n",
       "      <td>-3.645108</td>\n",
       "      <td>-0.015107</td>\n",
       "      <td>0.156480</td>\n",
       "    </tr>\n",
       "    <tr>\n",
       "      <th>1995-12-29</th>\n",
       "      <td>0.305071</td>\n",
       "      <td>-3.734807</td>\n",
       "      <td>0.191775</td>\n",
       "      <td>0.364765</td>\n",
       "    </tr>\n",
       "    <tr>\n",
       "      <th>1996-12-31</th>\n",
       "      <td>0.192110</td>\n",
       "      <td>-3.897650</td>\n",
       "      <td>0.009180</td>\n",
       "      <td>0.185172</td>\n",
       "    </tr>\n",
       "    <tr>\n",
       "      <th>1997-12-31</th>\n",
       "      <td>0.265071</td>\n",
       "      <td>-4.080743</td>\n",
       "      <td>0.065224</td>\n",
       "      <td>0.245207</td>\n",
       "    </tr>\n",
       "    <tr>\n",
       "      <th>1998-12-31</th>\n",
       "      <td>0.200981</td>\n",
       "      <td>-4.227490</td>\n",
       "      <td>0.039750</td>\n",
       "      <td>0.223333</td>\n",
       "    </tr>\n",
       "    <tr>\n",
       "      <th>1999-12-31</th>\n",
       "      <td>0.225261</td>\n",
       "      <td>-4.335175</td>\n",
       "      <td>0.104561</td>\n",
       "      <td>0.290983</td>\n",
       "    </tr>\n",
       "    <tr>\n",
       "      <th>2000-12-29</th>\n",
       "      <td>-0.118347</td>\n",
       "      <td>-4.494593</td>\n",
       "      <td>-0.288872</td>\n",
       "      <td>-0.097981</td>\n",
       "    </tr>\n",
       "    <tr>\n",
       "      <th>2001-12-31</th>\n",
       "      <td>-0.119547</td>\n",
       "      <td>-4.307322</td>\n",
       "      <td>0.054344</td>\n",
       "      <td>0.240017</td>\n",
       "    </tr>\n",
       "    <tr>\n",
       "      <th>2002-12-31</th>\n",
       "      <td>-0.233715</td>\n",
       "      <td>-4.117866</td>\n",
       "      <td>-0.060407</td>\n",
       "      <td>0.120456</td>\n",
       "    </tr>\n",
       "    <tr>\n",
       "      <th>2003-12-31</th>\n",
       "      <td>0.286215</td>\n",
       "      <td>-4.016609</td>\n",
       "      <td>0.369618</td>\n",
       "      <td>0.548137</td>\n",
       "    </tr>\n",
       "    <tr>\n",
       "      <th>2004-12-31</th>\n",
       "      <td>0.122140</td>\n",
       "      <td>-3.942488</td>\n",
       "      <td>0.177046</td>\n",
       "      <td>0.353960</td>\n",
       "    </tr>\n",
       "    <tr>\n",
       "      <th>2005-12-30</th>\n",
       "      <td>0.070522</td>\n",
       "      <td>-4.001713</td>\n",
       "      <td>-0.006821</td>\n",
       "      <td>0.171366</td>\n",
       "    </tr>\n",
       "    <tr>\n",
       "      <th>2006-12-29</th>\n",
       "      <td>0.150255</td>\n",
       "      <td>-3.965236</td>\n",
       "      <td>0.167946</td>\n",
       "      <td>0.345341</td>\n",
       "    </tr>\n",
       "    <tr>\n",
       "      <th>2007-12-31</th>\n",
       "      <td>0.070459</td>\n",
       "      <td>-3.961479</td>\n",
       "      <td>0.055361</td>\n",
       "      <td>0.232676</td>\n",
       "    </tr>\n",
       "    <tr>\n",
       "      <th>2008-12-31</th>\n",
       "      <td>-0.482877</td>\n",
       "      <td>-3.741170</td>\n",
       "      <td>-0.286017</td>\n",
       "      <td>-0.112921</td>\n",
       "    </tr>\n",
       "    <tr>\n",
       "      <th>2009-12-31</th>\n",
       "      <td>0.274704</td>\n",
       "      <td>-3.686424</td>\n",
       "      <td>0.304698</td>\n",
       "      <td>0.476907</td>\n",
       "    </tr>\n",
       "    <tr>\n",
       "      <th>2010-12-31</th>\n",
       "      <td>0.164599</td>\n",
       "      <td>-3.838151</td>\n",
       "      <td>-0.008434</td>\n",
       "      <td>0.166397</td>\n",
       "    </tr>\n",
       "    <tr>\n",
       "      <th>2011-12-30</th>\n",
       "      <td>-0.009058</td>\n",
       "      <td>-3.863163</td>\n",
       "      <td>-0.054854</td>\n",
       "      <td>0.120457</td>\n",
       "    </tr>\n",
       "    <tr>\n",
       "      <th>2012-12-31</th>\n",
       "      <td>0.148224</td>\n",
       "      <td>-3.676923</td>\n",
       "      <td>0.309479</td>\n",
       "      <td>0.481542</td>\n",
       "    </tr>\n",
       "    <tr>\n",
       "      <th>2013-12-31</th>\n",
       "      <td>0.275182</td>\n",
       "      <td>-3.831138</td>\n",
       "      <td>0.099513</td>\n",
       "      <td>0.274212</td>\n",
       "    </tr>\n",
       "    <tr>\n",
       "      <th>2014-12-31</th>\n",
       "      <td>0.102820</td>\n",
       "      <td>-3.868416</td>\n",
       "      <td>0.044866</td>\n",
       "      <td>0.220279</td>\n",
       "    </tr>\n",
       "  </tbody>\n",
       "</table>\n",
       "<p>89 rows × 4 columns</p>\n",
       "</div>"
      ],
      "text/plain": [
       "              Return        DP  DivGrowth  EstDivGrowth\n",
       "Date                                                   \n",
       "1926-12-31  0.093926 -2.934498        NaN           NaN\n",
       "1927-12-31  0.284213 -3.013013   0.157724      0.326219\n",
       "1928-12-31  0.330308 -3.202946   0.100536      0.268492\n",
       "1929-12-31 -0.163643 -3.258298  -0.256728     -0.088663\n",
       "1930-12-31 -0.341090 -3.040250  -0.169756     -0.001432\n",
       "1931-12-31 -0.586759 -2.760228  -0.368092     -0.196328\n",
       "1932-12-31 -0.082783 -2.641698  -0.033069      0.141416\n",
       "1933-12-30  0.453703 -3.144838  -0.091609      0.076357\n",
       "1934-12-31  0.031347 -3.174192  -0.038985      0.128960\n",
       "1935-12-31  0.374653 -3.171956   0.335823      0.503767\n",
       "1936-12-31  0.280018 -3.112966   0.295499      0.463526\n",
       "1937-12-31 -0.424715 -2.874166  -0.240842     -0.070949\n",
       "1938-12-31  0.250260 -3.124165  -0.042773      0.125228\n",
       "1939-12-30  0.018267 -3.019453   0.075306      0.243758\n",
       "1940-12-31 -0.078074 -2.812371   0.070680      0.241503\n",
       "1941-12-31 -0.105791 -2.625898   0.010806      0.185718\n",
       "1942-12-31  0.154623 -2.654311   0.058227      0.232383\n",
       "1943-12-31  0.246616 -2.948995  -0.099134      0.069892\n",
       "1944-12-30  0.193624 -2.976039   0.116844      0.285622\n",
       "1945-12-31  0.329730 -3.186679   0.078613      0.246558\n",
       "1946-12-31 -0.066366 -3.177818  -0.098337      0.069607\n",
       "1947-12-31  0.032402 -2.863550   0.291173      0.461212\n",
       "1948-12-31  0.021089 -2.738208   0.083751      0.255960\n",
       "1949-12-31  0.183234 -2.642019   0.210627      0.385104\n",
       "1950-12-30  0.265996 -2.635098   0.203660      0.378321\n",
       "1951-12-31  0.190158 -2.839474  -0.071029      0.099361\n",
       "1952-12-31  0.125155 -2.896398   0.014479      0.184086\n",
       "1953-12-31  0.003836 -2.865045  -0.020227      0.149791\n",
       "1954-12-31  0.408208 -3.012583   0.212675      0.381173\n",
       "1955-12-30  0.226446 -3.179517   0.018749      0.186694\n",
       "...              ...       ...        ...           ...\n",
       "1985-12-31  0.273162 -3.240591   0.126693      0.294711\n",
       "1986-12-31  0.144636 -3.388578  -0.036550      0.132192\n",
       "1987-12-31  0.018143 -3.432015  -0.057105      0.111986\n",
       "1988-12-30  0.161740 -3.206267   0.347780      0.515739\n",
       "1989-12-29  0.250230 -3.337642   0.083950      0.252360\n",
       "1990-12-31 -0.062765 -3.311457  -0.072394      0.095878\n",
       "1991-12-31  0.290006 -3.475895   0.095103      0.264604\n",
       "1992-12-31  0.086770 -3.583551  -0.048284      0.122456\n",
       "1993-12-31  0.109651 -3.663386   0.004494      0.176352\n",
       "1994-12-30 -0.007602 -3.645108  -0.015107      0.156480\n",
       "1995-12-29  0.305071 -3.734807   0.191775      0.364765\n",
       "1996-12-31  0.192110 -3.897650   0.009180      0.185172\n",
       "1997-12-31  0.265071 -4.080743   0.065224      0.245207\n",
       "1998-12-31  0.200981 -4.227490   0.039750      0.223333\n",
       "1999-12-31  0.225261 -4.335175   0.104561      0.290983\n",
       "2000-12-29 -0.118347 -4.494593  -0.288872     -0.097981\n",
       "2001-12-31 -0.119547 -4.307322   0.054344      0.240017\n",
       "2002-12-31 -0.233715 -4.117866  -0.060407      0.120456\n",
       "2003-12-31  0.286215 -4.016609   0.369618      0.548137\n",
       "2004-12-31  0.122140 -3.942488   0.177046      0.353960\n",
       "2005-12-30  0.070522 -4.001713  -0.006821      0.171366\n",
       "2006-12-29  0.150255 -3.965236   0.167946      0.345341\n",
       "2007-12-31  0.070459 -3.961479   0.055361      0.232676\n",
       "2008-12-31 -0.482877 -3.741170  -0.286017     -0.112921\n",
       "2009-12-31  0.274704 -3.686424   0.304698      0.476907\n",
       "2010-12-31  0.164599 -3.838151  -0.008434      0.166397\n",
       "2011-12-30 -0.009058 -3.863163  -0.054854      0.120457\n",
       "2012-12-31  0.148224 -3.676923   0.309479      0.481542\n",
       "2013-12-31  0.275182 -3.831138   0.099513      0.274212\n",
       "2014-12-31  0.102820 -3.868416   0.044866      0.220279\n",
       "\n",
       "[89 rows x 4 columns]"
      ]
     },
     "execution_count": 19,
     "metadata": {},
     "output_type": "execute_result"
    },
    {
     "data": {
      "image/png": "[encoded data removed]",
      "text/plain": [
       "<matplotlib.figure.Figure at 0x7fa17525f080>"
      ]
     },
     "metadata": {},
     "output_type": "display_data"
    }
   ],
   "source": [
    "# Autoregressive parameter\n",
    "rho = 0.96\n",
    "\n",
    "# Load Data\n",
    "div_data =  pd.read_csv('https://d396qusza40orc.cloudfront.net/assetpricing2/data/ \\\n",
    "                         ps1_data_part2.txt', sep = '\\s+', skiprows = 7, \n",
    "                         names = ['Date', 'Return', 'DP', 'DivGrowth', 'TbillRet'], \n",
    "                         index_col = 0, parse_dates = True)\n",
    "\n",
    "# Calculate log returns from data\n",
    "log_ret_data = div_data.drop('TbillRet', axis=1).add([1, 0, 1,]).apply(np.log)\n",
    "\n",
    "# Estimate Dividend Growth from Campbell Shiller \n",
    "log_ret_data['EstDivGrowth'] = log_ret_data.Return + rho * log_ret_data.DP - \\\n",
    "                               log_ret_data.DP.shift()\n",
    "# Drop NaNs from data\n",
    "#log_ret_data.ix[0, ['DivGrowth', 'EstDivGrowth']] = 0\n",
    "#log_ret_data.dropna(inplace=True)\n",
    "\n",
    "# Detrend series and plot data\n",
    "(log_ret_data[['DivGrowth', 'EstDivGrowth']] - log_ret_data[['DivGrowth', 'EstDivGrowth']].mean(\n",
    "axis = 0)).plot(title = 'Dividend Growth vs. Estimated Dividend Growth')\n",
    "\n",
    "# Calculate correlation between Dividend Growth and its Cambpbell Shiller estimate\n",
    "print('{:.4f}'.format(log_ret_data.corr().DivGrowth.EstDivGrowth))\n",
    "#log_ret_data[['Return', 'DP', 'EstDivGrowth']].to_csv('log_ret_data.txt',  \n",
    "#                                                      index = False, header = False)"
   ]
  },
  {
   "cell_type": "markdown",
   "metadata": {},
   "source": [
    "####Question 2\n",
    "\n",
    "Time to run the VAR. Use the dividend series you created in part 1 that obeys the return identity exactly. Run regressions\n",
    "\n",
    "$$r_{t+1}=a_r+b_r dp_t + \\varepsilon^r_{t+1}$$\n",
    "\n",
    "$$\\Delta d_{t+1}=a_d+b_d dp_t + \\varepsilon^d_{t+1}$$\n",
    "\n",
    "$$dp_{t+1}=a_{dp}+\\phi dp_t + \\varepsilon^{dp}_{t+1}$$\n",
    "\n",
    "Report the regression coefficients $b_r$, $b_d$, $\\phi$ separated by spaces, accurate to three decimal places.\n",
    "\n",
    "Note, these regressions are in logs, so you will not see coefficients like $b_r$=4 that we saw running the level of return $R$ on the level of $DP$.\n",
    "\n",
    "Calculate the errors $\\epsilon$ which you will use later.\n"
   ]
  },
  {
   "cell_type": "code",
   "execution_count": 3,
   "metadata": {
    "collapsed": false
   },
   "outputs": [
    {
     "name": "stdout",
     "output_type": "stream",
     "text": [
      "0.0908 -0.0061 0.9407\n"
     ]
    },
    {
     "data": {
      "text/html": [
       "<div style=\"max-height:1000px;max-width:1500px;overflow:auto;\">\n",
       "<table border=\"1\" class=\"dataframe\">\n",
       "  <thead>\n",
       "    <tr style=\"text-align: right;\">\n",
       "      <th></th>\n",
       "      <th>0</th>\n",
       "      <th>1</th>\n",
       "      <th>2</th>\n",
       "    </tr>\n",
       "  </thead>\n",
       "  <tbody>\n",
       "    <tr>\n",
       "      <th>Intercept</th>\n",
       "      <td>0.396733</td>\n",
       "      <td>0.196567</td>\n",
       "      <td>-0.208506</td>\n",
       "    </tr>\n",
       "    <tr>\n",
       "      <th>DP_l1</th>\n",
       "      <td>0.090802</td>\n",
       "      <td>-0.006098</td>\n",
       "      <td>0.940728</td>\n",
       "    </tr>\n",
       "  </tbody>\n",
       "</table>\n",
       "</div>"
      ],
      "text/plain": [
       "                  0         1         2\n",
       "Intercept  0.396733  0.196567 -0.208506\n",
       "DP_l1      0.090802 -0.006098  0.940728"
      ]
     },
     "execution_count": 3,
     "metadata": {},
     "output_type": "execute_result"
    }
   ],
   "source": [
    "tst =   sm.ols('Return + EstDivGrowth + DP ~ DP_l1', data = pd.DataFrame({\n",
    "               'Return' : log_ret_data.Return, 'EstDivGrowth' : log_ret_data.EstDivGrowth,\n",
    "               'DP' : log_ret_data.DP, 'DP_l1' : log_ret_data.DP.shift()})).fit()\n",
    "print('{:.4f} {:.4f} {:.4f}'.format(*tst.params.ix[1, :]))\n",
    "tst.params"
   ]
  },
  {
   "cell_type": "code",
   "execution_count": 28,
   "metadata": {
    "collapsed": false
   },
   "outputs": [
    {
     "name": "stdout",
     "output_type": "stream",
     "text": [
      "0.0844 -0.0134 0.9398\n"
     ]
    }
   ],
   "source": [
    "var = tsa.VAR(log_ret_data[['Return', 'EstDivGrowth', 'DP']], missing = 'drop').fit()\n",
    "print('{:.4f} {:.4f} {:.4f}'.format(var.params.Return[3], var.params.EstDivGrowth[3],\n",
    "                                    var.params.DP[3]))\n",
    "#var.summary()"
   ]
  },
  {
   "cell_type": "markdown",
   "metadata": {},
   "source": [
    "####Question 3\n",
    "\n",
    "Compute the value of the return forecasting coefficient $b_r$ implied by your estimates of $b_d$ and $\\phi$ and the identity $r_{t+1}=−\\rho dp_{t+1}+dp_t+\\Delta d_{t+1}$. Calculate the difference between this coefficient and the coefficient you estimated in the last question. Enter the absolute value of that difference, accurate to four decimal points.\n"
   ]
  },
  {
   "cell_type": "code",
   "execution_count": 5,
   "metadata": {
    "collapsed": false
   },
   "outputs": [
    {
     "name": "stdout",
     "output_type": "stream",
     "text": [
      "0.0000\n"
     ]
    }
   ],
   "source": [
    "br = 1 - rho * tst.params.ix[1, 2] + tst.params.ix[1, 1]\n",
    "\n",
    "print('{:.4f}'.format(tst.params.ix[1, 0] - br))"
   ]
  },
  {
   "cell_type": "markdown",
   "metadata": {},
   "source": [
    "####Question 4\n",
    "\n",
    "Using your regression estimates, plot responses of returns, the level of dividends (cumulative dividend growth) and the level of prices (cumulative change in prices), to\n",
    "\n",
    "  1.  the dividend yield shocks $\\epsilon^{dp}=1$, $\\epsilon^{d}=0$\n",
    "  2.  the dividend growth shocks, $\\epsilon^{dp}=0$, $\\epsilon^{d}=1$\n",
    "\n",
    "Make sure there is a contemporaneous $\\epsilon_r$ shock in both cases so that the identity $\\varepsilon_{t+1}^r = -\\rho \\varepsilon^{dp}_{t+1}+ \\varepsilon^d_{t+1}$ is satisfied. Unlike the simple version in class or notes, use your estimated $b_d\\neq0$ coefficient. (To find prices, note $\\Delta p_{t+1} = -dp_{t+1}+dp_t+\\Delta d_{t+1}$. To find a level, $x_{t+k}-x_t=\\Delta x_{t+1} + \\Delta x_{t+2} + ...+\\Delta x_{t+k}$. This should look approximately like the plots in lecture, but not exactly the same.)\n",
    "\n",
    "To grade this problem, enter the responses of return, dividend level, and price level to the dp shock, on the date of the shock, and 10 years after the shock (t=10 if t=1 is the shock date). Enter 6 numbers, separated by spaces. $r(1), \\ d(1), \\ p(1),\\ r(10),\\  d(10),\\ p(10).$"
   ]
  },
  {
   "cell_type": "code",
   "execution_count": 6,
   "metadata": {
    "collapsed": false,
    "scrolled": false
   },
   "outputs": [],
   "source": [
    "#irf = var.irf(10)\n",
    "#irf.plot()\n",
    "#irf.plot_cum_effects();"
   ]
  },
  {
   "cell_type": "code",
   "execution_count": 7,
   "metadata": {
    "collapsed": false
   },
   "outputs": [
    {
     "name": "stdout",
     "output_type": "stream",
     "text": [
      "-0.9600 0.0000 -1.0000 0.0557 -0.0435 -0.6205\n"
     ]
    },
    {
     "data": {
      "text/html": [
       "<div style=\"max-height:1000px;max-width:1500px;overflow:auto;\">\n",
       "<table border=\"1\" class=\"dataframe\">\n",
       "  <thead>\n",
       "    <tr style=\"text-align: right;\">\n",
       "      <th></th>\n",
       "      <th>Return</th>\n",
       "      <th>EstDivGrowth</th>\n",
       "      <th>DP</th>\n",
       "      <th>dPrice</th>\n",
       "      <th>Dividend</th>\n",
       "      <th>Price</th>\n",
       "    </tr>\n",
       "  </thead>\n",
       "  <tbody>\n",
       "    <tr>\n",
       "      <th>0</th>\n",
       "      <td>0.000000</td>\n",
       "      <td>0.000000</td>\n",
       "      <td>0.000000</td>\n",
       "      <td>0.000000</td>\n",
       "      <td>0.000000</td>\n",
       "      <td>0.000000</td>\n",
       "    </tr>\n",
       "    <tr>\n",
       "      <th>1</th>\n",
       "      <td>-0.960000</td>\n",
       "      <td>0.000000</td>\n",
       "      <td>1.000000</td>\n",
       "      <td>-1.000000</td>\n",
       "      <td>0.000000</td>\n",
       "      <td>-1.000000</td>\n",
       "    </tr>\n",
       "    <tr>\n",
       "      <th>2</th>\n",
       "      <td>0.090802</td>\n",
       "      <td>-0.006098</td>\n",
       "      <td>0.940728</td>\n",
       "      <td>0.053173</td>\n",
       "      <td>-0.006098</td>\n",
       "      <td>-0.946827</td>\n",
       "    </tr>\n",
       "    <tr>\n",
       "      <th>3</th>\n",
       "      <td>0.085420</td>\n",
       "      <td>-0.005737</td>\n",
       "      <td>0.884970</td>\n",
       "      <td>0.050022</td>\n",
       "      <td>-0.011835</td>\n",
       "      <td>-0.896805</td>\n",
       "    </tr>\n",
       "    <tr>\n",
       "      <th>4</th>\n",
       "      <td>0.080357</td>\n",
       "      <td>-0.005397</td>\n",
       "      <td>0.832516</td>\n",
       "      <td>0.047057</td>\n",
       "      <td>-0.017232</td>\n",
       "      <td>-0.849749</td>\n",
       "    </tr>\n",
       "    <tr>\n",
       "      <th>5</th>\n",
       "      <td>0.075594</td>\n",
       "      <td>-0.005077</td>\n",
       "      <td>0.783172</td>\n",
       "      <td>0.044268</td>\n",
       "      <td>-0.022309</td>\n",
       "      <td>-0.805481</td>\n",
       "    </tr>\n",
       "    <tr>\n",
       "      <th>6</th>\n",
       "      <td>0.071114</td>\n",
       "      <td>-0.004776</td>\n",
       "      <td>0.736752</td>\n",
       "      <td>0.041644</td>\n",
       "      <td>-0.027085</td>\n",
       "      <td>-0.763837</td>\n",
       "    </tr>\n",
       "    <tr>\n",
       "      <th>7</th>\n",
       "      <td>0.066899</td>\n",
       "      <td>-0.004493</td>\n",
       "      <td>0.693083</td>\n",
       "      <td>0.039175</td>\n",
       "      <td>-0.031578</td>\n",
       "      <td>-0.724662</td>\n",
       "    </tr>\n",
       "    <tr>\n",
       "      <th>8</th>\n",
       "      <td>0.062934</td>\n",
       "      <td>-0.004227</td>\n",
       "      <td>0.652003</td>\n",
       "      <td>0.036853</td>\n",
       "      <td>-0.035805</td>\n",
       "      <td>-0.687808</td>\n",
       "    </tr>\n",
       "    <tr>\n",
       "      <th>9</th>\n",
       "      <td>0.059203</td>\n",
       "      <td>-0.003976</td>\n",
       "      <td>0.613358</td>\n",
       "      <td>0.034669</td>\n",
       "      <td>-0.039781</td>\n",
       "      <td>-0.653139</td>\n",
       "    </tr>\n",
       "    <tr>\n",
       "      <th>10</th>\n",
       "      <td>0.055694</td>\n",
       "      <td>-0.003741</td>\n",
       "      <td>0.577003</td>\n",
       "      <td>0.032614</td>\n",
       "      <td>-0.043522</td>\n",
       "      <td>-0.620525</td>\n",
       "    </tr>\n",
       "  </tbody>\n",
       "</table>\n",
       "</div>"
      ],
      "text/plain": [
       "      Return  EstDivGrowth        DP    dPrice  Dividend     Price\n",
       "0   0.000000      0.000000  0.000000  0.000000  0.000000  0.000000\n",
       "1  -0.960000      0.000000  1.000000 -1.000000  0.000000 -1.000000\n",
       "2   0.090802     -0.006098  0.940728  0.053173 -0.006098 -0.946827\n",
       "3   0.085420     -0.005737  0.884970  0.050022 -0.011835 -0.896805\n",
       "4   0.080357     -0.005397  0.832516  0.047057 -0.017232 -0.849749\n",
       "5   0.075594     -0.005077  0.783172  0.044268 -0.022309 -0.805481\n",
       "6   0.071114     -0.004776  0.736752  0.041644 -0.027085 -0.763837\n",
       "7   0.066899     -0.004493  0.693083  0.039175 -0.031578 -0.724662\n",
       "8   0.062934     -0.004227  0.652003  0.036853 -0.035805 -0.687808\n",
       "9   0.059203     -0.003976  0.613358  0.034669 -0.039781 -0.653139\n",
       "10  0.055694     -0.003741  0.577003  0.032614 -0.043522 -0.620525"
      ]
     },
     "execution_count": 7,
     "metadata": {},
     "output_type": "execute_result"
    },
    {
     "data": {
      "image/png": "[encoded data removed]",
      "text/plain": [
       "<matplotlib.figure.Figure at 0x7fa1754ede10>"
      ]
     },
     "metadata": {},
     "output_type": "display_data"
    },
    {
     "data": {
      "image/png": "[encoded data removed]",
      "text/plain": [
       "<matplotlib.figure.Figure at 0x7fa1754edac8>"
      ]
     },
     "metadata": {},
     "output_type": "display_data"
    },
    {
     "data": {
      "image/png": "[encoded data removed]",
      "text/plain": [
       "<matplotlib.figure.Figure at 0x7fa1754edcc0>"
      ]
     },
     "metadata": {},
     "output_type": "display_data"
    },
    {
     "data": {
      "image/png": "[encoded data removed]",
      "text/plain": [
       "<matplotlib.figure.Figure at 0x7fa1753dd390>"
      ]
     },
     "metadata": {},
     "output_type": "display_data"
    }
   ],
   "source": [
    "ir_dg = pd.DataFrame(np.zeros((11,3)), columns=['Return', 'EstDivGrowth', 'DP'], \n",
    "                             index = [i for i in range(11)])\n",
    "ir_dy = ir_dg.copy()\n",
    "div_growth_shock = np.array([1, 1, 0])\n",
    "exp_ret_shock = np.array([-rho, 0, 1])\n",
    "coeff = np.array(tst.params.ix[1, :])\n",
    "#coeff = np.array([0.1,0.01,0.94])\n",
    "ir_dg.ix[1] = div_growth_shock\n",
    "ir_dy.ix[1] = exp_ret_shock\n",
    "\n",
    "for i in range (2, 11):\n",
    "    ir_dg.ix[i, :] = coeff * ir_dg.ix[i-1, 'DP']\n",
    "    ir_dy.ix[i, :] = coeff * ir_dy.ix[i-1, 'DP']\n",
    "\n",
    "ir_dg['dPrice'] = -ir_dg.DP + ir_dg.EstDivGrowth + ir_dg.DP.shift()\n",
    "ir_dg.ix[0, 'dPrice'] = 0\n",
    "ir_dy['dPrice'] = -ir_dy.DP + ir_dy.EstDivGrowth + ir_dy.DP.shift()\n",
    "ir_dy.ix[0, 'dPrice'] = 0\n",
    "ir_dg['Dividend'] = ir_dg.EstDivGrowth.cumsum()\n",
    "ir_dg['Price'] = ir_dg.dPrice.cumsum()\n",
    "ir_dy['Dividend'] = ir_dy.EstDivGrowth.cumsum()\n",
    "ir_dy['Price'] = ir_dy.dPrice.cumsum()\n",
    "ir_dg[['Return', 'EstDivGrowth']].plot(title = 'Dividend Growth Shock Effects')\n",
    "ir_dy[['Return', 'EstDivGrowth']].plot(title = 'Expected Return Shock Effects')\n",
    "ir_dg[['Return', 'EstDivGrowth', 'dPrice']].cumsum().plot(title = \n",
    "       'Dividend Growth Shock Cumulative Effects')\n",
    "ir_dy[['Return', 'Dividend', 'Price']].plot(title = 'Expected Return Shock Cumulative Effects')\n",
    "print('{:.4f} {:.4f} {:.4f} {:.4f} {:.4f} {:.4f}'.format(*ir_dy.ix[[1,10], \n",
    "                                                                   [0,4,5]].values.ravel()))\n",
    "ir_dy"
   ]
  },
  {
   "cell_type": "markdown",
   "metadata": {},
   "source": [
    "#Homework 2: Variance Decomposition\n",
    "\n",
    "####Question 1\n",
    "\n",
    "This homework builds on the VAR homework. I wanted you to do that one and make sure you got it right before going on. Now, let's answer the question \"how much of the variance of prices, returns, etc. comes from discount rate shocks and how much comes from return shocks?\"\n",
    "\n",
    "Start by computing the conventional decomposition of the variance of log dividend price ratios from the estimates of your VAR.\n",
    "\n",
    "$$var(dp_t) = \\sum_{j=1}^\\infty \\rho^{j-1}cov(dp_t,r_{t+j}) -  \\sum_{j=1}^\\infty \\rho^{j-1}cov(dp_t,\\Delta d_{t+j})$$\n",
    "\n",
    "and then divide the right hand sides by $dp_t$. (It's actually pretty easy, but I want you to remember, rederive, or go look up the easy formula.)\n",
    "\n",
    "Calculate the percentage of the variance of dividend yields explained, in fashion suggested by this equation, by changing expected returns vs. changing expected dividend growth, using your VAR estimates $b_d$, $b_r$, $\\phi$, $\\sigma(\\epsilon)$, etc. . (Don't estimate a lot of covariances! Use the VAR and find its implications for the right hand side of the last equation.) Enter two numbers, separated by a space. (Hint: The numbers should add up to 100.)\n"
   ]
  },
  {
   "cell_type": "code",
   "execution_count": 8,
   "metadata": {
    "collapsed": false
   },
   "outputs": [
    {
     "name": "stdout",
     "output_type": "stream",
     "text": [
      "93.7065 6.2935\n"
     ]
    }
   ],
   "source": [
    "lr_r = tst.params[0].DP_l1 / (1 - rho * tst.params[2].DP_l1) \n",
    "lr_d = tst.params[1].DP_l1 / (1 - rho * tst.params[2].DP_l1) \n",
    "print('{:.4f} {:.4f}'.format(lr_r * 100, -lr_d * 100))"
   ]
  },
  {
   "cell_type": "markdown",
   "metadata": {},
   "source": [
    "#####Question 2\n",
    "This seems a little dry. Let's learn Shiller's lesson and see if we can summarize it in a sexy graph.\n",
    "\n",
    "We can use the approximate price-dividend identity\n",
    "\n",
    "$$p_{t}-d_{t}=E_{t}\\sum_{j=1}^{\\infty }\\rho ^{j-1}\\Delta\n",
    "d_{t+j}-E_{t}\\sum_{j=1}^{\\infty }\\rho ^{j-1}r_{t+j}$$\n",
    "\n",
    "to decompose the price-dividend ratio at each date into the part due to expected future dividends $E_{t}\\sum_{j=1}^{\\infty }\\rho ^{j-1}\\Delta\n",
    "d_{t+j}$ and the part due to expected future returns $E_{t}\\sum_{j=1}^{\\infty }\\rho ^{j-1} r_{t+j}$. Use your VAR to calculate these two terms at each date. Plot the actual $p_t−d_t$ over time along with the two terms on the right hand side of this equation.\n",
    "\n",
    "Notes: The formulas all apply to demeaned variables, i.e. $x_t−E(x_t)$ We're interested in how things vary over time, not the levels. I took out all the means.\n",
    "\n",
    "The answer looks too simple to be true; each term will be some constant times $d_t−p_t$ itself. That's ok. If you forecast $y_{t+1}=a+bx_t+\\epsilon{t+1}$ then the forecast $E_ty_{t+1}$ just follows $x_t$. If we use multiple forecasters on the right hand side, then the expected dividend and expected return terms will not be perfectly correlated, but I wanted to keep it simple. "
   ]
  },
  {
   "cell_type": "code",
   "execution_count": 24,
   "metadata": {
    "collapsed": false,
    "scrolled": false
   },
   "outputs": [
    {
     "data": {
      "image/png": "[encoded data removed]",
      "text/plain": [
       "<matplotlib.figure.Figure at 0x7fa175289f60>"
      ]
     },
     "metadata": {},
     "output_type": "display_data"
    }
   ],
   "source": [
    "long_run_approx = pd.DataFrame({'dp' : -(log_ret_data.DP - log_ret_data.DP.mean()),\n",
    "                                'lr_Dd' : -(log_ret_data.DP - log_ret_data.DP.mean()) * lr_d,\n",
    "                                'lr_r' : -(log_ret_data.DP - log_ret_data.DP.mean()) * lr_r})\n",
    "long_run_approx.plot();"
   ]
  },
  {
   "cell_type": "markdown",
   "metadata": {},
   "source": [
    "> **Answer: The part of pd due to expected returns is so close to pd itself that they are hard to tell apart. **"
   ]
  },
  {
   "cell_type": "code",
   "execution_count": 10,
   "metadata": {
    "collapsed": false
   },
   "outputs": [
    {
     "data": {
      "text/html": [
       "<div style=\"max-height:1000px;max-width:1500px;overflow:auto;\">\n",
       "<table border=\"1\" class=\"dataframe\">\n",
       "  <thead>\n",
       "    <tr style=\"text-align: right;\">\n",
       "      <th></th>\n",
       "      <th>c_div</th>\n",
       "      <th>c_ret</th>\n",
       "      <th>dp</th>\n",
       "    </tr>\n",
       "  </thead>\n",
       "  <tbody>\n",
       "    <tr>\n",
       "      <th>c_div</th>\n",
       "      <td>0.149774</td>\n",
       "      <td>0.316735</td>\n",
       "      <td>0.166960</td>\n",
       "    </tr>\n",
       "    <tr>\n",
       "      <th>c_ret</th>\n",
       "      <td>0.316735</td>\n",
       "      <td>0.669814</td>\n",
       "      <td>0.353079</td>\n",
       "    </tr>\n",
       "    <tr>\n",
       "      <th>dp</th>\n",
       "      <td>0.166960</td>\n",
       "      <td>0.353079</td>\n",
       "      <td>0.186118</td>\n",
       "    </tr>\n",
       "  </tbody>\n",
       "</table>\n",
       "</div>"
      ],
      "text/plain": [
       "          c_div     c_ret        dp\n",
       "c_div  0.149774  0.316735  0.166960\n",
       "c_ret  0.316735  0.669814  0.353079\n",
       "dp     0.166960  0.353079  0.186118"
      ]
     },
     "execution_count": 10,
     "metadata": {},
     "output_type": "execute_result"
    },
    {
     "data": {
      "image/png": "[encoded data removed]",
      "text/plain": [
       "<matplotlib.figure.Figure at 0x7fa1752deb38>"
      ]
     },
     "metadata": {},
     "output_type": "display_data"
    }
   ],
   "source": [
    "corrected_ret = pd.DataFrame({'dp' : long_run_approx.dp, \n",
    "                              'c_ret' : (long_run_approx.lr_r + rho * long_run_approx.dp),\n",
    "                              'c_div' : (long_run_approx.lr_Dd + rho * long_run_approx.dp)})\n",
    "corrected_ret.plot()\n",
    "corrected_ret.cov()"
   ]
  },
  {
   "cell_type": "markdown",
   "metadata": {},
   "source": [
    "> **Answer: The return term is again almost the same as pd itself. The dividend growth term varies, about half as much as pd, but not well correlated with pd. **"
   ]
  },
  {
   "cell_type": "markdown",
   "metadata": {},
   "source": [
    "###Question 4\n",
    "\n",
    "Now, let's decompose the variance of returns into the part due to expected return variation and the part due to dividend growth variation. As we have already seen, $r_{t+1} = b_r dp_{t}+\\varepsilon^r_{t+1}$ implies $var(r_{t+1}) = b_r^2 var(dp_t)+var(\\varepsilon^r_{t+1})$, and the $R^2$ of this regression is so low that the variance of returns is dominated by the variance of the error. So, for the purposes of a problem, let's just focus on the variance of unexpected returns $\\epsilon_r$.\n",
    "\n",
    "Now, from the return identity $r_{t+1}=-\\rho dp_{t+1}+dp_t+\\Delta d_{t+1}$, we have $\\varepsilon^r_{t+1} = -\\rho \\varepsilon^{dp}_{t+1}+ \\varepsilon^d_{t+1}$. We can use this in two ways: as we did for $d_p$,we can multiply by the return shock $\\epsilon^r_{t+1}$ and take expectations to obtain\n",
    "\n",
    "$$var(\\varepsilon^r_{t+1}) = -\\rho cov(\\varepsilon^r_{t+1},\\varepsilon^{dp}_{t+1})+ cov(\\varepsilon^r_{t+1}, \\varepsilon^d_{t+1})$$\n",
    "\n",
    "or, we can just take variance of both sides\n",
    "\n",
    "$$var(\\varepsilon^r_{t+1}) = \\rho^2 var(\\varepsilon^{dp}_{t+1})+ var(\\varepsilon^d_{t+1})-2\\rho cov(\\varepsilon^{d}_{t+1},\\varepsilon^{dp}_{t+1})$$\n",
    "\n",
    "The latter is more satisfactory, but leaves unsettled how to assign the covariance term. However, working on the former, we can write\n",
    "$$var(\\varepsilon^r_{t+1}) = -\\rho cov(-\\rho \\varepsilon^{dp}_{t+1}+ \\varepsilon^d_{t+1},\\varepsilon^{dp}_{t+1})+ cov(-\\rho \\varepsilon^{dp}_{t+1}+ \\varepsilon^d_{t+1}, \\varepsilon^d_{t+1})$$\n",
    "\n",
    "$$var(\\varepsilon^r_{t+1}) = \\left[\\rho^2 var(\\varepsilon^{dp}_{t+1})-\\rho cov(\\varepsilon^d_{t+1},\\varepsilon^{dp}_{t+1})\\right]+\n",
    "\\left[ var(\\varepsilon^d_{t+1})-\\rho cov(\\varepsilon^{dp}_{t+1}, \\varepsilon^d_{t+1}) \\right]$$\n",
    "\n",
    "So the two approaches do give the same numbers (of course!) and the former approach says to split the covariance term between them.\n",
    "\n",
    "Inspired by all this, calculate this return decomposition. What fraction of return variance is due to shocks to dividend yields $\\epsilon^{dp}$ -- which, we have learned, are expected return shocks -- and what fraction of return variance is due to variance of current and expected future dividends, $\\epsilon^d_{t+1}$? Calculate the two terms of the last expression, and express them as percentages of the variance of return shocks. Enter two numbers, which add to 100, separated by a space.\n"
   ]
  },
  {
   "cell_type": "code",
   "execution_count": 11,
   "metadata": {
    "collapsed": false
   },
   "outputs": [
    {
     "name": "stdout",
     "output_type": "stream",
     "text": [
      "49.7066 50.2934\n"
     ]
    }
   ],
   "source": [
    "div_yield_shocks = rho**2 * tst.resid.DP.var() - rho * tst.resid.cov().EstDivGrowth.DP\n",
    "div_shocks = tst.resid.EstDivGrowth.var() - rho * tst.resid.cov().EstDivGrowth.DP\n",
    "\n",
    "print('{:.4f} {:.4f}'.format(div_yield_shocks / tst.resid.Return.var() * 100, \n",
    "                             div_shocks / tst.resid.Return.var() * 100))"
   ]
  },
  {
   "cell_type": "markdown",
   "metadata": {},
   "source": [
    "####Question 5\n",
    "\n",
    "How does the decomposition of variance depend on horizon? Are short horizon returns more or less due to discoiunt rate/ divided growth shocks than long-horizon returns? The algebra will be easier if we decompose the variance of price changes $\\Delta p_{t+1} = -dp_{t+1}+dp_t + \\Delta d_{t+1}$ rather than the variance of returns. (If you want a fun exercise do this problem for long-horizon returns too). We will work it out for the simplified VAR,\n",
    "\n",
    "$$\\Delta d_{t+1} = 0 \\times dp_t + \\varepsilon^d_{t+1}$$\n",
    "\n",
    "$$dp_{t+1} = \\phi \\times dp_t + \\varepsilon^{dp}_{t+1}$$\n",
    "\n",
    "and $cov(\\varepsilon^d_{t+1},\\varepsilon^{dp}_{t+1})=0$. For one period, then, we have\n",
    "\n",
    "$$p_{t+1}-p_t = (1-\\phi) dp_t + \\varepsilon^{dp}_{t+1} + \\varepsilon^d_{t+1}$$\n",
    "\n",
    "and we can decompose its variance as\n",
    "\n",
    "$$var(p_{t+1}-p_t) = (1-\\phi)^2 var(dp_t) + var(\\varepsilon^{dp}_{t+1}) +var(\\varepsilon^d_{t+1})$$\n",
    "$$var(p_{t+1}-p_t) = \\left(\\frac{(1-\\phi)^2}{1-\\phi^2} +1\\right) var(\\varepsilon^{dp}_{t+1}) +var(\\varepsilon^d_{t+1})$$\n",
    "$$var(p_{t+1}-p_t) = \\left(\\frac{2}{1+\\phi} \\right) var(\\varepsilon^{dp}_{t+1}) +var(\\varepsilon^d_{t+1})$$\n",
    "$$var(p_{t+1}-p_t) = \\left(\\frac{2}{1+0.94} \\right) 0.15^2+0.145^2$$\n",
    "As you can see, the answer is about 50/50.\n",
    "\n",
    "Your job: Find the same decomposition of variance for $k$ period price changes. Express $p_{t+k}-p_t$ in terms of dividend yield (expected return) shocks ${\\epsilon^{dp}_t}$ and dividend growth shocks ${\\epsilon^d_t}$, and find the fraction of variance explained by each shocks. You're looking for a formula\n",
    "$$var(p_{t+k}-p_t) = (\\cdot)var(\\varepsilon^{dp}_{t+1})+(\\cdot)var(\\varepsilon^{d}_{t+1})$$\n",
    "using the simplified VAR.\n"
   ]
  },
  {
   "cell_type": "code",
   "execution_count": 16,
   "metadata": {
    "collapsed": false
   },
   "outputs": [
    {
     "name": "stdout",
     "output_type": "stream",
     "text": [
      "52.5237 26.2381 0\n"
     ]
    },
    {
     "data": {
      "image/png": "[encoded data removed]",
      "text/plain": [
       "<matplotlib.figure.Figure at 0x7fa175450198>"
      ]
     },
     "metadata": {},
     "output_type": "display_data"
    }
   ],
   "source": [
    "var_dec = pd.DataFrame(np.c_[[2 * (1 - tst.params[2].DP_l1**k) / \n",
    "                      (1 - tst.params[2].DP_l1**2) * tst.resid.DP.var() for k in range(1, 101)],\n",
    "                      [k * tst.resid.EstDivGrowth.var() for k in range(1, 101)]], \n",
    "                      columns = ['Expected Returns', 'Dividends'])\n",
    "cum_var_dec = var_dec.divide(var_dec.sum(axis = 1), axis=0)\n",
    "\n",
    "print('{:.4f} {:.4f} {:}'.format(cum_var_dec.ix[0, 'Expected Returns'] * 100, \n",
    "                                    cum_var_dec.ix[49, 'Expected Returns'] * 100, 0))\n",
    "cum_var_dec.plot();"
   ]
  },
  {
   "cell_type": "markdown",
   "metadata": {},
   "source": [
    "#Homework 3: Two little models\n",
    "\n",
    "####Question 1\n",
    "In this homework we'll explore two little \"structural\" models that generate results like our VAR. This will help, I hope, to understand cause and effect issues.\n",
    "\n",
    "Expected returns $x_t=E_tr_{t+1}$ and dividends $\\Delta d_t$ are the exogenous driving variables. Dividend growth is iid $\\Delta d_{t+1}=\\epsilon^d_{t+1}$ and expected returns follow an AR(1) $x_{t+1}=\\phi x_t+\\epsilon^x_{t+1}$. Expected return and dividend shocks $\\epsilon^d_{t+1}$ and $\\epsilon^x_{t+1}$ are uncorrelated. Agents see $x_t$ and $d_t$. We see $d_t$ but we do not see $x_t$. Use $\\phi$ =0.94 and $\\rho$=0.96 for numerical problems.\n",
    "\n",
    "Stock prices are generated by a present value model, $p_t - d_t = E_t \\sum_{j=1}^\\infty \\rho^{j-1} \\Delta d_{t+j} - E_t \\sum_{j=1}^\\infty \\rho^{j-1} r_{t+j}$. And don't forget the return identity $r_{t+1} = -\\rho dp_{t+1} + dp_t + \\Delta d_{t+1}$.\n",
    "\n",
    "Find the formula relating the dividend yield dpt to the exogenous variables of your model. Substitute out the unobservable $x_t$ to find your model's predictions for the VAR representation of endogenous variables,\n",
    "\n",
    "$$\\Delta d _{t+1} = b_d dp_t + \\varepsilon^d_{t+1}$$\n",
    "$$r _{t+1} = b_r dp_t + \\varepsilon^r_{t+1}$$\n",
    "$$dp _{t+1} = b_{dp} dp_t + \\varepsilon^{dp}_{t+1}$$\n",
    "\n",
    "Actually, you need to derive the fact that these variables have a VAR(1) representation with no additional lags, but I'll give that to you for free. Your job is to find $b_d$,$b_r$, and $b_{dp}$ in terms of the fundamentals of the model, as well as to relate $\\epsilon r_{t+1}$ and $\\epsilon dp_{t+1}$ to the structural shocks $\\epsilon d_{t+1}$ and $\\epsilon x_{t+1}$. (In general you'd also have to prove that the VAR dividend shock is the same as the structural one, but that's pretty obvious too.) "
   ]
  },
  {
   "cell_type": "code",
   "execution_count": 40,
   "metadata": {
    "collapsed": false
   },
   "outputs": [
    {
     "name": "stdout",
     "output_type": "stream",
     "text": [
      "-0.0029 0.0869 0.9419\n"
     ]
    },
    {
     "data": {
      "text/plain": [
       "0.10682630274070894"
      ]
     },
     "execution_count": 40,
     "metadata": {},
     "output_type": "execute_result"
    }
   ],
   "source": [
    "x = rho * long_run_approx.dp - long_run_approx.dp.shift() - tst.resid.EstDivGrowth\n",
    "mod_1_VAR = sm.ols('dD + r + dp ~ dp_l1', data = {'dD' : tst.resid.EstDivGrowth, \n",
    "                                                  'r' : log_ret_data.Return[1:],\n",
    "                                                  'dp': -long_run_approx.dp[1:], \n",
    "                                                  'dp_l1' : -long_run_approx.dp[1:].shift()\n",
    "                                                 }).fit()\n",
    "\n",
    "\n",
    "print('{:.4f} {:.4f} {:.4f}'.format(mod_1_VAR.params[0].dp_l1, mod_1_VAR.params[1].dp_l1,\n",
    "                                    mod_1_VAR.params[2].dp_l1))\n",
    "(1 /(1 - rho * phi)) * x.mean()"
   ]
  },
  {
   "cell_type": "markdown",
   "metadata": {},
   "source": [
    "####Question 2\n",
    "\n",
    "In the context of the last question, find the relationship between the dividend yield VAR shock $\\epsilon^{dp}_{t+1}$, and the return shock $\\epsilon^r_{t+1}$ that emerge from the VAR to the underlying structural shocks $\\epsilon^x_{t+1}$ and $\\epsilon^d_{t+1}$.\n",
    "\n",
    "Now, calculate the predicted variance-covariance matrix of your VAR. For grading, assume $\\sigma(\\epsilon^x$)=0.015, $\\sigma(\\epsilon^d)$=0.15, and enter $\\sigma(\\epsilon^{dp})$, $\\sigma(\\epsilon^r)$, $corr(\\epsilon^d,\\epsilon^{dp})$, and $corr(\\epsilon^r, \\epsilon^{dp})$ as four numbers separated by spaces.\n"
   ]
  },
  {
   "cell_type": "code",
   "execution_count": 32,
   "metadata": {
    "collapsed": false
   },
   "outputs": [
    {
     "name": "stdout",
     "output_type": "stream",
     "text": [
      "0.1509 0.0003 0.0000 -0.6729\n"
     ]
    },
    {
     "data": {
      "text/html": [
       "<div style=\"max-height:1000px;max-width:1500px;overflow:auto;\">\n",
       "<table border=\"1\" class=\"dataframe\">\n",
       "  <thead>\n",
       "    <tr style=\"text-align: right;\">\n",
       "      <th></th>\n",
       "      <th>dD</th>\n",
       "      <th>r</th>\n",
       "      <th>dp</th>\n",
       "    </tr>\n",
       "  </thead>\n",
       "  <tbody>\n",
       "    <tr>\n",
       "      <th>dD</th>\n",
       "      <td>1.000000</td>\n",
       "      <td>0.674775</td>\n",
       "      <td>0.091916</td>\n",
       "    </tr>\n",
       "    <tr>\n",
       "      <th>r</th>\n",
       "      <td>0.674775</td>\n",
       "      <td>1.000000</td>\n",
       "      <td>-0.672877</td>\n",
       "    </tr>\n",
       "    <tr>\n",
       "      <th>dp</th>\n",
       "      <td>0.091916</td>\n",
       "      <td>-0.672877</td>\n",
       "      <td>1.000000</td>\n",
       "    </tr>\n",
       "  </tbody>\n",
       "</table>\n",
       "</div>"
      ],
      "text/plain": [
       "          dD         r        dp\n",
       "dD  1.000000  0.674775  0.091916\n",
       "r   0.674775  1.000000 -0.672877\n",
       "dp  0.091916 -0.672877  1.000000"
      ]
     },
     "execution_count": 32,
     "metadata": {},
     "output_type": "execute_result"
    }
   ],
   "source": [
    "sigma = np.sqrt(mod_1_VAR.resid.cov())\n",
    "sigma_r = -rho * sigma.dp.dp + sigma.dD.dD\n",
    "corr = mod_1_VAR.resid.corr()\n",
    "\n",
    "print('{:.4f} {:.4f} {:.4f} {:.4f}'.format(sigma.dp.dp, sigma_r, 0, corr.r.dp))\n",
    "corr"
   ]
  },
  {
   "cell_type": "markdown",
   "metadata": {},
   "source": [
    "####Question 3\n",
    "\n",
    "That all may have seemed to easy. Let's explore the opposite world. What would the world look like if expected returns are instead constant over time? Suppose our state variable x still follows an AR(1) but not controls expected dividend growth.\n",
    "\n",
    "$$x_{t+1} = \\phi x_t + \\varepsilon^x_{t+1}$$\n",
    "$$\\Delta d_{t+1} = x_t + \\varepsilon^d_{t+1}$$\n",
    "And assume that the two shocks are uncorrelated.\n",
    "\n",
    "Stop a minute and savor this process, as it is very common throughout finance. We have a slow moving mean, and then the actual variable is that mean plus iid noise. We'll see this model at the heart of models of options and the term structure of interest rates.\n",
    "\n",
    "This time, we'll specify that expected returns are constant $E_t(r_{t+1})=0$ (all means are still removed.)\n",
    "\n",
    "With this structure, find again the dividend-price ratio in terms of the exogenous variables, using the Campbell-Shiller present value formula\n",
    "\n",
    "$$dp_t = E_t \\sum_{j=1}^\\infty \\rho^{j-1}( r_{t+j}-\\Delta d_{t+j} )$$\n",
    "\n",
    "Then find the VAR representation for dividend growth, dividend yields and returns predicted by this model, i.e. the b and errors in\n",
    "\n",
    "$$\\Delta d _{t+1} = b_d dp_t + \\varepsilon^d_{t+1}$$\n",
    "$$r _{t+1} = b_r dp_t + \\varepsilon^r_{t+1}$$\n",
    "$$dp _{t+1} = b_{dp} dp_t + \\varepsilon^{dp}_{t+1}$$\n",
    "\n",
    "Enter $b_r$, $b_d$, $b_{dp}$ as three numbers separated by a space. Use $\\rho$=0.96, $\\phi$=0.94, $\\sigma(\\epsilon^x)$=0.015, $\\sigma(\\epsilon^d)$=0.15\n",
    "\n",
    "To think about: Before, when we ran a VAR, we recovered a \"cashflow shock\" to dividends with no change in $d_p$, and an \"expected return shock\" to $d_p$ with no change in dividends, and these were uncorrelated. The last x model made that clearer. In this VAR, what are the structural interpretations of the shocks? Are they uncorrelated? Can we make such a nice interpretation of the VAR shocks, or are the structural shocks hidden, need orthogonalization, etc?\n"
   ]
  },
  {
   "cell_type": "code",
   "execution_count": 42,
   "metadata": {
    "collapsed": false
   },
   "outputs": [
    {
     "name": "stdout",
     "output_type": "stream",
     "text": [
      "0.0002 -0.0010 0.9407\n"
     ]
    },
    {
     "data": {
      "text/html": [
       "<div style=\"max-height:1000px;max-width:1500px;overflow:auto;\">\n",
       "<table border=\"1\" class=\"dataframe\">\n",
       "  <thead>\n",
       "    <tr style=\"text-align: right;\">\n",
       "      <th></th>\n",
       "      <th>0</th>\n",
       "      <th>1</th>\n",
       "      <th>2</th>\n",
       "    </tr>\n",
       "  </thead>\n",
       "  <tbody>\n",
       "    <tr>\n",
       "      <th>Intercept</th>\n",
       "      <td>0.088992</td>\n",
       "      <td>0.035106</td>\n",
       "      <td>0.010260</td>\n",
       "    </tr>\n",
       "    <tr>\n",
       "      <th>dp_l1</th>\n",
       "      <td>0.000193</td>\n",
       "      <td>-0.000991</td>\n",
       "      <td>0.940728</td>\n",
       "    </tr>\n",
       "  </tbody>\n",
       "</table>\n",
       "</div>"
      ],
      "text/plain": [
       "                  0         1         2\n",
       "Intercept  0.088992  0.035106  0.010260\n",
       "dp_l1      0.000193 -0.000991  0.940728"
      ]
     },
     "execution_count": 42,
     "metadata": {},
     "output_type": "execute_result"
    }
   ],
   "source": [
    "sigma_e_x = 0.015\n",
    "sigma_e_d = 0.15\n",
    "phi = 0.94\n",
    "\n",
    "x = pd.Series(np.ones(log_ret_data.Return.size) * np.random.normal(scale = sigma_e_x), \n",
    "              index=log_ret_data.index)\n",
    "x[1:] = [x[i-1] * phi + np.random.normal(scale = sigma_e_x) for i in range(1, len(x))]\n",
    "\n",
    "d = pd.Series(x.shift() + np.random.normal(scale = sigma_e_d))\n",
    "\n",
    "mod_2_data = pd.DataFrame()\n",
    "\n",
    "mod_2_VAR = sm.ols('d + r + dp ~ dp_l1', data = {'d' : d, 'r' : x, 'dp' : long_run_approx.dp,\n",
    "                   'dp_l1' : (long_run_approx.dp - long_run_approx.dp.mean()).shift()}).fit()\n",
    "\n",
    "print('{:.4f} {:.4f} {:.4f}'.format(mod_2_VAR.params[0].dp_l1, mod_2_VAR.params[1].dp_l1,\n",
    "                                    mod_2_VAR.params[2].dp_l1))\n",
    "\n",
    "mod_2_VAR.params"
   ]
  },
  {
   "cell_type": "markdown",
   "metadata": {},
   "source": [
    "####Question 4\n",
    "\n",
    "Plot your model's impulse-response function to a dividend yield shock and a dividend growth shock. As we did with the original VAR, make sure you include the immediate response of returns to the two shocks right. Plot the response of dividends (level), price, return, and dividend yield to each of the two shocks.\n",
    "\n",
    "Which statements correspond to your graph of the response to a dividend growth shock $\\epsilon^d=1$, that has no effect on the dividend yield. $\\epsilon^{dp}=0$?"
   ]
  },
  {
   "cell_type": "code",
   "execution_count": null,
   "metadata": {
    "collapsed": false
   },
   "outputs": [],
   "source": [
    "ir_dy = pd.DataFrame(np.zeros((11,3)), columns=['Return', 'EstDivGrowth', 'DP'], \n",
    "                             index = [i for i in range(11)])\n",
    "exp_ret_shock = np.array([1, 1, 0])\n",
    "coeff = np.array(mod_2_VAR.params.ix[1, :])\n",
    "ir_dy.ix[1] = exp_ret_shock\n",
    "\n",
    "for i in range (2, 11):\n",
    "    ir_dy.ix[i, :] = coeff * ir_dy.ix[i-1, 'DP']\n",
    "\n",
    "ir_dy['dPrice'] = -ir_dy.DP + ir_dy.EstDivGrowth + ir_dy.DP.shift()\n",
    "ir_dy.ix[0, 'Price'] = 0\n",
    "ir_dy['Dividend'] = ir_dy.EstDivGrowth.cumsum()\n",
    "ir_dy['Price'] = ir_dy.dPrice.cumsum()\n",
    "ir_dy[['Return', 'EstDivGrowth']].plot(title = 'Expected Return Shock Effects')\n",
    "ir_dy[['Return', 'Dividend', 'Price']].plot(title = 'Expected Return Shock Cumulative Effects')\n",
    "ir_dy"
   ]
  },
  {
   "cell_type": "markdown",
   "metadata": {},
   "source": [
    "> **Answer: Dividends, return, and price all jump up by one at the time of the shock. Return goes back to zero, dividend and price stay up at one forever after.  **\n",
    "\n",
    "####Question 5\n",
    "\n",
    "Which statements correspond to your graph of the response to a dividend yield shock $\\epsilon^{dp}=−1$, that has no effect on dividend growth, $\\epsilon^d=0$? (Note we'll use a negative dp shock, which will make a prettier graph. The sign in the answers reflects this choice. ) "
   ]
  },
  {
   "cell_type": "code",
   "execution_count": null,
   "metadata": {
    "collapsed": false
   },
   "outputs": [],
   "source": [
    "ir_dy = pd.DataFrame(np.zeros((11,3)), columns=['Return', 'EstDivGrowth', 'DP'], \n",
    "                     index = [i for i in range(11)])\n",
    "exp_ret_shock = np.array([rho, 0, -1])\n",
    "coeff = np.array(mod_2_VAR.params.ix[1, :])\n",
    "ir_dy.ix[1] = exp_ret_shock\n",
    "\n",
    "for i in range (2, 11):\n",
    "    ir_dy.ix[i, :] = coeff * ir_dy.ix[i-1, 'DP']\n",
    "\n",
    "ir_dy['dPrice'] = -ir_dy.DP + ir_dy.EstDivGrowth + ir_dy.DP.shift()\n",
    "ir_dy.ix[0, 'Price'] = 0\n",
    "ir_dy['Dividend'] = ir_dy.EstDivGrowth.cumsum()\n",
    "ir_dy['Price'] = ir_dy.dPrice.cumsum()\n",
    "ir_dy[['Return', 'EstDivGrowth']].plot(title = 'Expected Return Shock Effects')\n",
    "ir_dy[['Return', 'Dividend', 'Price']].plot(title = 'Expected Return Shock Cumulative Effects')\n",
    "ir_dy"
   ]
  },
  {
   "cell_type": "markdown",
   "metadata": {},
   "source": [
    ">**Answer: Returns rise in the period of the shock, then go back to zero. Dividends do nothing in the period of the shock, then gently rise. Price jumps in the period of the shock, then also rises but more slowly than dividends, so p and d end up in the same place. ** "
   ]
  }
 ],
 "metadata": {
  "kernelspec": {
   "display_name": "IPython (Python 3)",
   "language": "python",
   "name": "python3"
  },
  "language_info": {
   "codemirror_mode": {
    "name": "ipython",
    "version": 3
   },
   "file_extension": ".py",
   "mimetype": "text/x-python",
   "name": "python",
   "nbconvert_exporter": "python",
   "pygments_lexer": "ipython3",
   "version": "3.4.3"
  }
 },
 "nbformat": 4,
 "nbformat_minor": 0
}
