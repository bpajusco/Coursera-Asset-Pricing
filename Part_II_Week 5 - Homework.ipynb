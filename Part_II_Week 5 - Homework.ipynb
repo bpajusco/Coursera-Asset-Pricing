{
 "cells": [
  {
   "cell_type": "markdown",
   "metadata": {},
   "source": [
    "#Homework: Arbitrage Bounds \n",
    "\n",
    "####Question 1\n",
    "\n",
    "I always found arbitrage bounds annoying because they seemed to require you to be clever -- oh, payoff combination so and so is always greater than payoff combination such an such, so the price must be greater too. In any sort of real situation, with maybe 5-10 assets, I can't count on being clever enough to see all the possibilities. (Suppose this question were, given put and call options at 10 different strikes, find the arbitrage bounds on a given call. Fun, eh?) Nor, can I be sure I haven't left something out. Wouldn't it be nice if there were a constructive way to find arbitrage bounds?\n",
    "\n",
    "There is. Arbitrage bounds are a linear program. And linear programs have constructive solutions.\n",
    "\n",
    "To see the point, state the problem as a search for the discount factor: We want to look among all strictly positive (hence, arbitrage bound) discount factors which price the stock and bond to find the discount factor which generates the largest/smallest price for the option,\n",
    "\n",
    "$max_m, or min_m C=E(mx^c) s.t.$\n",
    "$m \\geq 0$\n",
    "$S=E(mS_T)$\n",
    "$1=E(mR^f)$\n",
    "\n",
    "meaning, really, that we are looking for the vector $m(s)$ that maximizes or minimizes\n",
    "\n",
    "$C=\\Sigma \\pi(S_T)m(S_T)x^c(S_T)$\n",
    "\n",
    "subject to constraints expressed similarly. Since $\\pi(S_T)m(S_T)$ always enter together, risk vs risk aversion is irrelevant, and we can choose instead the risk neutral probabilities as a function $\\pi^*(S_T)=R^f\\pi(S_T)m(S_T)$. Writing the problem this way\n",
    "\n",
    "$\\min_{\\pi ^{\\ast }(S_{T})}, ~\\text{or}~ \\max_{\\pi ^{\\ast }(S_{T})} C =\\frac{1}{R^{f}}\\sum \\pi ^{\\ast }(S_{T})\\max (S_{T}-X,0)$\n",
    "$\\pi^*(S_T)\\geq0$\n",
    "$S=\\frac{1}{R^f}\\Sigma\\pi^*(S_T)S_T$\n",
    "$1=\\Sigma \\pi^∗(S_T)$\n",
    "\n",
    "With continuous states, we are looking for the function $\\pi^∗(S_T)$ that\n",
    "\n",
    "$\\min_{\\pi ^{\\ast }(S_{T})}, ~\\text{or}~ \\max_{\\pi ^{\\ast }(S_{T})} C =\\frac{1}{R^{f}}\\int\\pi ^{\\ast }(S_{T})\\max (S_{T}-X,0)dS_T$ s.t.\n",
    "$\\pi^∗(S_T)\\geq 0$\n",
    "$S =\\frac{1}{R^{f}}\\int \\pi ^{\\ast }(S_{T})S_{T}(S_{T})dS_{T}$\n",
    "$1 =\\int \\pi ^{\\ast }(S_{T})dS_{T}$\n",
    "\n",
    "Now look hard at what we have. You're choosing the vector/function $\\pi^∗(S_T)$, the objective is a linear objective, and the constraints are linear constraints. This is a linear program!\n",
    "\n",
    "This approach also gives a useful reexpression of the problem. We can look at the risk neutral probabilities that generate arbitrage bounds. If we have a set of real probabilities (like a lognormal), we can divide the real from the risk neutral and find the discount factor, and we can at least think about whether that is a reasonable discount factor for the problem. Often, it is not -- it rises as S declines, it concentrates all mass on a few points, it's all ziggy zaggy, its variance implies a Sharpe ratio in the hundreds and so on. That may suggest further refinements in pricing, when you don't want to jump all the way to continuous time no-arbitrage arguments.\n",
    "\n",
    "Ok, this is supposed to be a quiz, not a lecture. Let's try the idea. Think of a call option with one year to go, the current stock price is \\$110, and the risk free rate is zero ($R^f=1$). Let's look at a call option with strike price \\$100. Let's start with the answer: What are the lower and upper arbitrage bounds on this call option price? Enter two numbers, separated by a space, accurate to two decimal points. You don't have to derive anything, just apply the formulas.\n",
    "\n",
    ">**Answer: The call value is (i) greater than zero, (ii) greater than stock minus present value of strike, and (iii) less than stock price. So, 10 and 110 are the answers. **\n",
    "\n",
    "####Question 2\n",
    "\n",
    "Now, what are the possible risk-neutral probabilities $\\pi^∗(S_T)$ that generate the lower arbitrage bound? The answer is not unique so there is a whole set of possibilities to describe.\n",
    "\n",
    "Hint: Start by considering all of your probability at \\$80, \\$100, and \\$120, where \\$100 is the strike price. Then generalize to probabilties at three states $S_{T,1}\\lt X$, $S_{T,2}- X$, and $S_{T,1}\\gt X$ and see what the three states should be. Finally, are there continous probabilities that could do as well or better?\n",
    "\n",
    "Hint 2: another way to do this problem is to start with one that works and try to generalize. To minimize option value, you want to minimize volatility. Does $\\pi^∗(110)=1$ work? But does $\\pi^∗(109)=1/2$, $\\pi^∗(111)=1/2$ work too? \n",
    "\n",
    ">**Answer:$\\pi^∗(S_T)$ is zero from $S_T=0$ to $S_T=X=100$. The shape of $\\pi^∗(S_T)$ is arbitrary above ST=100. $\\pi^∗(S_T)$ may have a point mass at $S_T=X=100$.**\n",
    "\n",
    "\n",
    "####Question 3\n",
    "Same question, but now find the set of $\\pi^∗(S_T)$ that generate the upper arbitrage bound $C=S$. \n",
    "\n",
    ">**Answer: $\\pi^∗(S_T)$ is a two-point distribution, approaching a limit that is infinitesimally small as $S_T\\rightarrow \\infty$ and the rest of the mass at $S_T=0$.**"
   ]
  }
 ],
 "metadata": {
  "kernelspec": {
   "display_name": "IPython (Python 3)",
   "language": "python",
   "name": "python3"
  },
  "language_info": {
   "codemirror_mode": {
    "name": "ipython",
    "version": 3
   },
   "file_extension": ".py",
   "mimetype": "text/x-python",
   "name": "python",
   "nbconvert_exporter": "python",
   "pygments_lexer": "ipython3",
   "version": "3.4.3"
  }
 },
 "nbformat": 4,
 "nbformat_minor": 0
}
