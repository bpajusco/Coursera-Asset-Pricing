{
 "cells": [
  {
   "cell_type": "markdown",
   "metadata": {},
   "source": [
    "#Quiz 2 : Risk-Neutral Probabilities \n",
    "\n",
    "####Question 1\n",
    "\n",
    "Let's continue to explore the binomial example. A stock has price $1$, and pays $u$ or $d$. The interest rate is $Rf$. The states have probability $\\pi(u)$ and $\\pi(d)$. Find\n",
    "\n",
    "a) the contingent claim prices\n",
    "b) the stochastic discount factor\n",
    "c) the risk neutral probabilities.\n",
    "\n",
    "Write out formulas for each quantity, i.e. in terms of $u,\\;d,\\;Rf,\\;\\pi(u),\\;\\pi(d)$. Calculate values based on $u=1.5,\\;d=0.9,\\;Rf=1.1,\\;\\pi(u)=2/3,\\;\\pi(d)=1/3$.\n",
    "\n",
    "Report the two contingent claims prices ${pc(u),pc(d)}$ as numbers, separated by spaces, accurate to two decimal places.\n",
    "\n",
    "Hint: As before, this is much easier if you set it up in matrix notation. $1=\\sum_s pc(s)x(s)$ holds for each asset, or\n",
    "\n",
    "$$[1] = \\begin {bmatrix} u & d \\end {bmatrix} \\begin {bmatrix}pc(u) \\\\ pc(d) \\end {bmatrix} ; [1]=\\begin {bmatrix}Rf & Rf \\end {bmatrix} \\begin {bmatrix}pc(u) \\\\ pc(d) \\end  {bmatrix} $$\n",
    "\n",
    "Putting stock and bond together,\n",
    "\n",
    "$$\\begin {bmatrix} 1 \\\\ 1 \\end {bmatrix}= \\begin {bmatrix} u & d \\\\ Rf & Rf \\end {bmatrix} \\begin {bmatrix} pc(u) \\\\ pc(d) \\end {bmatrix}$$"
   ]
  },
  {
   "cell_type": "code",
   "execution_count": 1,
   "metadata": {
    "collapsed": false
   },
   "outputs": [
    {
     "name": "stdout",
     "output_type": "stream",
     "text": [
      "0.30303030303 0.606060606061\n"
     ]
    }
   ],
   "source": [
    "import numpy as np\n",
    "\n",
    "u  = 1.5\n",
    "d  = 0.9\n",
    "Rf = 1.1\n",
    "p  = 2/3\n",
    "\n",
    "cc = np.linalg.pinv(np.array([[u, d], [Rf, Rf]])).dot(np.ones(2))\n",
    "print (*cc)"
   ]
  },
  {
   "cell_type": "markdown",
   "metadata": {},
   "source": [
    "####Question 2\n",
    "\n",
    "Report the stochastic discount factor $m(u)$, $m(d)$ as decimals, separated by a space."
   ]
  },
  {
   "cell_type": "code",
   "execution_count": 2,
   "metadata": {
    "collapsed": false
   },
   "outputs": [
    {
     "name": "stdout",
     "output_type": "stream",
     "text": [
      "0.454545454545 1.81818181818\n"
     ]
    }
   ],
   "source": [
    "sdf = cc / np.array([p, 1-p])\n",
    "print(*sdf)"
   ]
  },
  {
   "cell_type": "markdown",
   "metadata": {},
   "source": [
    "####Question 3\n",
    "\n",
    "Report the risk-neutral probabilities $\\pi^∗(u)$, $\\pi^∗(d)$ as decimals, separated by a space."
   ]
  },
  {
   "cell_type": "code",
   "execution_count": 3,
   "metadata": {
    "collapsed": false
   },
   "outputs": [
    {
     "name": "stdout",
     "output_type": "stream",
     "text": [
      "0.333333333333 0.666666666667\n"
     ]
    }
   ],
   "source": [
    "rnp = sdf * Rf * np.array([p, 1-p])\n",
    "print (*rnp)"
   ]
  },
  {
   "cell_type": "markdown",
   "metadata": {
    "collapsed": false
   },
   "source": [
    "#Homework: Three Ways to Price an Option \n",
    "\n",
    "\n",
    "We don't always use consumption growth to find a discount factor. In option pricing, we find a discount factor that prices the stock and bond (\"what must consumption growth have been to make the stock and bond price what they are?\") and use that discount factor to price an option. In this problem you get to see this approach, and compare it with arbitrage pricing and risk neutral pricing.\n",
    "\n",
    "A stock right now $(t=0)$ has price $S_0$. At time $t=1$ it will either rise to $S_1=S_u=u S_0$ or decline to $S_1=S_d=d S_0$ with equal probability. ($u$ and $d$ are numbers, like $1.2$ and $0.90$. Assume $u>d$ and $u>1$,$d<1$.) There is also a bond that pays $R_f$.\n",
    "\n",
    "\n",
    "####Question 1\n",
    "Find a discount factor which prices the stock and bond by construction. What this means is, find a value for m in the \" up\" state mu and m in the \"down\" state md  so that $S_{0}=E(mS_{1})=\\frac{1}{2}m_{u}S_{u}+\\frac{1}{2}m_{d}S_{d}$ and $1=E(mR_f)$. Note: $m$ is a random variable, not a number. When we \"choose m\" that means, \"choose the two numbers $m_u$ and $m_d$.\"\n",
    "\n",
    "Derive a formula for mu and md in terms of the givens of the problem $R_f,u,d,S_0$, (you'll need that later). Report the numerical value of $m_u$ and $m_d$ using $R_f=1, u=1.2, d=0.9, S_0=100$. Report $m_u$ and $m_d$ separated by spaces, and use decimals not fractions. "
   ]
  },
  {
   "cell_type": "code",
   "execution_count": 4,
   "metadata": {
    "collapsed": false
   },
   "outputs": [
    {
     "name": "stdout",
     "output_type": "stream",
     "text": [
      "0.6667 1.3333\n"
     ]
    }
   ],
   "source": [
    "Rf = 1.\n",
    "u = 1.2\n",
    "d = 0.9\n",
    "P = np.array([[u, d], [Rf, Rf]])\n",
    "s0 = np.ones(2) * 2\n",
    "m = np.linalg.inv(P).dot(s0)\n",
    "print ('{0:.4f} {1:.4f}'.format(*m))"
   ]
  },
  {
   "cell_type": "markdown",
   "metadata": {},
   "source": [
    "####Question 2\n",
    "\n",
    "Use this discount factor ${m_u,m_d}$ to price an at-the-money call option. The option pays $C_{1}=\\max(S_{1}-X,0)$ with $X=S_0$ (that's what \"at the money\" means). Find its value by $C_{0}=E(mC_{1})$. Derive a formula for $C_0$ in terms of model parameters. Calculate and report the numerical value of $C_0$ using the same parameter values as before."
   ]
  },
  {
   "cell_type": "code",
   "execution_count": 5,
   "metadata": {
    "collapsed": false
   },
   "outputs": [
    {
     "name": "stdout",
     "output_type": "stream",
     "text": [
      "13.3333\n"
     ]
    }
   ],
   "source": [
    "s = np.array([120, 90])\n",
    "k = 100.\n",
    "x = np.array([i-k if i-k>0 else 0 for i in s])\n",
    "c = x.dot(m)\n",
    "print ('{:.4f}'.format(c))"
   ]
  },
  {
   "cell_type": "markdown",
   "metadata": {},
   "source": [
    "####Question 3\n",
    "\n",
    "Find the call option value the traditional way: set up a portfolio of k dollars invested in stock and h dollars invested in the bond. Choose k and h to match the option payoff, $kS_{1}/S_{0}+hR^{f}=\\max(S_{1}-X,0)$ in both $u$ and $d$ states. Then find the formulas for $k$ and $h$. The initial value of the option is then the value (cost) of the replicating portfolio $k+h$. "
   ]
  },
  {
   "cell_type": "code",
   "execution_count": 6,
   "metadata": {
    "collapsed": false
   },
   "outputs": [
    {
     "name": "stdout",
     "output_type": "stream",
     "text": [
      "66.6667 -60.0000\n"
     ]
    }
   ],
   "source": [
    "S = np.array([[1.2, 1], [0.9, 1]])\n",
    "k = 100.\n",
    "p = np.array([i-k if i-k>0 else 0 for i in s])\n",
    "cc = np.linalg.inv(S).dot(p)\n",
    "print ('{0:.4f} {1:.4f}'.format(*cc))"
   ]
  },
  {
   "cell_type": "markdown",
   "metadata": {},
   "source": [
    "####Question 4\n",
    "\n",
    "Now, we'll follow the \"risk-neutral pricing\" approach. Ignore the fact that the actual probabilities of the two states are each $\\pi_u=\\pi_d=1/2$, and instead make up risk neutral probabilities $\\pi^∗_u$ and $\\pi^∗_d=1−\\pi^∗_u$ such that \n",
    "\n",
    "$$S_{0}=\\frac{1}{R^{f}}E^{\\ast}(S_{1})=\\frac{1}{R^{f}}\\left[  \\pi_{u}^{\\ast\n",
    "}(uS_{0})+\\pi_{d}^{\\ast}(dS_{0})\\right]$$\n",
    "\n",
    "Derive a formula for the risk-neutral probabilities $\\pi^∗_u$ and $\\pi^∗_d$. Use your formula for risk neutral probabilities to value the option,\n",
    "\n",
    "$$ C_{0}=\\frac{1}{R^{f}}E^{\\ast}(C_{1}) $$\n",
    "\n",
    "and check that you get the same answer as before.\n",
    "\n",
    "To get risk neutral probabilities, you need to make sure they price the stock, as above; you need to impose that your risk-neutral probabilities sum to 1. Then show that the condition $\\pi^∗_d=1−\\pi^∗_u$ implies that the risk neutral probabilities correctly price the bond $1=1/R^{f}\\times E^{\\ast}(R^{f})$. As usual this is all a lot easier in matrix notation. "
   ]
  },
  {
   "cell_type": "code",
   "execution_count": 7,
   "metadata": {
    "collapsed": false
   },
   "outputs": [
    {
     "name": "stdout",
     "output_type": "stream",
     "text": [
      "66.6667 -60.0000\n"
     ]
    }
   ],
   "source": [
    "S0 = np.array([[u, Rf], [d, Rf]])\n",
    "s0 = np.array([(u-1)*100., 0.])\n",
    "p_star = np.linalg.inv(S0).dot(s0)\n",
    "print ('{0:.4f} {1:.4f}'.format(*p_star))"
   ]
  },
  {
   "cell_type": "markdown",
   "metadata": {},
   "source": [
    "####Question 5\n",
    "\n",
    "To be valid probabilities we also need $0≤\\pi^∗_u≤1$ and $0≤π^∗_d≤1$. What values of $u$ and $d$ must we have to ensure these conditions are met? Fill in the relevant blank, as a decimal using the numerical values of this problem.\n",
    "\n",
    "$$0<d<?<u$$\n",
    "\n",
    "Answer: 1\n",
    "\n",
    "####Question 6\n",
    "What's wrong with the assumption $0<d<u<Rf$ or $0<Rf<d<u$? Check all that apply, leave false or irrelevant statements blank.\n",
    "\n",
    "Answer 1 3 5"
   ]
  }
 ],
 "metadata": {
  "kernelspec": {
   "display_name": "IPython (Python 3)",
   "language": "python",
   "name": "python3"
  },
  "language_info": {
   "codemirror_mode": {
    "name": "ipython",
    "version": 3
   },
   "file_extension": ".py",
   "mimetype": "text/x-python",
   "name": "python",
   "nbconvert_exporter": "python",
   "pygments_lexer": "ipython3",
   "version": "3.4.3"
  }
 },
 "nbformat": 4,
 "nbformat_minor": 0
}
