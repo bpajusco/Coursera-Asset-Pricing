{
 "cells": [
  {
   "cell_type": "markdown",
   "metadata": {},
   "source": [
    "#Homework 1: Linear Models "
   ]
  },
  {
   "cell_type": "code",
   "execution_count": 1,
   "metadata": {
    "collapsed": true
   },
   "outputs": [],
   "source": [
    "%matplotlib inline\n",
    "import numpy as np\n",
    "import pandas as pd\n",
    "import matplotlib.pyplot as plt\n",
    "import seaborn as sns\n",
    "import statsmodels.formula.api as sm"
   ]
  },
  {
   "cell_type": "markdown",
   "metadata": {},
   "source": [
    "####Question 1\n",
    "\n",
    "We're going to replicate and extend Fama and French's basic results. Get the 25 Fama French portfolios and the three factors. In the future, you can get updated version from Ken French's website. Subtract the risk free rate $rf$ from the 25 test assets to make them excess returns. The factors $rmrf, \\: hml, \\: smb$ are already excess returns.\n",
    "\n",
    "Use the sample from 196301 to the end of the sample. In this way you can see how well FF's results hold up with 20 more years of data. \n",
    "\n",
    "FF didn't show us that the CAPM does not work on their portfolios. Once we get over our shock at the size of the value effect in average returns, we should say \"oh, sure, we expect that. Value or distressed stocks will have higher betas.\" And the single-regression betas that the CAPM wants are not the same thing as the multiple regression $b_i$ in the FF model. (Showing that all the $b_i$ can be one while $\\beta_i$ perfectly explain average returns is a fun problem which I won't give you.)\n",
    "\n",
    "So, to start, evaluate the CAPM on these 25 portfolios, as follows. Run time series regressions of\n",
    "\n",
    "$$R_{t}^{ei}=\\alpha _{i}+\\beta _{i}(rmrf_{t})+\\varepsilon _{t}^{i} ; \\ \\ t=1,2,...T \\ \\text{for each }  i=1,2,...25$$\n",
    "\n",
    "Tabulate $E(R^{ei})$, $\\hat\\alpha$, $\\hat\\beta$, $t(\\hat\\alpha)$ and $R^2$\n",
    "\n",
    "Make a graph with expected excess return on the vertical axis, and CAPM beta on the horizontal axis. Include the 25 portfolios as points, and the market $rmrf$. Draw a line from the origin through to $(1, \\:E(rmrf))$ to display the CAPM's predictions.\n",
    "\n",
    "Optional but worth it: Add vertical errorbars showing one alpha standard deviation and horizontal errorbars showing one beta standard deviation. This gives you some sense of statistical uncertainty. Add lines connecting size in b/m categories, and in a separate graph lines connecting b/m portfolios in size categories. This will visually display how expected returns line up with size and b/m in the data (The graphs in \"Asset Pricing\" do this.)\n",
    "\n",
    "To check if you got this right, enter the first row (smallest stocks, from growth to value, corresponding to 0.27 to 1.16 mean return) of the CAPM betas. You will enter 5 numbers, separated by spaces, in percent, to two decimal places accuracy. To get you started, the first number should be 1.43."
   ]
  },
  {
   "cell_type": "code",
   "execution_count": 2,
   "metadata": {
    "collapsed": false
   },
   "outputs": [
    {
     "data": {
      "text/html": [
       "<div style=\"max-height:1000px;max-width:1500px;overflow:auto;\">\n",
       "<table border=\"1\" class=\"dataframe\">\n",
       "  <thead>\n",
       "    <tr style=\"text-align: right;\">\n",
       "      <th></th>\n",
       "      <th>1</th>\n",
       "      <th>2</th>\n",
       "      <th>3</th>\n",
       "      <th>4</th>\n",
       "      <th>5</th>\n",
       "    </tr>\n",
       "  </thead>\n",
       "  <tbody>\n",
       "    <tr>\n",
       "      <th>1</th>\n",
       "      <td>0.27</td>\n",
       "      <td>0.79</td>\n",
       "      <td>0.83</td>\n",
       "      <td>1.01</td>\n",
       "      <td>1.16</td>\n",
       "    </tr>\n",
       "    <tr>\n",
       "      <th>2</th>\n",
       "      <td>0.46</td>\n",
       "      <td>0.71</td>\n",
       "      <td>0.91</td>\n",
       "      <td>0.94</td>\n",
       "      <td>1.02</td>\n",
       "    </tr>\n",
       "    <tr>\n",
       "      <th>3</th>\n",
       "      <td>0.48</td>\n",
       "      <td>0.77</td>\n",
       "      <td>0.77</td>\n",
       "      <td>0.87</td>\n",
       "      <td>1.08</td>\n",
       "    </tr>\n",
       "    <tr>\n",
       "      <th>4</th>\n",
       "      <td>0.59</td>\n",
       "      <td>0.56</td>\n",
       "      <td>0.70</td>\n",
       "      <td>0.85</td>\n",
       "      <td>0.86</td>\n",
       "    </tr>\n",
       "    <tr>\n",
       "      <th>5</th>\n",
       "      <td>0.45</td>\n",
       "      <td>0.50</td>\n",
       "      <td>0.47</td>\n",
       "      <td>0.56</td>\n",
       "      <td>0.63</td>\n",
       "    </tr>\n",
       "  </tbody>\n",
       "</table>\n",
       "</div>"
      ],
      "text/plain": [
       "      1     2     3     4     5\n",
       "1  0.27  0.79  0.83  1.01  1.16\n",
       "2  0.46  0.71  0.91  0.94  1.02\n",
       "3  0.48  0.77  0.77  0.87  1.08\n",
       "4  0.59  0.56  0.70  0.85  0.86\n",
       "5  0.45  0.50  0.47  0.56  0.63"
      ]
     },
     "execution_count": 2,
     "metadata": {},
     "output_type": "execute_result"
    }
   ],
   "source": [
    "#Load Fama and French 3 Factor Portfolio\n",
    "ff3 = pd.read_csv('https://d396qusza40orc.cloudfront.net/assetpricing%2Fdata%2Fff_factors.txt',\n",
    "                  skiprows=6, sep='\\s+', index_col=0, parse_dates={'date':['%']},\n",
    "                  date_parser=lambda x: pd.to_datetime(x, format='%Y%m'))\n",
    "\n",
    "#Load the 25 factors portfolio\n",
    "ff25 = pd.read_csv('https://d396qusza40orc.cloudfront.net/assetpricing%2Fdata%2Fff_25.txt',\n",
    "                  skiprows=5, sep='\\s+', index_col=0, parse_dates={'date':['%']},\n",
    "                  date_parser=lambda x: pd.to_datetime(x, format='%Y%m'))\n",
    "\n",
    "ff25.rename(columns={i:j for (i,j) in zip(ff25.columns, [i for i in range(1,26)])}, inplace=True)\n",
    "ff25_rets = ff25['1963-01-01':].subtract(ff3.ix['1963-01-01':,'RF'], axis=0)\n",
    "\n",
    "rets = pd.DataFrame(np.round(ff25_rets.mean().reshape(5,5),2), \n",
    "                    index=range(1,6), columns=range(1,6))\n",
    "rets"
   ]
  },
  {
   "cell_type": "code",
   "execution_count": 3,
   "metadata": {
    "collapsed": false
   },
   "outputs": [
    {
     "name": "stdout",
     "output_type": "stream",
     "text": [
      "1.4321 1.2279 1.0977 1.0174 1.0795\n"
     ]
    },
    {
     "data": {
      "text/html": [
       "<div style=\"max-height:1000px;max-width:1500px;overflow:auto;\">\n",
       "<table border=\"1\" class=\"dataframe\">\n",
       "  <thead>\n",
       "    <tr style=\"text-align: right;\">\n",
       "      <th></th>\n",
       "      <th>1</th>\n",
       "      <th>2</th>\n",
       "      <th>3</th>\n",
       "      <th>4</th>\n",
       "      <th>5</th>\n",
       "    </tr>\n",
       "  </thead>\n",
       "  <tbody>\n",
       "    <tr>\n",
       "      <th>1</th>\n",
       "      <td>1.432092</td>\n",
       "      <td>1.227853</td>\n",
       "      <td>1.097706</td>\n",
       "      <td>1.017440</td>\n",
       "      <td>1.079495</td>\n",
       "    </tr>\n",
       "    <tr>\n",
       "      <th>2</th>\n",
       "      <td>1.398385</td>\n",
       "      <td>1.170330</td>\n",
       "      <td>1.056909</td>\n",
       "      <td>1.013623</td>\n",
       "      <td>1.112215</td>\n",
       "    </tr>\n",
       "    <tr>\n",
       "      <th>3</th>\n",
       "      <td>1.328747</td>\n",
       "      <td>1.119927</td>\n",
       "      <td>1.001768</td>\n",
       "      <td>0.957269</td>\n",
       "      <td>1.027218</td>\n",
       "    </tr>\n",
       "    <tr>\n",
       "      <th>4</th>\n",
       "      <td>1.218821</td>\n",
       "      <td>1.081925</td>\n",
       "      <td>1.025116</td>\n",
       "      <td>0.954265</td>\n",
       "      <td>1.039381</td>\n",
       "    </tr>\n",
       "    <tr>\n",
       "      <th>5</th>\n",
       "      <td>0.987316</td>\n",
       "      <td>0.932120</td>\n",
       "      <td>0.871272</td>\n",
       "      <td>0.828399</td>\n",
       "      <td>0.891324</td>\n",
       "    </tr>\n",
       "  </tbody>\n",
       "</table>\n",
       "</div>"
      ],
      "text/plain": [
       "          1         2         3         4         5\n",
       "1  1.432092  1.227853  1.097706  1.017440  1.079495\n",
       "2  1.398385  1.170330  1.056909  1.013623  1.112215\n",
       "3  1.328747  1.119927  1.001768  0.957269  1.027218\n",
       "4  1.218821  1.081925  1.025116  0.954265  1.039381\n",
       "5  0.987316  0.932120  0.871272  0.828399  0.891324"
      ]
     },
     "execution_count": 3,
     "metadata": {},
     "output_type": "execute_result"
    }
   ],
   "source": [
    "regr = [sm.ols(formula='rets ~ rmrf', data={'rets' : ff25_rets[i], \n",
    "        'rmrf': ff3.ix['1963-01-01':,'Mkt-RF']}).fit() for i in range(1,26)]\n",
    "\n",
    "betas = pd.DataFrame(np.array([regr[i].params.rmrf for i in range(25)]).reshape(5,5), \n",
    "                     index=range(1,6), columns=range(1,6))\n",
    "\n",
    "print('{:.4f} {:.4f} {:.4f} {:.4f} {:.4f}'.format(*betas.ix[1,:]))\n",
    "betas"
   ]
  },
  {
   "cell_type": "markdown",
   "metadata": {},
   "source": [
    "####Question 2\n",
    "Enter the first row of CAPM alphas. "
   ]
  },
  {
   "cell_type": "code",
   "execution_count": 4,
   "metadata": {
    "collapsed": false
   },
   "outputs": [
    {
     "name": "stdout",
     "output_type": "stream",
     "text": [
      "-0.4299 0.1827 0.2924 0.5080 0.6278\n"
     ]
    },
    {
     "data": {
      "text/html": [
       "<div style=\"max-height:1000px;max-width:1500px;overflow:auto;\">\n",
       "<table border=\"1\" class=\"dataframe\">\n",
       "  <thead>\n",
       "    <tr style=\"text-align: right;\">\n",
       "      <th></th>\n",
       "      <th>1</th>\n",
       "      <th>2</th>\n",
       "      <th>3</th>\n",
       "      <th>4</th>\n",
       "      <th>5</th>\n",
       "    </tr>\n",
       "  </thead>\n",
       "  <tbody>\n",
       "    <tr>\n",
       "      <th>1</th>\n",
       "      <td>-0.429911</td>\n",
       "      <td>0.182731</td>\n",
       "      <td>0.292398</td>\n",
       "      <td>0.508024</td>\n",
       "      <td>0.627779</td>\n",
       "    </tr>\n",
       "    <tr>\n",
       "      <th>2</th>\n",
       "      <td>-0.221895</td>\n",
       "      <td>0.140144</td>\n",
       "      <td>0.394616</td>\n",
       "      <td>0.441376</td>\n",
       "      <td>0.479343</td>\n",
       "    </tr>\n",
       "    <tr>\n",
       "      <th>3</th>\n",
       "      <td>-0.170661</td>\n",
       "      <td>0.219606</td>\n",
       "      <td>0.283360</td>\n",
       "      <td>0.404054</td>\n",
       "      <td>0.572289</td>\n",
       "    </tr>\n",
       "    <tr>\n",
       "      <th>4</th>\n",
       "      <td>-0.009039</td>\n",
       "      <td>0.027179</td>\n",
       "      <td>0.200919</td>\n",
       "      <td>0.385051</td>\n",
       "      <td>0.349793</td>\n",
       "    </tr>\n",
       "    <tr>\n",
       "      <th>5</th>\n",
       "      <td>-0.038597</td>\n",
       "      <td>0.044434</td>\n",
       "      <td>0.045386</td>\n",
       "      <td>0.153210</td>\n",
       "      <td>0.194249</td>\n",
       "    </tr>\n",
       "  </tbody>\n",
       "</table>\n",
       "</div>"
      ],
      "text/plain": [
       "          1         2         3         4         5\n",
       "1 -0.429911  0.182731  0.292398  0.508024  0.627779\n",
       "2 -0.221895  0.140144  0.394616  0.441376  0.479343\n",
       "3 -0.170661  0.219606  0.283360  0.404054  0.572289\n",
       "4 -0.009039  0.027179  0.200919  0.385051  0.349793\n",
       "5 -0.038597  0.044434  0.045386  0.153210  0.194249"
      ]
     },
     "execution_count": 4,
     "metadata": {},
     "output_type": "execute_result"
    }
   ],
   "source": [
    "alphas = pd.DataFrame(np.array([regr[i].params.Intercept for i in range(25)]).reshape(5,5),\n",
    "                      index=range(1,6), columns=range(1,6))\n",
    "\n",
    "print('{:.4f} {:.4f} {:.4f} {:.4f} {:.4f}'.format(*alphas.ix[1,:]))\n",
    "alphas"
   ]
  },
  {
   "cell_type": "code",
   "execution_count": 10,
   "metadata": {
    "collapsed": false
   },
   "outputs": [
    {
     "data": {
      "image/png": "[encoded data removed]",
      "text/plain": [
       "<matplotlib.figure.Figure at 0x7f2dac9af8d0>"
      ]
     },
     "metadata": {},
     "output_type": "display_data"
    },
    {
     "data": {
      "image/png": "[encoded data removed]",
      "text/plain": [
       "<matplotlib.figure.Figure at 0x7f2dacb3b128>"
      ]
     },
     "metadata": {},
     "output_type": "display_data"
    }
   ],
   "source": [
    "plt.scatter(betas, rets)\n",
    "plt.xlabel('beta')\n",
    "plt.ylabel('rmrf')\n",
    "plt.figure()\n",
    "plt.scatter(alphas[5], rets[5])\n",
    "plt.xlabel('alpha')\n",
    "plt.ylabel('rmrf');"
   ]
  },
  {
   "cell_type": "markdown",
   "metadata": {},
   "source": [
    "####Question 3\n",
    "The spread in average returns is large, 0.45 to 1.16 percent per month. In the Fama-French three-factor model, the market betas were all about one with other factors included. What does your graph or table of average returns vs. CAPM betas look like? \n",
    "\n",
    ">**Answer: There is a wide spread in betas,with the potential to explain average returns. Alas, there is essentially no correlation between average returns and betas, so the graph is a big cloud**. "
   ]
  },
  {
   "cell_type": "code",
   "execution_count": 6,
   "metadata": {
    "collapsed": false
   },
   "outputs": [
    {
     "data": {
      "image/png": "[encoded data removed]",
      "text/plain": [
       "<matplotlib.figure.Figure at 0x7fcd3d955fd0>"
      ]
     },
     "metadata": {},
     "output_type": "display_data"
    }
   ],
   "source": [
    "plt.plot(betas, rets);\n",
    "#plt.plot(betas.T, rets.T);"
   ]
  },
  {
   "cell_type": "markdown",
   "metadata": {},
   "source": [
    "####Question 4\n",
    "\n",
    "Now, look at the relation between market beta and average returns within size holding b/m constant, or within b/m holding size constant. If you have tables of numbers, look across rows and up and down columns. If you made an ER vs. beta graph with lines connecting size and another connecting BM, the pattern will be even clearer. What accounts for the failure of the CAPM? \n",
    "\n",
    ">**Answer: Average returns and betas are positively correlated across size categories holding bm constant. The real problem is value: higher beta portfolios have lower average returns there. The model goes the wrong way!**"
   ]
  },
  {
   "cell_type": "markdown",
   "metadata": {},
   "source": [
    "####Question 5\n",
    "\n",
    "Repeat your analysis using the 193201-196212 time period."
   ]
  },
  {
   "cell_type": "code",
   "execution_count": 15,
   "metadata": {
    "collapsed": false
   },
   "outputs": [
    {
     "name": "stdout",
     "output_type": "stream",
     "text": [
      "1.8049 1.8607 1.6388 1.5095 1.6729\n"
     ]
    },
    {
     "data": {
      "text/html": [
       "<div style=\"max-height:1000px;max-width:1500px;overflow:auto;\">\n",
       "<table border=\"1\" class=\"dataframe\">\n",
       "  <thead>\n",
       "    <tr style=\"text-align: right;\">\n",
       "      <th></th>\n",
       "      <th>1</th>\n",
       "      <th>2</th>\n",
       "      <th>3</th>\n",
       "      <th>4</th>\n",
       "      <th>5</th>\n",
       "    </tr>\n",
       "  </thead>\n",
       "  <tbody>\n",
       "    <tr>\n",
       "      <th>1</th>\n",
       "      <td>1.804934</td>\n",
       "      <td>1.860664</td>\n",
       "      <td>1.638821</td>\n",
       "      <td>1.509522</td>\n",
       "      <td>1.672870</td>\n",
       "    </tr>\n",
       "    <tr>\n",
       "      <th>2</th>\n",
       "      <td>1.183711</td>\n",
       "      <td>1.368510</td>\n",
       "      <td>1.409677</td>\n",
       "      <td>1.443163</td>\n",
       "      <td>1.651772</td>\n",
       "    </tr>\n",
       "    <tr>\n",
       "      <th>3</th>\n",
       "      <td>1.297726</td>\n",
       "      <td>1.148302</td>\n",
       "      <td>1.305203</td>\n",
       "      <td>1.293232</td>\n",
       "      <td>1.701308</td>\n",
       "    </tr>\n",
       "    <tr>\n",
       "      <th>4</th>\n",
       "      <td>0.957756</td>\n",
       "      <td>1.150329</td>\n",
       "      <td>1.183488</td>\n",
       "      <td>1.389025</td>\n",
       "      <td>1.760104</td>\n",
       "    </tr>\n",
       "    <tr>\n",
       "      <th>5</th>\n",
       "      <td>0.936773</td>\n",
       "      <td>0.888074</td>\n",
       "      <td>1.057908</td>\n",
       "      <td>1.346684</td>\n",
       "      <td>1.365241</td>\n",
       "    </tr>\n",
       "  </tbody>\n",
       "</table>\n",
       "</div>"
      ],
      "text/plain": [
       "          1         2         3         4         5\n",
       "1  1.804934  1.860664  1.638821  1.509522  1.672870\n",
       "2  1.183711  1.368510  1.409677  1.443163  1.651772\n",
       "3  1.297726  1.148302  1.305203  1.293232  1.701308\n",
       "4  0.957756  1.150329  1.183488  1.389025  1.760104\n",
       "5  0.936773  0.888074  1.057908  1.346684  1.365241"
      ]
     },
     "execution_count": 15,
     "metadata": {},
     "output_type": "execute_result"
    },
    {
     "name": "stderr",
     "output_type": "stream",
     "text": [
      "/usr/local/lib/python3.4/dist-packages/matplotlib-1.5.x-py3.4-linux-x86_64.egg/matplotlib/font_manager.py:1279: UserWarning: findfont: Font family ['Arial'] not found. Falling back to Bitstream Vera Sans\n",
      "  (prop.get_family(), self.defaultFamily[fontext]))\n"
     ]
    },
    {
     "data": {
      "image/png": "[encoded data removed]",
      "text/plain": [
       "<matplotlib.figure.Figure at 0x7f7ad4180c50>"
      ]
     },
     "metadata": {},
     "output_type": "display_data"
    }
   ],
   "source": [
    "ff25_rets_32_62 = ff25['1932-01-01':'1962-12-01'].subtract(ff3.ix['1932-01-01':'1962-12-01','RF'], \n",
    "                                                           axis=0)\n",
    "\n",
    "regr_32_62 = [sm.ols(formula='rets ~ rmrf', data={'rets' : ff25_rets_32_62[i], \n",
    "                    'rmrf' : ff3.ix['1932-01-01':'1962-12-01','Mkt-RF']}).fit() \n",
    "              for i in range(1,26)]\n",
    "\n",
    "betas_32_62 = pd.DataFrame(np.array([regr_32_62[i].params.rmrf for i in range(25)]).reshape(5,5), \n",
    "                     index=range(1,6), columns=range(1,6))\n",
    "\n",
    "print('{:.4f} {:.4f} {:.4f} {:.4f} {:.4f}'.format(*betas_32_62.ix[1,:]))\n",
    "\n",
    "\n",
    "rets_32_62 = pd.DataFrame(np.round(ff25_rets_32_62.mean().reshape(5,5),2), \n",
    "                          index=range(1,6), columns=range(1,6))\n",
    "plt.plot(betas_32_62, rets_32_62)\n",
    "plt.xlabel('beta')\n",
    "plt.ylabel('rmrf')\n",
    "\n",
    "betas_32_62"
   ]
  },
  {
   "cell_type": "markdown",
   "metadata": {},
   "source": [
    ">**Answer: There is still a large spread in average returns, but now betas line up with average returns, along both size and b/m dimensions** \n",
    "\n",
    "####Question 7\n",
    "Enough warmup! Now, let's do the Fama French 3-factor model in the 196301-now period. Make 5 x 5 tables of alphas, alpha t statstics, b, h, s, and R2. "
   ]
  },
  {
   "cell_type": "code",
   "execution_count": 5,
   "metadata": {
    "collapsed": false
   },
   "outputs": [
    {
     "name": "stdout",
     "output_type": "stream",
     "text": [
      "-0.3059 0.0370 0.2786 0.4534 0.6947\n"
     ]
    },
    {
     "data": {
      "text/html": [
       "<div style=\"max-height:1000px;max-width:1500px;overflow:auto;\">\n",
       "<table border=\"1\" class=\"dataframe\">\n",
       "  <thead>\n",
       "    <tr style=\"text-align: right;\">\n",
       "      <th></th>\n",
       "      <th>1</th>\n",
       "      <th>2</th>\n",
       "      <th>3</th>\n",
       "      <th>4</th>\n",
       "      <th>5</th>\n",
       "    </tr>\n",
       "  </thead>\n",
       "  <tbody>\n",
       "    <tr>\n",
       "      <th>1</th>\n",
       "      <td>-0.305853</td>\n",
       "      <td>0.037038</td>\n",
       "      <td>0.278560</td>\n",
       "      <td>0.453418</td>\n",
       "      <td>0.694685</td>\n",
       "    </tr>\n",
       "    <tr>\n",
       "      <th>2</th>\n",
       "      <td>-0.384077</td>\n",
       "      <td>0.129327</td>\n",
       "      <td>0.389538</td>\n",
       "      <td>0.565771</td>\n",
       "      <td>0.803284</td>\n",
       "    </tr>\n",
       "    <tr>\n",
       "      <th>3</th>\n",
       "      <td>-0.436281</td>\n",
       "      <td>0.184410</td>\n",
       "      <td>0.442070</td>\n",
       "      <td>0.613767</td>\n",
       "      <td>0.775838</td>\n",
       "    </tr>\n",
       "    <tr>\n",
       "      <th>4</th>\n",
       "      <td>-0.424794</td>\n",
       "      <td>0.212467</td>\n",
       "      <td>0.451057</td>\n",
       "      <td>0.577749</td>\n",
       "      <td>0.805461</td>\n",
       "    </tr>\n",
       "    <tr>\n",
       "      <th>5</th>\n",
       "      <td>-0.364674</td>\n",
       "      <td>0.101013</td>\n",
       "      <td>0.292025</td>\n",
       "      <td>0.599744</td>\n",
       "      <td>0.765924</td>\n",
       "    </tr>\n",
       "  </tbody>\n",
       "</table>\n",
       "</div>"
      ],
      "text/plain": [
       "          1         2         3         4         5\n",
       "1 -0.305853  0.037038  0.278560  0.453418  0.694685\n",
       "2 -0.384077  0.129327  0.389538  0.565771  0.803284\n",
       "3 -0.436281  0.184410  0.442070  0.613767  0.775838\n",
       "4 -0.424794  0.212467  0.451057  0.577749  0.805461\n",
       "5 -0.364674  0.101013  0.292025  0.599744  0.765924"
      ]
     },
     "execution_count": 5,
     "metadata": {},
     "output_type": "execute_result"
    }
   ],
   "source": [
    "regr_ff3 = [sm.ols(formula='rets ~ rmrf + hml + smb', \n",
    "            data=pd.DataFrame(np.c_[ff25_rets[i], ff3.ix['1963-01-01':,['Mkt-RF', 'HML', 'SMB']]], \n",
    "            columns=['rets', 'rmrf', 'hml', 'smb'])).fit() for i in range(1,26)]\n",
    "\n",
    "h_ff3 = pd.DataFrame(np.array([regr_ff3[i].params.hml for i in range(25)]).reshape(5,5), \n",
    "                     index=range(1,6), columns=range(1,6))\n",
    "\n",
    "print('{:.4f} {:.4f} {:.4f} {:.4f} {:.4f}'.format(*h_ff3.ix[1,:]))\n",
    "h_ff3"
   ]
  },
  {
   "cell_type": "code",
   "execution_count": 18,
   "metadata": {
    "collapsed": false
   },
   "outputs": [
    {
     "name": "stdout",
     "output_type": "stream",
     "text": [
      "-0.4845 -0.0283 -0.0052 0.1347 0.1297\n"
     ]
    },
    {
     "data": {
      "text/html": [
       "<div style=\"max-height:1000px;max-width:1500px;overflow:auto;\">\n",
       "<table border=\"1\" class=\"dataframe\">\n",
       "  <thead>\n",
       "    <tr style=\"text-align: right;\">\n",
       "      <th></th>\n",
       "      <th>1</th>\n",
       "      <th>2</th>\n",
       "      <th>3</th>\n",
       "      <th>4</th>\n",
       "      <th>5</th>\n",
       "    </tr>\n",
       "  </thead>\n",
       "  <tbody>\n",
       "    <tr>\n",
       "      <th>1</th>\n",
       "      <td>-0.484500</td>\n",
       "      <td>-0.028264</td>\n",
       "      <td>-0.005228</td>\n",
       "      <td>0.134681</td>\n",
       "      <td>0.129689</td>\n",
       "    </tr>\n",
       "    <tr>\n",
       "      <th>2</th>\n",
       "      <td>-0.181225</td>\n",
       "      <td>-0.052634</td>\n",
       "      <td>0.090948</td>\n",
       "      <td>0.060162</td>\n",
       "      <td>-0.037820</td>\n",
       "    </tr>\n",
       "    <tr>\n",
       "      <th>3</th>\n",
       "      <td>-0.067894</td>\n",
       "      <td>0.051402</td>\n",
       "      <td>0.004385</td>\n",
       "      <td>0.047926</td>\n",
       "      <td>0.115692</td>\n",
       "    </tr>\n",
       "    <tr>\n",
       "      <th>4</th>\n",
       "      <td>0.139403</td>\n",
       "      <td>-0.107916</td>\n",
       "      <td>-0.043563</td>\n",
       "      <td>0.071939</td>\n",
       "      <td>-0.076682</td>\n",
       "    </tr>\n",
       "    <tr>\n",
       "      <th>5</th>\n",
       "      <td>0.173886</td>\n",
       "      <td>0.028358</td>\n",
       "      <td>-0.062208</td>\n",
       "      <td>-0.107067</td>\n",
       "      <td>-0.163854</td>\n",
       "    </tr>\n",
       "  </tbody>\n",
       "</table>\n",
       "</div>"
      ],
      "text/plain": [
       "          1         2         3         4         5\n",
       "1 -0.484500 -0.028264 -0.005228  0.134681  0.129689\n",
       "2 -0.181225 -0.052634  0.090948  0.060162 -0.037820\n",
       "3 -0.067894  0.051402  0.004385  0.047926  0.115692\n",
       "4  0.139403 -0.107916 -0.043563  0.071939 -0.076682\n",
       "5  0.173886  0.028358 -0.062208 -0.107067 -0.163854"
      ]
     },
     "execution_count": 18,
     "metadata": {},
     "output_type": "execute_result"
    }
   ],
   "source": [
    "alphas_ff3 = pd.DataFrame(np.array([regr_ff3[i].params.Intercept \n",
    "                          for i in range(25)]).reshape(5,5), index=range(1,6), \n",
    "                          columns=range(1,6))\n",
    "\n",
    "print('{:.4f} {:.4f} {:.4f} {:.4f} {:.4f}'.format(*alphas_ff3.ix[1,:]))\n",
    "alphas_ff3"
   ]
  },
  {
   "cell_type": "code",
   "execution_count": 10,
   "metadata": {
    "collapsed": false
   },
   "outputs": [
    {
     "data": {
      "text/html": [
       "<div style=\"max-height:1000px;max-width:1500px;overflow:auto;\">\n",
       "<table border=\"1\" class=\"dataframe\">\n",
       "  <thead>\n",
       "    <tr style=\"text-align: right;\">\n",
       "      <th></th>\n",
       "      <th>1</th>\n",
       "      <th>2</th>\n",
       "      <th>3</th>\n",
       "      <th>4</th>\n",
       "      <th>5</th>\n",
       "    </tr>\n",
       "  </thead>\n",
       "  <tbody>\n",
       "    <tr>\n",
       "      <th>1</th>\n",
       "      <td>0.918790</td>\n",
       "      <td>0.942488</td>\n",
       "      <td>0.951760</td>\n",
       "      <td>0.945114</td>\n",
       "      <td>0.946440</td>\n",
       "    </tr>\n",
       "    <tr>\n",
       "      <th>2</th>\n",
       "      <td>0.950862</td>\n",
       "      <td>0.943965</td>\n",
       "      <td>0.938455</td>\n",
       "      <td>0.939969</td>\n",
       "      <td>0.947866</td>\n",
       "    </tr>\n",
       "    <tr>\n",
       "      <th>3</th>\n",
       "      <td>0.950404</td>\n",
       "      <td>0.911371</td>\n",
       "      <td>0.897436</td>\n",
       "      <td>0.901310</td>\n",
       "      <td>0.894696</td>\n",
       "    </tr>\n",
       "    <tr>\n",
       "      <th>4</th>\n",
       "      <td>0.936640</td>\n",
       "      <td>0.889970</td>\n",
       "      <td>0.882811</td>\n",
       "      <td>0.888130</td>\n",
       "      <td>0.874416</td>\n",
       "    </tr>\n",
       "    <tr>\n",
       "      <th>5</th>\n",
       "      <td>0.940518</td>\n",
       "      <td>0.900539</td>\n",
       "      <td>0.855308</td>\n",
       "      <td>0.892608</td>\n",
       "      <td>0.806181</td>\n",
       "    </tr>\n",
       "  </tbody>\n",
       "</table>\n",
       "</div>"
      ],
      "text/plain": [
       "          1         2         3         4         5\n",
       "1  0.918790  0.942488  0.951760  0.945114  0.946440\n",
       "2  0.950862  0.943965  0.938455  0.939969  0.947866\n",
       "3  0.950404  0.911371  0.897436  0.901310  0.894696\n",
       "4  0.936640  0.889970  0.882811  0.888130  0.874416\n",
       "5  0.940518  0.900539  0.855308  0.892608  0.806181"
      ]
     },
     "execution_count": 10,
     "metadata": {},
     "output_type": "execute_result"
    }
   ],
   "source": [
    "T_alphas = pd.DataFrame(np.array([regr_ff3[i].tvalues.Intercept for i in range(25)]).reshape(5,5), \n",
    "                       index=range(1,6), columns=range(1,6))\n",
    "\n",
    "T_alphas"
   ]
  },
  {
   "cell_type": "markdown",
   "metadata": {},
   "source": [
    "####Question 9\n",
    "\n",
    "Now, compare your results to Fama and French's. How have things changed by the addition of more data? "
   ]
  },
  {
   "cell_type": "code",
   "execution_count": 11,
   "metadata": {
    "collapsed": false
   },
   "outputs": [
    {
     "data": {
      "image/png": "[encoded data removed]",
      "text/plain": [
       "<matplotlib.figure.Figure at 0x7fcd3cf198d0>"
      ]
     },
     "metadata": {},
     "output_type": "display_data"
    }
   ],
   "source": [
    "plt.plot(h_ff3, rets);"
   ]
  },
  {
   "cell_type": "markdown",
   "metadata": {},
   "source": [
    ">**Answer: The overall pattern of average returns has not changed that much**"
   ]
  },
  {
   "cell_type": "markdown",
   "metadata": {},
   "source": [
    "####Question 10\n",
    "\n",
    "Momentum poses an interesting challenge. Momentum is, like dividend-yield forecasts, a new way of seeing the economic importance of an old fact.\n",
    "\n",
    "Recall, we worked out that if\n",
    "\n",
    "$$\\begin{eqnarray*}\n",
    "r_{t+1} &=&b\\times dp_{t}+\\varepsilon _{t+1}^{r} \\\\\n",
    "dp_{t+1} &=&\\phi dp_{t}+\\varepsilon _{t+1}^{dp}\n",
    "\\end{eqnarray*}$$\n",
    "\n",
    "then\n",
    "\n",
    "$$ (r_{t+1}+r_{t+2})=b(1+\\phi )dp_{t}+\\delta _{t+k} $$\n",
    "\n",
    "$$R^{2}\\approx \\frac{b^{2}(1+\\phi )^{2}\\sigma ^{2}(dp)}{2\\sigma ^{2}(r)} $$\n",
    "\n",
    "so if $\\phi≈1$, the coefficient and $R^2$ grows linearly with horizon. Thus, a coefficient and $R^2$ that would seem economically and insignificant at monthly horizon -- $b=0.01$ and $R^2=0.01$ -- would grow to, say, $b=0.50$ and $R^2=0.50$ at a 4 year (48 month) horizon. (A little less, actually, as $\\phi≈0.04<1$.)\n",
    "\n",
    "In this problem you will work out that momentum is a similar way to see the implications of an old fact. Individual stock returns have large volatilities; we'll use 50% in this problem. Individual stocks have a very small autocorrelation. So, let's suppose $R_{t+1}=0.05R_t+\\:\\epsilon_{t+1}$. Use $\\sigma(\\epsilon)=0.50$, a $50\\%$ standard deviation. Yes, large numbers like this are typical of most (small) stocks. This is a really small autocorrelation. The $R^2$ is $0.052=0.0025$.\n",
    "\n",
    "So, is this enough to generate momentum? We can do it analytically, but it will be much faster to do it on a computer. Simulate T=500 years of data for N=500 stocks behaving this way with independent normal errors $\\epsilon$. At the end of each year, form an equally weighted portfolio of the 1/10 \"winners\" and the 1/10 \"losers.\" Calculate the returns on the winner and loser portfolios for the next year. Tabulate the mean, standard deviation, and Sharpe ratio from these portfolios. \n",
    "\n",
    "Enter the mean, standard deviation, and Sharpe ratio of the winner portfolio. (You should find the loser is the same with negative mean. If not you're doing something wrong.)"
   ]
  },
  {
   "cell_type": "code",
   "execution_count": 19,
   "metadata": {
    "collapsed": false
   },
   "outputs": [
    {
     "name": "stdout",
     "output_type": "stream",
     "text": [
      "0.0435 -0.0428\n",
      "4.3506 6.7391 0.6456\n"
     ]
    }
   ],
   "source": [
    "N = T = 500\n",
    "phi = 0.05\n",
    "xobs = np.zeros((T, N))\n",
    "sigma_eps = 0.5\n",
    "eps = np.random.normal(loc = 0, scale = sigma_eps, size = (T, N))\n",
    "\n",
    "# create x_t as AR1 process from the sigma_epsilon\n",
    "for i in range(1, T):\n",
    "    xobs[i, :] = phi * xobs[i-1, :] + eps[i, :]\n",
    "\n",
    "# create the winner and loser subportfolios\n",
    "port_win  = np.zeros((T-1, N/10))    \n",
    "port_lose = np.zeros((T-1, N/10))    \n",
    "port_ret = np.zeros((T-1, 2))    \n",
    "for i in range(T-1):\n",
    "    # group the data in two observation at the time\n",
    "    port = pd.DataFrame(xobs[i:i+2, :])\n",
    "    # sort the data by row by looking at the previous winner and losers and report \n",
    "    # current results\n",
    "    port_win[i, :]  = port.T.sort(columns=port.index[0], ascending=False).T.ix[1][:50]\n",
    "    port_lose[i, :] = port.T.sort(columns=port.index[0], ascending=True).T.ix[1][:50]\n",
    "    port_ret[i, :] = [port_win[i, :].dot(np.ones(N/10)/(N/10)), \n",
    "                      port_lose[i, :].dot(np.ones(N/10)/(N/10))]\n",
    "\n",
    "    \n",
    "print('{:.4f} {:.4f}'.format(port_ret[:, 0].mean() , port_ret[:, 1].mean()))\n",
    "print('{:.4f} {:.4f} {:.4f}'.format(port_ret[:, 0].mean() * 100, port_ret[:, 0].std() * 100, \n",
    "                                    port_ret[:, 0].mean() / port_ret[:, 0].std()))"
   ]
  }
 ],
 "metadata": {
  "kernelspec": {
   "display_name": "IPython (Python 3)",
   "language": "python",
   "name": "python3"
  },
  "language_info": {
   "codemirror_mode": {
    "name": "ipython",
    "version": 3
   },
   "file_extension": ".py",
   "mimetype": "text/x-python",
   "name": "python",
   "nbconvert_exporter": "python",
   "pygments_lexer": "ipython3",
   "version": "3.4.3"
  }
 },
 "nbformat": 4,
 "nbformat_minor": 0
}
