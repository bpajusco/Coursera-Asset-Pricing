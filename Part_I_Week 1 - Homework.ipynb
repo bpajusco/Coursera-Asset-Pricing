{
 "cells": [
  {
   "cell_type": "markdown",
   "metadata": {},
   "source": [
    "#Asset Pricing Week 1 - Homework Questions"
   ]
  },
  {
   "cell_type": "code",
   "execution_count": 1,
   "metadata": {
    "collapsed": false
   },
   "outputs": [],
   "source": [
    "%matplotlib inline\n",
    "import numpy as np\n",
    "import pandas as pd\n",
    "import matplotlib.pyplot as plt\n",
    "import seaborn as sns\n",
    "import statsmodels.formula.api as sm"
   ]
  },
  {
   "cell_type": "markdown",
   "metadata": {},
   "source": [
    "###Homework 1 Horizon effects in returns \n",
    "\n",
    "This assignment gives you some practice and review in discrete-time time-series manipulations. You'll also answer some interesting questions -- how should returns behave at different horizons, daily, weekly, monthly, annual, etc. You'll learn about the standard errors of returns, and why it's so hard to measure premiums in the stock market. And you'll investigate whether correlation properties of returns make stocks more or less attractive to long-run investors.\n",
    "\n",
    "Suppose first that one-year log returns $r_t=log(R_t)$ are not correlated over time $cov(r_t,r_{t+j})=0$ and have mean $E(r_t)=\\mu$ and variance $\\sigma^2\\left\\{r_t\\right\\}=\\sigma^2$ that are constant over time.\n",
    "The compound log long-horizon return is $\\log(R_{t+1}R_{t+2}\\dots R_{t+k})=r_{t+1}+r_{t+2}+\\dots+r_{t+k}$ and the annualized compound log long-horizon return is $\\log\\left[  (R_{t+1}R_{t+2}\\dots R_{t+k})^{\\frac{1}{k}}\\right]  =\\frac{1}{k}\\left[  r_{t+1}+r_{t+2}+\\dots+r_{t+k}\\right]$.\n",
    "Now, let's think about how these returns scale with horizon. The big question underlying this analysis is: are returns in some sense \"safer\" for long-horizon investors? "
   ]
  },
  {
   "cell_type": "markdown",
   "metadata": {},
   "source": [
    "####Question 1\n",
    "\n",
    "For the first set of questions, you will explore how returns scale with horizon. There is a suspicion that \"stocks are safer for long-run investors\" which we will chase down repeatedly through the course. For now, we'll just understand how returns scale with horizon\n",
    "\n",
    "What is the mean log long-horizon return $E\\left\\{  r_{t+1}+r_{t+2}+\\dots+r_{t+k}\\right\\}$ as a function of the horizon $k$ and the one-period mean $\\mu$? \n",
    "\n",
    "> **Answer**: $\\boldsymbol{\\mu k}$\n",
    "\n",
    "####Question 2\n",
    "\n",
    "What is the mean annualized log long-horizon return $E\\left\\{  \\frac{1}{k}\\left[  r_{t+1}+r_{t+2}+\\dots+r_{t+k}\\right]  \\right\\}$ as a function of the horizon $k$ and the one-period mean $\\mu$?\n",
    "\n",
    "> **Answer**: $\\boldsymbol{\\mu}$\n",
    "\n",
    "####Question 3\n",
    "\n",
    "If the mean annual return $\\mu$ is 6%, what value do you expect for the mean monthly return? What value do you expect for the mean annualized monthly return?\n"
   ]
  },
  {
   "cell_type": "code",
   "execution_count": 2,
   "metadata": {
    "collapsed": false
   },
   "outputs": [
    {
     "name": "stdout",
     "output_type": "stream",
     "text": [
      "0.50 6.00\n"
     ]
    }
   ],
   "source": [
    "mu = 0.06\n",
    "k = 12\n",
    "\n",
    "print('{:.2f} {:.2f}'.format(*np.array([mu/k, mu])*100))"
   ]
  },
  {
   "cell_type": "markdown",
   "metadata": {},
   "source": [
    "####Question 4\n",
    "\n",
    "What is the variance of the log long-horizon return $\\sigma^{2}\\left\\{  r_{t+1}+r_{t+2}+..+r_{t+k}\\right\\}$ as a function of the horizon $k$ and the one-period return variance $\\sigma^2$? \n",
    "\n",
    "> **Answer: $\\boldsymbol {k \\sigma^2}$**\n",
    "\n",
    "####Question 5\n",
    "\n",
    "What is the variance of the annualized log long-horizon return $\\sigma^{2}\\left\\{ \\frac{1}{k}\\left[ r_{t+1}+r_{t+2}+..+r_{t+k}\\right]\\right\\}$ as a function of the horizon $k$ and the one-period return variance $\\sigma^2$\n",
    "\n",
    "> **Answer: $\\boldsymbol {(1 / k) \\sigma^2}$**\n",
    "\n",
    "####Question 6\n",
    "\n",
    "If the standard deviation of annual returns is 20%, what are the standard deviations of monthly and daily returns? "
   ]
  },
  {
   "cell_type": "code",
   "execution_count": 3,
   "metadata": {
    "collapsed": false
   },
   "outputs": [
    {
     "name": "stdout",
     "output_type": "stream",
     "text": [
      "5.77 1.05\n"
     ]
    }
   ],
   "source": [
    "sigma = 0.2\n",
    "\n",
    "print('{:.2f} {:.2f}'.format(*np.sqrt([sigma**2/12, sigma**2/365])*100))"
   ]
  },
  {
   "cell_type": "markdown",
   "metadata": {},
   "source": [
    "####Question 7\n",
    "\n",
    "Find the \"Sharpe ratio\" (in quotes since you're using logs but not making a convexity adjustment and not subtracting a risk free rate) of log long-horizon returns $\\frac{E\\left\\{r_{t+1}+..+r_{t+k}\\right\\}}{\\sigma\\left\\{r_{t+1}+..+r_{t+k}\\right\\}}$ as a function of horizon $k$ and the one-year Sharpe ratio $\\frac{\\mu}{\\sigma}$.\n",
    "\n",
    "> **Answer: ** $\\boldsymbol {\\frac{\\mu \\sqrt{k}}{\\sigma}}$\n",
    "\n",
    "####Question 8\n",
    "If the annual Sharpe ratio is about 0.5 (8% mean, 16% standard deviation), then what are the monthly and daily (365 days) Sharpe ratios?"
   ]
  },
  {
   "cell_type": "code",
   "execution_count": 4,
   "metadata": {
    "collapsed": false
   },
   "outputs": [
    {
     "name": "stdout",
     "output_type": "stream",
     "text": [
      "0.14434 0.02617\n"
     ]
    }
   ],
   "source": [
    "sharpe_ratio = 0.5\n",
    "\n",
    "print('{:.5f} {:.5f}'.format(*[sharpe_ratio/np.sqrt(12), sharpe_ratio/np.sqrt(365)]))"
   ]
  },
  {
   "cell_type": "markdown",
   "metadata": {},
   "source": [
    "####Question 9\n",
    "\n",
    "The typical portfolio allocation formula says stock allocation should depend on the ratio of mean to variance of total return:\n",
    "\n",
    "$$\\text{stock share}=\\frac{1}{\\text{risk aversion}}\\times\\frac{E(r)}{\\sigma\n",
    "^{2}(r)}.$$\n",
    "\n",
    "(The correct formula uses excess arithmetic returns, rather than log returns, but we'll get approximately the right answers here.)\n",
    "\n",
    "Should an investor with a 10 year horizon allocate more to stocks than an investor with a 1 year horizon because \"stocks are safer in the long run\" and he can \"wait out market declines?\" Or should he allocate less, or the same amount?\n",
    "\n",
    ">**Answer: The same**\n",
    "\n",
    "####Question 10\n",
    "\n",
    "The usual formula for the standard error of mean returns is $\\sigma \\left\\{\\bar{r}\\right\\}=\\sigma(r)/\\sqrt{T}$ where $\\bar{r}\\equiv\\frac{1}{T}\\sum_{t=1}^{T}r_{t}$ is the sample mean. The t-statistic is given by $t\\left\\{\\bar{r}\\right\\} = \\frac{\\bar{r}}{\\sigma\\left\\{\\bar{r}\\right\\}}$. Calculate the standard error of mean annual stock returns and the corresponding t- statistics using 5, 20, and 50 years of data. Assume a 7% sample mean return $\\mu$, and assume a 20% standard deviation $\\sigma=\\sigma(r)=20\\%$. "
   ]
  },
  {
   "cell_type": "code",
   "execution_count": 5,
   "metadata": {
    "collapsed": false
   },
   "outputs": [
    {
     "name": "stdout",
     "output_type": "stream",
     "text": [
      "8.94 4.47 2.83 0.78 1.57 2.47\n"
     ]
    }
   ],
   "source": [
    "mu = 0.07\n",
    "sigma = 0.2\n",
    "T = np.array([5, 20, 50])\n",
    "se = sigma/np.sqrt(T)*100\n",
    "t =  mu/sigma*np.sqrt(T)\n",
    "print('{:.2f} {:.2f} {:.2f} {:.2f} {:.2f} {:.2f}'.format(*np.concatenate([se, t])))"
   ]
  },
  {
   "cell_type": "markdown",
   "metadata": {},
   "source": [
    "####Question 11\n",
    "\n",
    "How many years of data would you need to establish that a 7% mean return is at least two standard errors above zero, i.e. has a t statistic of two? Use $\\sigma$=.20, i.e. 20%.\n",
    "\n",
    ">**Answer: $\\boldsymbol {Solve \\,for \\;2=\\frac{\\mu}{\\sigma/\\sqrt{T}}}$**"
   ]
  },
  {
   "cell_type": "code",
   "execution_count": 6,
   "metadata": {
    "collapsed": false
   },
   "outputs": [
    {
     "name": "stdout",
     "output_type": "stream",
     "text": [
      "32.65 \n"
     ]
    }
   ],
   "source": [
    "print('{:.2f} '.format(4*sigma**2/mu**2))"
   ]
  },
  {
   "cell_type": "markdown",
   "metadata": {},
   "source": [
    "####Question 12\n",
    "\n",
    "You should see that average returns are distressingly hard to measure accurately. A natural thought: maybe we could measure returns more precisely if we used more frequent data. Do you expect the t statistic for mean returns in 5 years of daily data (5 x 365 data points of daily returns) to be larger, smaller, or equal to the t statistic for 5 years of annual returns (5 data points of annual returns)?\n",
    "\n",
    "Assume the variance $\\sigma$ is known and does not have to be estimated. The best way to answer this question is to derive a formula for the t statistic of a mean return using T years of k horizon returns. As in previous questions, we're looking at log returns so the two period return is r1+r2 and assume returns are uncorrelated over time.\n",
    "\n",
    "> **Answer: equal **\n",
    "\n",
    "> Only the actual span of time matters for the t statistic for mean returns, not the number of data points! Using more frequently measured data does not help. As another way to see it, if we define $v_t=v_{t−1}+r_t$ as the cumulative return process, the mean return just depends on $v_T−v_1$ and not on how many steps we subdivide the interval between 1 and T. I assumed we know $\\sigma$. It turns out variances are more precisely measured in high frequency data, so there is a little help there, but not a lot.\n",
    "\n",
    "####Question 13\n",
    "\n",
    "Now, what if returns have some \"momentum\" or \"mean-reversion?\" Does this make long horizon returns \"safer?\" To answer this question, suppose returns follow the MA(1) process\n",
    "\n",
    "$$r_{t}=\\mu+\\varepsilon_{t}+\\theta \\varepsilon_{t-1}$$\n",
    "\n",
    "where the $\\epsilon_t$ are independent over time and $E(\\epsilon_t)=0$ and $\\sigma^2\\left\\{ \\epsilon_t \\right\\}=\\sigma^2_\\epsilon$. Start by getting familiar with the MA(1). What is $E \\left\\{r_t\\right\\}$? \n",
    "\n",
    "> **Answer: $\\boldsymbol \\mu$**\n",
    "\n",
    "####Question 14\n",
    "\n",
    "Continuing the MA(1) example, what is $\\sigma^2\\left\\{ \\epsilon_t \\right\\}$?\n",
    "\n",
    "> **Answer: $\\boldsymbol (1+\\theta^2)\\sigma^2$**\n",
    "\n",
    "####Question 15\n",
    "\n",
    "What is $cov(r_t,r_{t−1})$? \n",
    "\n",
    "> **Answer: $\\boldsymbol \\theta \\sigma^2$**\n",
    "\n",
    "> The autocorrelation of the MA(1) is $cov(r_t,r_{t−1})/var(r)= \\frac{\\theta}{1+\\theta^2}$\n",
    "\n",
    "####Question 16\n",
    "What is $cov(r_t,r_{t−2})$?\n",
    "\n",
    "> **Answer: zero**\n",
    "\n",
    "###Question 17\n",
    "\n",
    "When we looked at the AR(1) model, we summarized how it works with an impulse-response function. We set all past $\\epsilon$ to zero, and thus all past $x$ to zero. Then we set $\\epsilon_1$ to one, thus $x_1$ to one, set all future $\\epsilon$ to zero, and watched the system move. This is the same thing as asking for the conditional mean of $x_t$ given that $x_1=1$ and all past $x$. Let's do the same thing here.\n",
    "\n",
    "Find and plot (for yourself) the impulse-response function and cumulative response function, i.e. the path followed by $\\left\\{r_t\\right\\}$ and $\\left\\{pt\\right\\}$ where $r_t=\\epsilon_t+\\theta \\epsilon_{t−1}$, $p_t=p_{t−1}+r_t$, if $\\epsilon_t=0$ for all $t$ except $\\epsilon_1=1$, for the case $\\theta=+0.5$, (\"momentum\") $\\theta=0$ (\"i.i.d.\" or \"random walk\"), and $\\theta=−0.5$ (\"mean reversion\"). Assume $\\mu=0$ and $p_0=0$ (think of it as the log price).\n",
    "\n",
    "Since we can't grade a plot, write the values in the next few questions.\n",
    "\n",
    "Following the $\\epsilon_t=1$ shock at $t=1$, what are the values of $r_t$ for t=1, 2, 3, 4 when $\\theta= 0.5$? \n"
   ]
  },
  {
   "cell_type": "code",
   "execution_count": 7,
   "metadata": {
    "collapsed": false
   },
   "outputs": [
    {
     "name": "stdout",
     "output_type": "stream",
     "text": [
      "1.0 0.5 0.0 0.0\n"
     ]
    }
   ],
   "source": [
    "eps = np.array([1., 0., 0., 0.])\n",
    "theta = 0.5\n",
    "r_momentum = np.concatenate([[1.],[e*theta for e in eps[:-1]]])\n",
    "print('{:} {:} {:} {:}'.format(*r_momentum))"
   ]
  },
  {
   "cell_type": "markdown",
   "metadata": {},
   "source": [
    "####Question 18\n",
    "\n",
    "What are the values of $p_t$ for t=1, 2, 3, 4 when θ=.5?"
   ]
  },
  {
   "cell_type": "code",
   "execution_count": 8,
   "metadata": {
    "collapsed": false
   },
   "outputs": [
    {
     "name": "stdout",
     "output_type": "stream",
     "text": [
      "1.0 1.5 1.5 1.5\n"
     ]
    },
    {
     "name": "stderr",
     "output_type": "stream",
     "text": [
      "/usr/local/lib/python3.4/dist-packages/matplotlib-1.5.x-py3.4-linux-x86_64.egg/matplotlib/font_manager.py:1279: UserWarning: findfont: Font family ['Arial'] not found. Falling back to Bitstream Vera Sans\n",
      "  (prop.get_family(), self.defaultFamily[fontext]))\n"
     ]
    },
    {
     "data": {
      "image/png": "[encoded data removed]",
      "text/plain": [
       "<matplotlib.figure.Figure at 0x7f872b790d68>"
      ]
     },
     "metadata": {},
     "output_type": "display_data"
    }
   ],
   "source": [
    "p_momentum = np.ones(len(eps))\n",
    "for i in range(1,len(eps)):\n",
    "    p_momentum[i] = p_momentum[i-1] + r_momentum[i]\n",
    "print('{:} {:} {:} {:}'.format(*p_momentum))\n",
    "\n",
    "plt.plot(r_momentum)\n",
    "plt.plot(p_momentum);"
   ]
  },
  {
   "cell_type": "markdown",
   "metadata": {},
   "source": [
    "####Question 19\n",
    "\n",
    "What are the values of $r_t$ for t=1, 2, 3, 4 when $\\theta=0$?"
   ]
  },
  {
   "cell_type": "code",
   "execution_count": 9,
   "metadata": {
    "collapsed": false
   },
   "outputs": [
    {
     "name": "stdout",
     "output_type": "stream",
     "text": [
      "1.0 0.0 0.0 0.0\n"
     ]
    }
   ],
   "source": [
    "theta = 0\n",
    "\n",
    "r_iid = np.concatenate([[1.],[e*theta for e in eps[:-1]]])\n",
    "print('{:} {:} {:} {:}'.format(*r_iid))"
   ]
  },
  {
   "cell_type": "markdown",
   "metadata": {},
   "source": [
    "####Question 20\n",
    "\n",
    "What are the values of $p_t$ for t=1, 2, 3, 4 when $\\theta=0$? "
   ]
  },
  {
   "cell_type": "code",
   "execution_count": 10,
   "metadata": {
    "collapsed": false
   },
   "outputs": [
    {
     "name": "stdout",
     "output_type": "stream",
     "text": [
      "1.0 1.0 1.0 1.0\n"
     ]
    },
    {
     "data": {
      "image/png": "[encoded data removed]",
      "text/plain": [
       "<matplotlib.figure.Figure at 0x7f872b69d0f0>"
      ]
     },
     "metadata": {},
     "output_type": "display_data"
    }
   ],
   "source": [
    "p_iid = np.ones(len(eps))\n",
    "for i in range(1,len(eps)):\n",
    "    p_iid[i] = p_iid[i-1] + r_iid[i]\n",
    "print('{:} {:} {:} {:}'.format(*p_iid))\n",
    "\n",
    "plt.plot(r_iid)\n",
    "plt.plot(p_iid);"
   ]
  },
  {
   "cell_type": "markdown",
   "metadata": {},
   "source": [
    "####Question 21\n",
    "\n",
    "What are the values of $r_t$ for t=1, 2, 3, 4 when $\\theta=−0.5$? "
   ]
  },
  {
   "cell_type": "code",
   "execution_count": 11,
   "metadata": {
    "collapsed": false
   },
   "outputs": [
    {
     "name": "stdout",
     "output_type": "stream",
     "text": [
      "1.0 -0.5 -0.0 -0.0\n"
     ]
    }
   ],
   "source": [
    "theta = -0.5\n",
    "\n",
    "r_mr = np.concatenate([[1.],[e*theta for e in eps[:-1]]])\n",
    "print('{:} {:} {:} {:}'.format(*r_mr))"
   ]
  },
  {
   "cell_type": "markdown",
   "metadata": {},
   "source": [
    "####Question 22\n",
    "\n",
    "What are the values of $p_t$ for t=1, 2, 3, 4 when $\\theta=−0.5$? "
   ]
  },
  {
   "cell_type": "code",
   "execution_count": 12,
   "metadata": {
    "collapsed": false
   },
   "outputs": [
    {
     "name": "stdout",
     "output_type": "stream",
     "text": [
      "1.0 0.5 0.5 0.5\n"
     ]
    },
    {
     "data": {
      "image/png": "[encoded data removed]",
      "text/plain": [
       "<matplotlib.figure.Figure at 0x7f872b647b00>"
      ]
     },
     "metadata": {},
     "output_type": "display_data"
    }
   ],
   "source": [
    "p_mr = np.ones(len(eps))\n",
    "for i in range(1,len(eps)):\n",
    "    p_mr[i] = p_mr[i-1] + r_mr[i]\n",
    "print('{:} {:} {:} {:}'.format(*p_mr))\n",
    "\n",
    "plt.plot(r_mr)\n",
    "plt.plot(p_mr);"
   ]
  },
  {
   "cell_type": "markdown",
   "metadata": {},
   "source": [
    "####Question 23\n",
    "\n",
    "Take a deep breath. You reminded yourself how an MA(1) works. Now, let's look at long-horizon returns.\n",
    "\n",
    "Let $r_t=\\mu+\\epsilon_t+\\theta \\epsilon_{t−1}$ and denote the variance of $\\epsilon$ by $\\sigma^2_\\epsilon$.\n",
    "\n",
    "Find a formula for the unconditional mean of horizon-$k$ log returns $E\\left[  \\sum_{j=1}^{k}r_{t+j}\\right]$. When $\\theta>0$ (momentum), is the mean long horizon return $E\\left[  r_{t+1}+r_{t+2}+\\dots+r_{t+k}\\right]$ greater than, equal to, or less than k times the average one year return $E\\left\\{r_t\\right\\}$?\n",
    "\n",
    ">**Answer: equal**\n",
    ">Momentum or mean reversion have no effect on the unconditional mean. They affect conditional means, as shown by the impulse response function\n",
    "\n",
    "####Question 24\n",
    "\n",
    "To characterize whether returns are more or less risky at long horizons, we use the variance ratio statistic. This is the ratio of long-run variance to horizon times the short run variance. For horizon-$k$ returns, the statistic is\n",
    "\n",
    "$$\\frac{\\sigma^2\\left\\{\\sum_{j=1}^kr_{t+j}\\right\\}}{k\\sigma^2\\left\\{r_t\\right\\}}$$\n",
    "\n",
    "The variance ratio is one if returns are uncorrelated over time.\n",
    "\n",
    "Find a formula for the variance ratio of an our MA(1), $r_t=\\mu+\\epsilon_t+\\theta \\epsilon_{t−1}$ at horizon $k$.\n",
    "\n",
    ">**Answer: $\\sigma^2[r_{t+1}+r_{t+2}+..+r_{t+k}] =k var(r)+2(k-1)cov(r_{t},r_{t-1}) \\\\ =\\left[ k+2(k-1)\\frac{\\theta}{(1+\\theta^2)}\\right]\\sigma^2(r) \\\\=k\\left[1+2\\frac{(k-1)}{k} \\frac{\\theta}{(1+\\theta^2)}\\right]\\sigma^2(r)$ **\n",
    "\n",
    ">**Which simplifies to: $\\boldsymbol {1+2\\frac{(k-1)}{k} \\frac{\\theta}{(1+\\theta^2)}}$**\n",
    "\n",
    "####Question 25\n",
    "\n",
    "Suppose $\\mu=1$ and $\\sigma^2_\\epsilon=1$. What are the values of the variance ratio\n",
    "\n",
    "$$\\frac{\\sigma^2\\left\\{\\sum_{j=1}^kr_{t+j}\\right\\}}{k\\sigma^2\\left\\{r_t\\right\\}}$$\n",
    "\n",
    "for $k=2,5,\\infty$ when $\\theta$=1?"
   ]
  },
  {
   "cell_type": "code",
   "execution_count": 13,
   "metadata": {
    "collapsed": false
   },
   "outputs": [
    {
     "name": "stdout",
     "output_type": "stream",
     "text": [
      "1.50 1.80 2.00\n"
     ]
    }
   ],
   "source": [
    "k = np.array([2,5,1e199])\n",
    "theta =1\n",
    "\n",
    "print('{:.2f} {:.2f} {:.2f}'.format(*1+2*(k-1)/k*theta/(1+theta**2)))"
   ]
  },
  {
   "cell_type": "markdown",
   "metadata": {},
   "source": [
    "####Question 26\n",
    "\n",
    "So finally, recall that the formula (which we will derive later) for the portfolio weight is\n",
    "\n",
    "$$\\text{share} = \\frac{1}{\\text{risk aversion}} \\frac{\\text{mean return}}{\\text{variance of return}}$$\n",
    "\n",
    "Does mean-reversion ($\\theta<0$) make long-horizon returns more, less, or equally attractive than one-year returns to long-term investors?\n",
    "\n",
    ">**Answer: More attractive, because mean reversion lowers the variance of long run returns**"
   ]
  },
  {
   "cell_type": "markdown",
   "metadata": {},
   "source": [
    "###Homework 2 Log-Normal Returns\n",
    "\n",
    "For this set of problems, we'll explore the standard geometric Brownian motion model for stock returns, \n",
    "\n",
    "$$\\frac{dp_{t}}{p_{t}}=\\mu dt+\\sigma dz_{t}$$\n",
    "\n",
    "Recall the solution for the T period log and arithmetic return,\n",
    "\n",
    "$$ \\begin{align*}\n",
    "R_{T}  \\equiv\\frac{p_{T}}{p_{0}}=e^{\\left(  \\mu-\\frac{1}{2}\\sigma\n",
    "^{2}\\right)  T+\\sigma\\sqrt{T}\\varepsilon_{t}} \\;\\;\\varepsilon_{T} \\sim N(0,1)\n",
    "\\end{align*}$$\n",
    "\n",
    "$$\\log\\left(  R_{T}\\right)    =\\left(  \\mu-\\frac{1}{2}\\sigma^{2}\\right)\n",
    "T+\\sigma\\sqrt{T}\\varepsilon_{t} \\;\\; \\varepsilon_{T}\\sim N(0,1)\n",
    "$$\n",
    "\n",
    "As you can see, the log return works just like the discrete time log returns we explored in the last problem. In particular mean and variance scale with horizon:\n",
    "\n",
    "$$\\begin{align*}\n",
    "E\\left[  \\log\\left(  R_{T}\\right)  \\right]    & =\\left(  \\mu-\\frac{1}{2}%\n",
    "\\sigma^{2}\\right)  T\\\\\n",
    "\\sigma^{2}\\left[  \\log\\left(  R_{T}\\right)  \\right]    & =\\sigma^{2}T\n",
    "\\end{align*}$$\n",
    "\n",
    "So the \"Sharpe ratio\" scales with the square root of the horizon:\n",
    "\n",
    "$$\\frac{E\\left[  \\log\\left(  R_{T}\\right)  \\right]  }{\\sigma\\left[  \\log\\left(\n",
    "R_{T}\\right)  \\right]  }=\\frac{\\left(  \\mu-\\frac{1}{2}\\sigma^{2}\\right)\n",
    "}{\\sigma}\\sqrt{T}%$$\n",
    "\n",
    "The mean and variance of annualized returns are\n",
    "\n",
    "$$ \\begin{align*}\n",
    "E\\left[  \\frac{1}{T}\\log\\left(  R_{T}\\right)  \\right]    & =\\left(  \\mu\n",
    "-\\frac{1}{2}\\sigma^{2}\\right)  \\\\\n",
    "\\sigma^{2}\\left[  \\frac{1}{T}\\log\\left(  R_{T}\\right)  \\right]    &\n",
    "=\\frac{\\sigma^{2}}{T}.\n",
    "\\end{align*}$$\n",
    "\n",
    "(Why is $\\frac{1}{T}log(R_T)$ the continuously compounded annualized return? Because $e^{T\\left(  \\frac{1}{T}\\log\\left(  R_{T}\\right)\n",
    "\\right)  }=R_{T}$.) The latter result makes it look like returns are more stable in the long run, but that's a mistake.\n",
    "\n",
    "In this set of problems, we'll look at the properties of the corresponding arithmetic return $p_T/p_0$\n",
    "\n",
    "####Question 1\n",
    "\n",
    "Suppose that the log return $r_t$ is normally distributed with mean $\\mu$ and standard deviation $\\sigma$. The arithmetic return is $R_t=e^{r_t}$. The $T$-year arithmetic return is the compounded return $R_1R_2\\dots R_T$.\n",
    "\n",
    "Using the formula $E(e^{x})=e^{E(x)+\\frac{1}{2}\\sigma^{2}(x)}$ for any normally-distributed x, find the mean, variance and Sharpe ratio of $T$-year arithmetic returns.\n",
    "\n",
    "Report the formula for the expected value of the $T$-horizon return $E\\left\\{R_1R_2\\dots R_T\\right\\}$\n",
    "\n",
    ">**Answer: $\\boldsymbol {e^{\\mu T}}$**\n",
    "\n",
    "####Question 2\n",
    "\n",
    "What is the formula for the standard deviation of the $T$-horizon return $\\sigma\\left\\{R_T\\right\\}$?\n",
    "\n",
    ">**Answer: $\\boldsymbol {e^{\\mu T}\\sqrt{e^{\\sigma^2T}-1}}$**\n",
    "\n",
    "####Question 3\n",
    "\n",
    "What is the formula for the Sharpe ratio of the $T$-horizon return $\\frac{E\\left\\{R_T−R^f\\right\\}}{\\sigma\\left\\{R_T\\right\\}}$? Assume a zero-percent riskless rate, i.e. $R_f=1$\n",
    "\n",
    ">**Answer: $\\boldsymbol {\\frac{1-e^{-\\mu T}}{\\sqrt{e^{\\sigma^2T}-1}}}$**\n",
    "\n",
    "####Question 4\n",
    "Suppose $\\mu=0.06$ (i.e. 6%) and $\\sigma=0.20$ (i.e. 20%.) What are the mean, standard deviation, and Sharpe ratio of 1-year arithmetic returns?\n",
    "\n",
    "The point of the question is to compare these lognormal formulas to 6%, 20%, and 6/20=0.33 and see how big a difference you get by doing it right."
   ]
  },
  {
   "cell_type": "code",
   "execution_count": 14,
   "metadata": {
    "collapsed": false
   },
   "outputs": [
    {
     "name": "stdout",
     "output_type": "stream",
     "text": [
      "6.184 21.451 0.288\n"
     ]
    }
   ],
   "source": [
    "def mean_ret(mu, t):\n",
    "    return np.exp(mu*t)-1\n",
    "\n",
    "def sd_ret(mu, sigma, t):\n",
    "    return np.exp(mu*t)* np.sqrt(np.exp(sigma**2*t)-1)\n",
    "\n",
    "def sharpe_ratio(mu, sigma, t, rf=0):\n",
    "    return ((np.exp(mu*t) - np.exp(rf*t)) / (np.exp(mu*t) * np.sqrt(np.exp(sigma**2*t)-1)))\n",
    "\n",
    "mu = 0.06\n",
    "sigma = 0.2\n",
    "t = 1\n",
    "\n",
    "print('{:.3f} {:.3f} {:.3f}'.format(*np.array([mean_ret(mu,t)*100, \n",
    "                                               sd_ret(mu, sigma, t)*100, \n",
    "                                               sharpe_ratio(mu, sigma, t)])))"
   ]
  },
  {
   "cell_type": "markdown",
   "metadata": {},
   "source": [
    "####Question 5\n",
    "\n",
    "What are the mean, standard deviation, and Sharpe ratio of 10-year returns? The point is to compare these to $6×10=60$, $20×\\sqrt{10}=63$ and $60/63\\approx1$ (Thought question: how is a standard deviation greater than 100% possible given you can never lose more than all your money? **Answer: Yes, a standard deviation greater than 100% is possible. The right tail can be huge, and it's getting there. **) \n"
   ]
  },
  {
   "cell_type": "code",
   "execution_count": 15,
   "metadata": {
    "collapsed": false
   },
   "outputs": [
    {
     "name": "stdout",
     "output_type": "stream",
     "text": [
      "82.212 127.786 0.643\n"
     ]
    }
   ],
   "source": [
    "t = 10\n",
    "\n",
    "print('{:.3f} {:.3f} {:.3f}'.format(*np.array([mean_ret(mu,t)*100, \n",
    "                                               sd_ret(mu, sigma, t)*100, \n",
    "                                               sharpe_ratio(mu, sigma, t)])))"
   ]
  },
  {
   "cell_type": "markdown",
   "metadata": {},
   "source": [
    "####Question 6\n",
    "\n",
    "What is the Sharpe ratio for 100-year returns, $R_{100}$? The point is to compare this to the log returns, where Sharpe ratios grow with the square root of horizon.\n"
   ]
  },
  {
   "cell_type": "code",
   "execution_count": 16,
   "metadata": {
    "collapsed": false
   },
   "outputs": [
    {
     "name": "stdout",
     "output_type": "stream",
     "text": [
      "0.136\n"
     ]
    }
   ],
   "source": [
    "t = 100\n",
    "print('{:.3f}'.format(sharpe_ratio(mu, sigma, t)))"
   ]
  },
  {
   "cell_type": "markdown",
   "metadata": {},
   "source": [
    "####Question 7\n",
    "\n",
    "Do mean returns grow faster than, slower than, or with the horizon $T$?\n",
    "\n",
    ">Answer: **Faster**\n",
    "\n",
    "####Question 8\n",
    "\n",
    "Does the standard deviation of returns grow faster than, slower than, or with the square root of the horizon $\\sqrt{T}$?\n",
    "\n",
    ">Answer: **Faster**\n",
    "\n",
    "####Question 9\n",
    "\n",
    "Does the Sharpe ratio grow faster than, slower than, or with the square root of the horizon $\\sqrt{T}$? (The formulas are hard to digest. The best answer is to make a graph of Sharpe ratio vs. horizon and comparison with $\\frac{\\mu}{\\sigma} \\sqrt{T}$?)\n",
    "\n",
    ">Answer: **Slower**"
   ]
  },
  {
   "cell_type": "code",
   "execution_count": 17,
   "metadata": {
    "collapsed": false
   },
   "outputs": [
    {
     "name": "stderr",
     "output_type": "stream",
     "text": [
      "/usr/local/lib/python3.4/dist-packages/matplotlib-1.5.x-py3.4-linux-x86_64.egg/matplotlib/font_manager.py:1279: UserWarning: findfont: Font family ['Arial'] not found. Falling back to Bitstream Vera Sans\n",
      "  (prop.get_family(), self.defaultFamily[fontext]))\n"
     ]
    },
    {
     "data": {
      "image/png": "[encoded data removed]",
      "text/plain": [
       "<matplotlib.figure.Figure at 0x7f872b684b70>"
      ]
     },
     "metadata": {},
     "output_type": "display_data"
    }
   ],
   "source": [
    "x = np.linspace(1,50)\n",
    "plt.plot(x,[sharpe_ratio(mu, sigma, i) for i in x], label = 'Calculated Sharpe Ratio at T')\n",
    "plt.plot(x, mu/sigma*np.sqrt(x), linestyle = '--', label = 'Root T Scaling of 1 Year Sharpe Ratio')\n",
    "plt.title('Sharpe Ratio as function of horizon T')\n",
    "plt.ylim(0,1)\n",
    "plt.xlim(1,50)\n",
    "plt.legend(loc='best');\n"
   ]
  },
  {
   "cell_type": "markdown",
   "metadata": {},
   "source": [
    "####Question 10\n",
    "Write a computer program to plot the distribution of 1,5,10 and 50-year arithmetic returns, using $\\mu=0.06$ and $\\sigma=0.20$. Calculate the mean, median, and mode, in each case, and find the probability that the return is less than its mean.\n",
    "\n",
    "You will find the following formulas useful: if $x$ is normally-distributed (so that $e^x$ is lognormal), then\n",
    "\n",
    "$$E(e^x) = e^{E(x)+\\frac{1}{2}\\sigma^2(x)}$$\n",
    "$$median(e^x) = e^{median(x)} = e^{E(x)}$$\n",
    "$$mode(e^x) = e^{E(x)−\\sigma^2(x)}$$\n",
    "$$Pr(e^x<e^y)= Pr(x<y)$$\n",
    "\n",
    "To check your calculations, report the mean, median, and mode, and the probability that the return is less than its mean, each at the 10 year horizon.\n",
    "\n",
    "Enter these four numbers separated by spaces. Report the first three numbers as the time T value per dollar invested, or gross return, rather than percent, e.g. if you invest \\$1 and get \\$1.50 report this as 1.5 rather than 50 (percent) or 0.5 (net return). Report the last number as a percent probability, e.g. 26 rather than 0.26.\n"
   ]
  },
  {
   "cell_type": "code",
   "execution_count": 18,
   "metadata": {
    "collapsed": false,
    "scrolled": true
   },
   "outputs": [
    {
     "data": {
      "text/html": [
       "<div style=\"max-height:1000px;max-width:1500px;overflow:auto;\">\n",
       "<table border=\"1\" class=\"dataframe\">\n",
       "  <thead>\n",
       "    <tr style=\"text-align: right;\">\n",
       "      <th></th>\n",
       "      <th>1</th>\n",
       "      <th>5</th>\n",
       "      <th>10</th>\n",
       "      <th>50</th>\n",
       "    </tr>\n",
       "  </thead>\n",
       "  <tbody>\n",
       "    <tr>\n",
       "      <th>0</th>\n",
       "      <td>1.061837</td>\n",
       "      <td>1.349859</td>\n",
       "      <td>1.822119</td>\n",
       "      <td>20.085537</td>\n",
       "    </tr>\n",
       "    <tr>\n",
       "      <th>1</th>\n",
       "      <td>1.040811</td>\n",
       "      <td>1.221403</td>\n",
       "      <td>1.491825</td>\n",
       "      <td>7.389056</td>\n",
       "    </tr>\n",
       "    <tr>\n",
       "      <th>2</th>\n",
       "      <td>1.000000</td>\n",
       "      <td>1.000000</td>\n",
       "      <td>1.000000</td>\n",
       "      <td>1.000000</td>\n",
       "    </tr>\n",
       "  </tbody>\n",
       "</table>\n",
       "</div>"
      ],
      "text/plain": [
       "         1         5         10         50\n",
       "0  1.061837  1.349859  1.822119  20.085537\n",
       "1  1.040811  1.221403  1.491825   7.389056\n",
       "2  1.000000  1.000000  1.000000   1.000000"
      ]
     },
     "execution_count": 18,
     "metadata": {},
     "output_type": "execute_result"
    },
    {
     "data": {
      "image/png": "[encoded data removed]",
      "text/plain": [
       "<matplotlib.figure.Figure at 0x7f872b5f5438>"
      ]
     },
     "metadata": {},
     "output_type": "display_data"
    }
   ],
   "source": [
    "from scipy import stats \n",
    "\n",
    "mu = 0.06\n",
    "sigma = 0.2\n",
    "T = np.array([1, 5, 10, 50])\n",
    "\n",
    "\n",
    "E_rt = np.exp(mu*T)\n",
    "median = np.exp((mu - sigma**2/2)*T)\n",
    "mode = np.exp((mu - 3*sigma**2/2)*T)\n",
    "\n",
    "\n",
    "for n,i in enumerate(T):\n",
    "    plt.subplot(2, 2, n+1)\n",
    "    # values for x-axis\n",
    "    x = np.linspace(0.1, 2*i/np.sqrt(i), num=400) \n",
    "    # probability distribution\n",
    "    logn = stats.lognorm(x, loc=(mu-0.5*sigma**2)*i, scale=sigma*i) \n",
    "    plt.plot(x, logn.pdf(x), label = 'T={:}'.format(i))\n",
    "    plt.legend()   \n",
    "    \n",
    "pd.DataFrame([E_rt, median, mode], columns=T)"
   ]
  },
  {
   "cell_type": "code",
   "execution_count": 19,
   "metadata": {
    "collapsed": false
   },
   "outputs": [
    {
     "data": {
      "text/plain": [
       "9.0174096015574354e-07"
      ]
     },
     "execution_count": 19,
     "metadata": {},
     "output_type": "execute_result"
    }
   ],
   "source": [
    "from scipy import stats\n",
    "t = 50\n",
    "mean = np.exp(mu*t)\n",
    "stats.lognorm.pdf(mean, np.exp(sigma*t), scale=np.exp(mu + (sigma**2/2)))"
   ]
  },
  {
   "cell_type": "markdown",
   "metadata": {},
   "source": [
    "###Homework 3 Meet the data\n",
    "\n",
    "\n",
    "####Question 1 \n",
    "\n",
    "Download data from the appropriate [site](https://d396qusza40orc.cloudfront.net/assetpricing%2Fdata%2Fps1_data.txt). Report the mean of stock returns, treasury returns and excess returns (stock minus treasury). Then report the standard deviations in the same order. Enter your answers as numbers separated by spaces, in percent (e.g., 6.1 not .061), to one decimal. The point is to get a sense of how big these numbers are and how stocks and bonds behave. You're entering 6 numbers in the stated order. "
   ]
  },
  {
   "cell_type": "code",
   "execution_count": 20,
   "metadata": {
    "collapsed": false
   },
   "outputs": [
    {
     "name": "stdout",
     "output_type": "stream",
     "text": [
      "11.5930 3.9501 7.6429 20.3128 3.4395 20.6331\n"
     ]
    }
   ],
   "source": [
    "prices_df = pd.read_csv('https://d396qusza40orc.cloudfront.net/ \\\n",
    "                        assetpricing%2Fdata%2Fps1_data.txt', sep = '\\s+', skiprows=6, \n",
    "                        names = ['Date', 'Stocks_Ret', 'D/P', 'D growth','T-bill_Ret'],\n",
    "                        index_col = 0, parse_dates = True)\n",
    "\n",
    "prices_df['Excess_Ret'] = prices_df['Stocks_Ret'] - prices_df['T-bill_Ret']\n",
    "\n",
    "print('{:.4f} {:.4f} {:.4f} {:.4f} {:.4f} {:.4f}'.format(*[prices_df['Stocks_Ret'].mean() * 100,\n",
    "                                                           prices_df['T-bill_Ret'].mean() * 100,\n",
    "                                                           prices_df['Excess_Ret'].mean() * 100,\n",
    "                                                           prices_df['Stocks_Ret'].std() * 100,\n",
    "                                                           prices_df['T-bill_Ret'].std() * 100,\n",
    "                                                           prices_df['Excess_Ret'].std() * 100]))"
   ]
  },
  {
   "cell_type": "code",
   "execution_count": 21,
   "metadata": {
    "collapsed": false
   },
   "outputs": [
    {
     "data": {
      "text/html": [
       "<div style=\"max-height:1000px;max-width:1500px;overflow:auto;\">\n",
       "<table border=\"1\" class=\"dataframe\">\n",
       "  <thead>\n",
       "    <tr style=\"text-align: right;\">\n",
       "      <th></th>\n",
       "      <th>Stocks_Ret</th>\n",
       "      <th>D/P</th>\n",
       "      <th>D growth</th>\n",
       "      <th>T-bill_Ret</th>\n",
       "      <th>Excess_Ret</th>\n",
       "    </tr>\n",
       "  </thead>\n",
       "  <tbody>\n",
       "    <tr>\n",
       "      <th>count</th>\n",
       "      <td>87.000000</td>\n",
       "      <td>87.000000</td>\n",
       "      <td>86.000000</td>\n",
       "      <td>87.000000</td>\n",
       "      <td>87.000000</td>\n",
       "    </tr>\n",
       "    <tr>\n",
       "      <th>mean</th>\n",
       "      <td>0.115930</td>\n",
       "      <td>0.038773</td>\n",
       "      <td>0.057139</td>\n",
       "      <td>0.039501</td>\n",
       "      <td>0.076429</td>\n",
       "    </tr>\n",
       "    <tr>\n",
       "      <th>std</th>\n",
       "      <td>0.203128</td>\n",
       "      <td>0.015024</td>\n",
       "      <td>0.153608</td>\n",
       "      <td>0.034395</td>\n",
       "      <td>0.206331</td>\n",
       "    </tr>\n",
       "    <tr>\n",
       "      <th>min</th>\n",
       "      <td>-0.443574</td>\n",
       "      <td>0.011134</td>\n",
       "      <td>-0.313152</td>\n",
       "      <td>-0.006810</td>\n",
       "      <td>-0.450644</td>\n",
       "    </tr>\n",
       "    <tr>\n",
       "      <th>25%</th>\n",
       "      <td>-0.008289</td>\n",
       "      <td>0.028530</td>\n",
       "      <td>-0.045481</td>\n",
       "      <td>0.009996</td>\n",
       "      <td>-0.068734</td>\n",
       "    </tr>\n",
       "    <tr>\n",
       "      <th>50%</th>\n",
       "      <td>0.143860</td>\n",
       "      <td>0.039600</td>\n",
       "      <td>0.051814</td>\n",
       "      <td>0.036026</td>\n",
       "      <td>0.103165</td>\n",
       "    </tr>\n",
       "    <tr>\n",
       "      <th>75%</th>\n",
       "      <td>0.268568</td>\n",
       "      <td>0.048315</td>\n",
       "      <td>0.131745</td>\n",
       "      <td>0.056127</td>\n",
       "      <td>0.210242</td>\n",
       "    </tr>\n",
       "    <tr>\n",
       "      <th>max</th>\n",
       "      <td>0.575033</td>\n",
       "      <td>0.072311</td>\n",
       "      <td>0.447218</td>\n",
       "      <td>0.164605</td>\n",
       "      <td>0.570378</td>\n",
       "    </tr>\n",
       "  </tbody>\n",
       "</table>\n",
       "</div>"
      ],
      "text/plain": [
       "       Stocks_Ret        D/P   D growth  T-bill_Ret  Excess_Ret\n",
       "count   87.000000  87.000000  86.000000   87.000000   87.000000\n",
       "mean     0.115930   0.038773   0.057139    0.039501    0.076429\n",
       "std      0.203128   0.015024   0.153608    0.034395    0.206331\n",
       "min     -0.443574   0.011134  -0.313152   -0.006810   -0.450644\n",
       "25%     -0.008289   0.028530  -0.045481    0.009996   -0.068734\n",
       "50%      0.143860   0.039600   0.051814    0.036026    0.103165\n",
       "75%      0.268568   0.048315   0.131745    0.056127    0.210242\n",
       "max      0.575033   0.072311   0.447218    0.164605    0.570378"
      ]
     },
     "execution_count": 21,
     "metadata": {},
     "output_type": "execute_result"
    }
   ],
   "source": [
    "prices_df.describe()"
   ]
  },
  {
   "cell_type": "markdown",
   "metadata": {},
   "source": [
    "#####Question 2\n",
    "Find the \"Sharpe ratio\" mean to standard of excess returns. Enter a single number with two significant digits. (The excess return is the difference between arithmetic stock and bond returns, $R^e_t=R_t−R^f_t$. In most data sets the risk free rate from $t-1$ to $t$ is located in the $t-1$ row and the risky return from $t-1$ to $t$ is located in the $t$ row. However in crsp data they are both in the same row.)\n"
   ]
  },
  {
   "cell_type": "code",
   "execution_count": 22,
   "metadata": {
    "collapsed": false
   },
   "outputs": [
    {
     "name": "stdout",
     "output_type": "stream",
     "text": [
      "0.3704\n"
     ]
    }
   ],
   "source": [
    "print('{:.4f}'.format(prices_df['Excess_Ret'].mean() / prices_df['Excess_Ret'].std()))"
   ]
  },
  {
   "cell_type": "markdown",
   "metadata": {},
   "source": [
    "####Question 3\n",
    "Make a plot of the stock returns, treasury bill returns, and the price-dividend ratio over time. Check that the pictures are consistent with the numbers you just calculated. The stock returns should line up with major booms and crashes you know about; the treasury returns should rise in the 70s with inflation and then fall, and the dividend yield (price/dividend upside down) should line up with the major booms and busts of market history.\n",
    "\n",
    "Based on your plot, does the stock return seem serially correlated -- if it is above average in one year, is it likely to be above or below average next year? Does the Treasury bill return seem serially correlated? The dividend-price ratio? "
   ]
  },
  {
   "cell_type": "code",
   "execution_count": 23,
   "metadata": {
    "collapsed": false
   },
   "outputs": [
    {
     "name": "stderr",
     "output_type": "stream",
     "text": [
      "/usr/local/lib/python3.4/dist-packages/matplotlib-1.5.x-py3.4-linux-x86_64.egg/matplotlib/font_manager.py:1279: UserWarning: findfont: Font family ['Arial'] not found. Falling back to Bitstream Vera Sans\n",
      "  (prop.get_family(), self.defaultFamily[fontext]))\n"
     ]
    },
    {
     "data": {
      "image/png": "[encoded data removed]",
      "text/plain": [
       "<matplotlib.figure.Figure at 0x7f872b5a7780>"
      ]
     },
     "metadata": {},
     "output_type": "display_data"
    },
    {
     "data": {
      "image/png": "[encoded data removed]",
      "text/plain": [
       "<matplotlib.figure.Figure at 0x7f872b5a77f0>"
      ]
     },
     "metadata": {},
     "output_type": "display_data"
    }
   ],
   "source": [
    "prices_df[['Stocks_Ret', 'T-bill_Ret']].plot(title = 'Stocks and T-bill Returns')\n",
    "plt.figure()\n",
    "prices_df['D/P'].plot(title = 'Price Dividends Ratio');"
   ]
  },
  {
   "cell_type": "markdown",
   "metadata": {},
   "source": [
    "####Question 4\n",
    "Run regressions of returns at date $t+1$ on returns at date $t$, i.e.\n",
    "$R_{t+1}=a+bR_{t}+\\varepsilon_{t+1};\\ t=1,2,...T-1,$\n",
    "where $R_t$ is the stock return at date $t$.\n",
    "\n",
    "Report the slope coefficient, its $t$ statistic, the regression $R^2$, the mean return $E(R)$, and the standard deviation of expected returns $\\sigma\\{E_t(R_{t+1})\\}=\\sigma\\{a+bR_t\\}$. Enter your answers as numbers separated by spaces, and express everything appropriate in annual percent units.\n",
    "\n",
    "*Note*:The standard deviation of expected returns is a subtle concept. It's the numerator of $R^2=\\sigma^2(a+bR_t)/\\sigma^2(R_t)$. Here, it's interesting to compare $\\sigma(a+bR_t)$ to the mean of $R_{t+1}$, not to the variance of $R_{t+1}$. This answers the question, \"how much do mean returns change over time?\" as opposed to \"how much of the variation in returns is predictable ahead of time?\" The answer to the former can be \"a lot\" even if the answer to the latter is \"not much.\"\n"
   ]
  },
  {
   "cell_type": "code",
   "execution_count": 24,
   "metadata": {
    "collapsed": false
   },
   "outputs": [
    {
     "name": "stdout",
     "output_type": "stream",
     "text": [
      "0.0064 0.0584 0.0000 11.6151 0.1301 0.9190 20.4190 0.8323 3.8612 3.1561 0.0121 0.1105 0.0001 5.7139 0.2502\n"
     ]
    },
    {
     "data": {
      "text/html": [
       "<div style=\"max-height:1000px;max-width:1500px;overflow:auto;\">\n",
       "<table border=\"1\" class=\"dataframe\">\n",
       "  <thead>\n",
       "    <tr style=\"text-align: right;\">\n",
       "      <th></th>\n",
       "      <th>$b$</th>\n",
       "      <th>$t$</th>\n",
       "      <th>$R^2$</th>\n",
       "      <th>$E(R)$</th>\n",
       "      <th>$\\sigma(E_t(R_{t+1}))$</th>\n",
       "    </tr>\n",
       "  </thead>\n",
       "  <tbody>\n",
       "    <tr>\n",
       "      <th>Stocks_Ret</th>\n",
       "      <td>0.006372</td>\n",
       "      <td>0.058385</td>\n",
       "      <td>0.000041</td>\n",
       "      <td>11.615114</td>\n",
       "      <td>0.130148</td>\n",
       "    </tr>\n",
       "    <tr>\n",
       "      <th>T-bill_Ret</th>\n",
       "      <td>0.919027</td>\n",
       "      <td>20.418950</td>\n",
       "      <td>0.832313</td>\n",
       "      <td>3.861197</td>\n",
       "      <td>3.156128</td>\n",
       "    </tr>\n",
       "    <tr>\n",
       "      <th>Excess_Ret</th>\n",
       "      <td>0.012069</td>\n",
       "      <td>0.110521</td>\n",
       "      <td>0.000145</td>\n",
       "      <td>5.713858</td>\n",
       "      <td>0.250244</td>\n",
       "    </tr>\n",
       "  </tbody>\n",
       "</table>\n",
       "</div>"
      ],
      "text/plain": [
       "                 $b$        $t$     $R^2$     $E(R)$  $\\sigma(E_t(R_{t+1}))$\n",
       "Stocks_Ret  0.006372   0.058385  0.000041  11.615114                0.130148\n",
       "T-bill_Ret  0.919027  20.418950  0.832313   3.861197                3.156128\n",
       "Excess_Ret  0.012069   0.110521  0.000145   5.713858                0.250244"
      ]
     },
     "execution_count": 24,
     "metadata": {},
     "output_type": "execute_result"
    }
   ],
   "source": [
    "ts_regr = [sm.ols('R_t1 ~ R_t', data = {'R_t1' : prices_df[i][1:].values, \n",
    "                  'R_t'  : prices_df[i][:-1].values}).fit() \n",
    "           for i in ['Stocks_Ret', 'T-bill_Ret', 'Excess_Ret']]\n",
    "          \n",
    "\n",
    "res = pd.DataFrame([(ts_regr[i].params.R_t, ts_regr[i].tvalues.R_t, \n",
    "                              ts_regr[i].rsquared, prices_df[[i]][1:].values.mean() * 100, \n",
    "                              ts_regr[i].fittedvalues.std() * 100) for i in range(3)], \n",
    "                   index = ['Stocks_Ret', 'T-bill_Ret', 'Excess_Ret'], \n",
    "                   columns=['$b$', '$t$', '$R^2$', '$E(R)$', '$\\sigma(E_t(R_{t+1}))$'])\n",
    "\n",
    "print('{:.4f} {:.4f} {:.4f} {:.4f} {:.4f} {:.4f} {:.4f} {:.4f} {:.4f} \\\n",
    "{:.4f} {:.4f} {:.4f} {:.4f} {:.4f} {:.4f}'.format(*[item for sublist in res.values \n",
    "                                                    for item in sublist]))\n",
    "res "
   ]
  },
  {
   "cell_type": "markdown",
   "metadata": {},
   "source": [
    "####Question 5\n",
    "\n",
    "Now run the forecasting regressions of excess returns at date $t+1$, but this time use the the dividend price ratio at date $t$, i.e.\n",
    "$ R_{t+1}^{\\text{stock}}-R_{t+1}^{\\text{treas.bill}}=a+b\\left(  D/P\\right)\n",
    "_{t}+\\varepsilon_{t+1};\\ t=1,2,\\dots T-1$\n",
    "\n",
    "Express either both returns and DP in percent, or neither, i.e. 0.06 on 0.04 is OK, and 6 on 4 ( 6% on 4%) is OK, but don't mix them-- 0.06 on 4 is not ok.\n",
    "Report the slope coefficient, its $t$ statistic, the regression $R^2$, the mean return $E(R)$, and the standard deviation of expected returns $\\sigma\\{E_t(R_{t+1})\\}=\\sigma\\{a+bR_t\\}$. Enter your answers as numbers separated by spaces, and express everything appropriate in annual percent units.\n"
   ]
  },
  {
   "cell_type": "code",
   "execution_count": 25,
   "metadata": {
    "collapsed": false
   },
   "outputs": [
    {
     "name": "stdout",
     "output_type": "stream",
     "text": [
      "3.6844 2.5394 0.0713 7.6610 5.5415 \n"
     ]
    },
    {
     "data": {
      "text/html": [
       "<table class=\"simpletable\">\n",
       "<caption>OLS Regression Results</caption>\n",
       "<tr>\n",
       "  <th>Dep. Variable:</th>          <td>xR_t1</td>      <th>  R-squared:         </th> <td>   0.071</td>\n",
       "</tr>\n",
       "<tr>\n",
       "  <th>Model:</th>                   <td>OLS</td>       <th>  Adj. R-squared:    </th> <td>   0.060</td>\n",
       "</tr>\n",
       "<tr>\n",
       "  <th>Method:</th>             <td>Least Squares</td>  <th>  F-statistic:       </th> <td>   6.449</td>\n",
       "</tr>\n",
       "<tr>\n",
       "  <th>Date:</th>             <td>Sun, 17 May 2015</td> <th>  Prob (F-statistic):</th>  <td>0.0129</td> \n",
       "</tr>\n",
       "<tr>\n",
       "  <th>Time:</th>                 <td>12:01:46</td>     <th>  Log-Likelihood:    </th> <td>  16.886</td>\n",
       "</tr>\n",
       "<tr>\n",
       "  <th>No. Observations:</th>      <td>    86</td>      <th>  AIC:               </th> <td>  -29.77</td>\n",
       "</tr>\n",
       "<tr>\n",
       "  <th>Df Residuals:</th>          <td>    84</td>      <th>  BIC:               </th> <td>  -24.86</td>\n",
       "</tr>\n",
       "<tr>\n",
       "  <th>Df Model:</th>              <td>     1</td>      <th>                     </th>     <td> </td>   \n",
       "</tr>\n",
       "<tr>\n",
       "  <th>Covariance Type:</th>      <td>nonrobust</td>    <th>                     </th>     <td> </td>   \n",
       "</tr>\n",
       "</table>\n",
       "<table class=\"simpletable\">\n",
       "<tr>\n",
       "      <td></td>         <th>coef</th>     <th>std err</th>      <th>t</th>      <th>P>|t|</th> <th>[95.0% Conf. Int.]</th> \n",
       "</tr>\n",
       "<tr>\n",
       "  <th>Intercept</th> <td>   -0.0668</td> <td>    0.061</td> <td>   -1.104</td> <td> 0.273</td> <td>   -0.187     0.053</td>\n",
       "</tr>\n",
       "<tr>\n",
       "  <th>DP_t</th>      <td>    3.6844</td> <td>    1.451</td> <td>    2.539</td> <td> 0.013</td> <td>    0.799     6.570</td>\n",
       "</tr>\n",
       "</table>\n",
       "<table class=\"simpletable\">\n",
       "<tr>\n",
       "  <th>Omnibus:</th>       <td> 2.424</td> <th>  Durbin-Watson:     </th> <td>   1.924</td>\n",
       "</tr>\n",
       "<tr>\n",
       "  <th>Prob(Omnibus):</th> <td> 0.298</td> <th>  Jarque-Bera (JB):  </th> <td>   2.330</td>\n",
       "</tr>\n",
       "<tr>\n",
       "  <th>Skew:</th>          <td>-0.394</td> <th>  Prob(JB):          </th> <td>   0.312</td>\n",
       "</tr>\n",
       "<tr>\n",
       "  <th>Kurtosis:</th>      <td> 2.831</td> <th>  Cond. No.          </th> <td>    67.0</td>\n",
       "</tr>\n",
       "</table>"
      ],
      "text/plain": [
       "<class 'statsmodels.iolib.summary.Summary'>\n",
       "\"\"\"\n",
       "                            OLS Regression Results                            \n",
       "==============================================================================\n",
       "Dep. Variable:                  xR_t1   R-squared:                       0.071\n",
       "Model:                            OLS   Adj. R-squared:                  0.060\n",
       "Method:                 Least Squares   F-statistic:                     6.449\n",
       "Date:                Sun, 17 May 2015   Prob (F-statistic):             0.0129\n",
       "Time:                        12:01:46   Log-Likelihood:                 16.886\n",
       "No. Observations:                  86   AIC:                            -29.77\n",
       "Df Residuals:                      84   BIC:                            -24.86\n",
       "Df Model:                           1                                         \n",
       "Covariance Type:            nonrobust                                         \n",
       "==============================================================================\n",
       "                 coef    std err          t      P>|t|      [95.0% Conf. Int.]\n",
       "------------------------------------------------------------------------------\n",
       "Intercept     -0.0668      0.061     -1.104      0.273        -0.187     0.053\n",
       "DP_t           3.6844      1.451      2.539      0.013         0.799     6.570\n",
       "==============================================================================\n",
       "Omnibus:                        2.424   Durbin-Watson:                   1.924\n",
       "Prob(Omnibus):                  0.298   Jarque-Bera (JB):                2.330\n",
       "Skew:                          -0.394   Prob(JB):                        0.312\n",
       "Kurtosis:                       2.831   Cond. No.                         67.0\n",
       "==============================================================================\n",
       "\n",
       "Warnings:\n",
       "[1] Standard Errors assume that the covariance matrix of the errors is correctly specified.\n",
       "\"\"\""
      ]
     },
     "execution_count": 25,
     "metadata": {},
     "output_type": "execute_result"
    }
   ],
   "source": [
    "dp_regr = sm.ols('xR_t1 ~ DP_t', data = {'xR_t1' : prices_df['Excess_Ret'][1:].values, \n",
    "                                         'DP_t'  : prices_df['D/P'][:-1].values}).fit() \n",
    "\n",
    "\n",
    "print('{:.4f} {:.4f} {:.4f} {:.4f} {:.4f} '.format(*np.array([dp_regr.params.DP_t, \n",
    "                                                              dp_regr.tvalues.DP_t, \n",
    "                                                              dp_regr.rsquared,\n",
    "                                                              prices_df[['Excess_Ret']][1:].\\\n",
    "                                                              values.mean() * 100,\n",
    "                                                              dp_regr.fittedvalues.std() * \n",
    "                                                              100])))\n",
    "dp_regr.summary()"
   ]
  },
  {
   "cell_type": "markdown",
   "metadata": {},
   "source": [
    "####Question 6\n",
    "\n",
    "Is the slope coefficient in the previous regression \"statistically significant?\" Is the variation in expected returns still small relative to the unconditional average return? (Let's define \"small\" as less than 10%.) \n",
    "\n",
    ">**Answer: Yes, no. A t statistic above 2.0 is the magic number for \"statistical significance.\" \"Economic significance\" is more important, and the variation in expected returns -- huge -- is a better measure of that quantity.** \n",
    "\n",
    "#####Question 7\n",
    "\n",
    "Run regressions of 5 year excess returns on the dividend-price ratio. To do this, first form 5 year compound stock and treasury bill returns,\n",
    "\n",
    "$R_{t,t+5}^{\\text{stock}}=R_{t+1}^{\\text{stock}}\\times R_{t+2}^{\\text{stock}%\n",
    "}\\times R_{t+3}^{\\text{stock}}\\times R_{t+4}^{\\text{stock}}\\times\n",
    "R_{t+5}^{\\text{stock}}%$\n",
    "\n",
    "and the same for bonds (make sure you get the units right---R must be a number like 1.10 for you to be able to compound it, not a number like 0.10 or 10). Then the excess returns is\n",
    "\n",
    "$$R^{Excess}_{t,t+5}=R^{stock}_{t,t+5}−R^{bond}_{t,t+5}$$\n",
    "\n",
    "Then run the regression\n",
    "\n",
    "$$R^{Excess}_{t,t+5}=a+b(D/P)_t+ε_{t+5}$$\n",
    "Use overlapping observations: your first data point is the 1927-1931 return (i.e. $R_{1927}×R_{1928}×R_{1929}×R_{1930}×R_{1931}$) on the 1926 $D/P$; your second data point is the 1928-1932 return on the 1927 $D/P$, and so on.\n",
    "Report the slope coefficient, its $t$ statistic, and the regression $R^2$. Enter your answers as 3 numbers separated by spaces, and express everything appropriate in annual percent units. (Yes, the errors are correlated, so one should not compare this $t$ statistic to 2.0 to judge significance. We'll get there. For now, compute the $t$ statistic and we'll correct it later. )\n"
   ]
  },
  {
   "cell_type": "code",
   "execution_count": 26,
   "metadata": {
    "collapsed": false
   },
   "outputs": [
    {
     "name": "stdout",
     "output_type": "stream",
     "text": [
      "19.0299 4.9935 0.2376\n"
     ]
    },
    {
     "data": {
      "text/html": [
       "<table class=\"simpletable\">\n",
       "<caption>OLS Regression Results</caption>\n",
       "<tr>\n",
       "  <th>Dep. Variable:</th>          <td>xR_5</td>       <th>  R-squared:         </th> <td>   0.238</td>\n",
       "</tr>\n",
       "<tr>\n",
       "  <th>Model:</th>                   <td>OLS</td>       <th>  Adj. R-squared:    </th> <td>   0.228</td>\n",
       "</tr>\n",
       "<tr>\n",
       "  <th>Method:</th>             <td>Least Squares</td>  <th>  F-statistic:       </th> <td>   24.94</td>\n",
       "</tr>\n",
       "<tr>\n",
       "  <th>Date:</th>             <td>Sun, 17 May 2015</td> <th>  Prob (F-statistic):</th> <td>3.41e-06</td>\n",
       "</tr>\n",
       "<tr>\n",
       "  <th>Time:</th>                 <td>12:01:47</td>     <th>  Log-Likelihood:    </th> <td> -60.629</td>\n",
       "</tr>\n",
       "<tr>\n",
       "  <th>No. Observations:</th>      <td>    82</td>      <th>  AIC:               </th> <td>   125.3</td>\n",
       "</tr>\n",
       "<tr>\n",
       "  <th>Df Residuals:</th>          <td>    80</td>      <th>  BIC:               </th> <td>   130.1</td>\n",
       "</tr>\n",
       "<tr>\n",
       "  <th>Df Model:</th>              <td>     1</td>      <th>                     </th>     <td> </td>   \n",
       "</tr>\n",
       "<tr>\n",
       "  <th>Covariance Type:</th>      <td>nonrobust</td>    <th>                     </th>     <td> </td>   \n",
       "</tr>\n",
       "</table>\n",
       "<table class=\"simpletable\">\n",
       "<tr>\n",
       "      <td></td>         <th>coef</th>     <th>std err</th>      <th>t</th>      <th>P>|t|</th> <th>[95.0% Conf. Int.]</th> \n",
       "</tr>\n",
       "<tr>\n",
       "  <th>Intercept</th> <td>   -0.3064</td> <td>    0.162</td> <td>   -1.896</td> <td> 0.062</td> <td>   -0.628     0.015</td>\n",
       "</tr>\n",
       "<tr>\n",
       "  <th>DP_t</th>      <td>   19.0299</td> <td>    3.811</td> <td>    4.994</td> <td> 0.000</td> <td>   11.446    26.614</td>\n",
       "</tr>\n",
       "</table>\n",
       "<table class=\"simpletable\">\n",
       "<tr>\n",
       "  <th>Omnibus:</th>       <td> 5.770</td> <th>  Durbin-Watson:     </th> <td>   0.672</td>\n",
       "</tr>\n",
       "<tr>\n",
       "  <th>Prob(Omnibus):</th> <td> 0.056</td> <th>  Jarque-Bera (JB):  </th> <td>   7.827</td>\n",
       "</tr>\n",
       "<tr>\n",
       "  <th>Skew:</th>          <td> 0.205</td> <th>  Prob(JB):          </th> <td>  0.0200</td>\n",
       "</tr>\n",
       "<tr>\n",
       "  <th>Kurtosis:</th>      <td> 4.457</td> <th>  Cond. No.          </th> <td>    67.4</td>\n",
       "</tr>\n",
       "</table>"
      ],
      "text/plain": [
       "<class 'statsmodels.iolib.summary.Summary'>\n",
       "\"\"\"\n",
       "                            OLS Regression Results                            \n",
       "==============================================================================\n",
       "Dep. Variable:                   xR_5   R-squared:                       0.238\n",
       "Model:                            OLS   Adj. R-squared:                  0.228\n",
       "Method:                 Least Squares   F-statistic:                     24.94\n",
       "Date:                Sun, 17 May 2015   Prob (F-statistic):           3.41e-06\n",
       "Time:                        12:01:47   Log-Likelihood:                -60.629\n",
       "No. Observations:                  82   AIC:                             125.3\n",
       "Df Residuals:                      80   BIC:                             130.1\n",
       "Df Model:                           1                                         \n",
       "Covariance Type:            nonrobust                                         \n",
       "==============================================================================\n",
       "                 coef    std err          t      P>|t|      [95.0% Conf. Int.]\n",
       "------------------------------------------------------------------------------\n",
       "Intercept     -0.3064      0.162     -1.896      0.062        -0.628     0.015\n",
       "DP_t          19.0299      3.811      4.994      0.000        11.446    26.614\n",
       "==============================================================================\n",
       "Omnibus:                        5.770   Durbin-Watson:                   0.672\n",
       "Prob(Omnibus):                  0.056   Jarque-Bera (JB):                7.827\n",
       "Skew:                           0.205   Prob(JB):                       0.0200\n",
       "Kurtosis:                       4.457   Cond. No.                         67.4\n",
       "==============================================================================\n",
       "\n",
       "Warnings:\n",
       "[1] Standard Errors assume that the covariance matrix of the errors is correctly specified.\n",
       "\"\"\""
      ]
     },
     "execution_count": 26,
     "metadata": {},
     "output_type": "execute_result"
    }
   ],
   "source": [
    "prices_df[['SR_5', 'BR_5']] = pd.rolling_apply(prices_df[['Stocks_Ret', 'T-bill_Ret']], 5, \n",
    "                                               lambda x: np.prod(1 + x) - 1)\n",
    "prices_df['xR_5'] = prices_df['SR_5'] - prices_df['BR_5']\n",
    "\n",
    "xR_5_regr = sm.ols('xR_5 ~ DP_t', data = {'xR_5': prices_df['xR_5'][5:].values,\n",
    "                                         'DP_t': prices_df['D/P'][:-5].values}).fit()\n",
    "\n",
    "print('{:.4f} {:.4f} {:.4f}'.format(*np.array([xR_5_regr.params.DP_t, \n",
    "                                               xR_5_regr.tvalues.DP_t, xR_5_regr.rsquared])))\n",
    "xR_5_regr.summary()"
   ]
  },
  {
   "cell_type": "markdown",
   "metadata": {},
   "source": [
    "####Question 8\n",
    "\n",
    "Running regressions on overlapping data like this is a bit weird. Which of the following common assumptions about regressions does the 5-year regression\n",
    "$R^e_{t,t+5}=a+b(D/P)^t+ε_{t+5}$\n",
    "satisfy? (Check each one that does apply, leave blank the ones that are false in this case)\n",
    "\n",
    ">**Answer: The errors are uncorrelated with the right hand variables. This is not a structural relationship, we're just estimating a forecast. And forecast errors are uncorrelated with forecasting variables, by definition, or you could improve on the forecast. \n",
    "The errors are not neceassarily normal, not homoskedastic.\n",
    "The errors are definitely not uncorrelated with each other! Since $\\epsilon_t$ and $\\epsilon_{t+1}$ share four returns, even under the null that returns are not forecastable by anything, these errors will be correlated with each other.\n",
    "If anything, \"cause\" is that expected return varies, and \"effect\" is that prices change. If risk premiums go up, prices decline, and then on average returns are higher after the fact. This last question is subtle, so don't worry if you don't get it yet.**\n",
    "\n",
    "####Question 9\n",
    "As you found in the last question, not all the standard assumptions apply to this regression because of the overlapping returns. Now, what problems do these assumption failures cause (e.g. inconsistent estimator, incorrect standard errors, etc.)? (Again, check the correct statements and leave the incorrect statements blank) \n",
    "\n",
    ">**Answer: The crucial OLS assumptions are 1) errors are uncorrelated with the right hand variable and 2) errors are uncorrelated over time. 1) is needed to make the coefficient consistent (unbiased with fixed x). 2) is needed for the standard error formulas. We effectively have 1/5 as many data points. (If the return from 1-5 got lucky, the return from 2-6 mechanically shares some of that luck.)\n",
    "If 2) is violated the estimate is not biased or inconsistent, but it is \"inefficient,\" and textbooks tell you to run GLS. In finance we often use OLS anyway, as GLS is not very robust.\n",
    "However, we fix the standard errors. This is about the most pervasive econometric issue in asset pricing -- we run OLS regressions, but the error terms are correlated over time or across assets. Therefore, we develop techniques to correct the standard errors of OLS regressions. If you've heard about \"Hansen-Hodrick\", \"Newey-West\" \"Fama-MacBeth\" or \"clustering\", they are all approaches to this problem\n",
    "Formally, in a regression $y_t=a+bx_t+ε_t$, the OLS assumptions are $cov(x_t,\\epsilon_t)=0$, and $cov(\\epsilon_t\\epsilon_{t−j})=0$. Our regression is $R^{Excess}_{t,t+5}=a+b(D/P)_t+ε_{t+5}$. It's still true that $cov(D/P_t,\\epsilon_{t+5})=0$. It's still a forecast error so should be unpredictable. It is not true that $cov(\\epsilon_{t+5},\\epsilon_{t+6})=0$ however, because they have 4 observations in common.\n",
    "Lack of normality can make the finite-sample standard errors and test statistics wrong, though asymptotically OLS is still ok. **\n",
    "\n",
    "####Question 10\n",
    "An easy way to solve the problem of errors correlated over time due to overlap is to use non-overlapping observations. Your first data point is the 1927-1931 return on the 1926 D/P; your second data point is the 1932-1936 return on the 1931 D/P, etc. Now the regression conforms to the important OLS assumptions. Run this regression and report the slope coefficient, its t statistic, and the regression $R^2$. Enter your answers as numbers separated by spaces, and express everything appropriate in annual percent units. You're entering three numbers. Much of the point is to see what changes vs. what doesn't really change much relative to the regression with overlapping data on the left hand side.\n"
   ]
  },
  {
   "cell_type": "code",
   "execution_count": 27,
   "metadata": {
    "collapsed": false
   },
   "outputs": [
    {
     "name": "stdout",
     "output_type": "stream",
     "text": [
      "21.6134 2.5170 0.2969\n"
     ]
    },
    {
     "name": "stderr",
     "output_type": "stream",
     "text": [
      "/usr/local/lib/python3.4/dist-packages/scipy/stats/stats.py:1233: UserWarning: kurtosistest only valid for n>=20 ... continuing anyway, n=17\n",
      "  int(n))\n"
     ]
    },
    {
     "data": {
      "text/html": [
       "<table class=\"simpletable\">\n",
       "<caption>OLS Regression Results</caption>\n",
       "<tr>\n",
       "  <th>Dep. Variable:</th>          <td>xR_5</td>       <th>  R-squared:         </th> <td>   0.297</td>\n",
       "</tr>\n",
       "<tr>\n",
       "  <th>Model:</th>                   <td>OLS</td>       <th>  Adj. R-squared:    </th> <td>   0.250</td>\n",
       "</tr>\n",
       "<tr>\n",
       "  <th>Method:</th>             <td>Least Squares</td>  <th>  F-statistic:       </th> <td>   6.335</td>\n",
       "</tr>\n",
       "<tr>\n",
       "  <th>Date:</th>             <td>Sun, 17 May 2015</td> <th>  Prob (F-statistic):</th>  <td>0.0237</td> \n",
       "</tr>\n",
       "<tr>\n",
       "  <th>Time:</th>                 <td>12:01:47</td>     <th>  Log-Likelihood:    </th> <td> -12.802</td>\n",
       "</tr>\n",
       "<tr>\n",
       "  <th>No. Observations:</th>      <td>    17</td>      <th>  AIC:               </th> <td>   29.60</td>\n",
       "</tr>\n",
       "<tr>\n",
       "  <th>Df Residuals:</th>          <td>    15</td>      <th>  BIC:               </th> <td>   31.27</td>\n",
       "</tr>\n",
       "<tr>\n",
       "  <th>Df Model:</th>              <td>     1</td>      <th>                     </th>     <td> </td>   \n",
       "</tr>\n",
       "<tr>\n",
       "  <th>Covariance Type:</th>      <td>nonrobust</td>    <th>                     </th>     <td> </td>   \n",
       "</tr>\n",
       "</table>\n",
       "<table class=\"simpletable\">\n",
       "<tr>\n",
       "      <td></td>         <th>coef</th>     <th>std err</th>      <th>t</th>      <th>P>|t|</th> <th>[95.0% Conf. Int.]</th> \n",
       "</tr>\n",
       "<tr>\n",
       "  <th>Intercept</th> <td>   -0.3882</td> <td>    0.364</td> <td>   -1.065</td> <td> 0.304</td> <td>   -1.165     0.389</td>\n",
       "</tr>\n",
       "<tr>\n",
       "  <th>DP_t</th>      <td>   21.6134</td> <td>    8.587</td> <td>    2.517</td> <td> 0.024</td> <td>    3.311    39.916</td>\n",
       "</tr>\n",
       "</table>\n",
       "<table class=\"simpletable\">\n",
       "<tr>\n",
       "  <th>Omnibus:</th>       <td> 4.262</td> <th>  Durbin-Watson:     </th> <td>   2.195</td>\n",
       "</tr>\n",
       "<tr>\n",
       "  <th>Prob(Omnibus):</th> <td> 0.119</td> <th>  Jarque-Bera (JB):  </th> <td>   2.213</td>\n",
       "</tr>\n",
       "<tr>\n",
       "  <th>Skew:</th>          <td>-0.845</td> <th>  Prob(JB):          </th> <td>   0.331</td>\n",
       "</tr>\n",
       "<tr>\n",
       "  <th>Kurtosis:</th>      <td> 3.516</td> <th>  Cond. No.          </th> <td>    64.8</td>\n",
       "</tr>\n",
       "</table>"
      ],
      "text/plain": [
       "<class 'statsmodels.iolib.summary.Summary'>\n",
       "\"\"\"\n",
       "                            OLS Regression Results                            \n",
       "==============================================================================\n",
       "Dep. Variable:                   xR_5   R-squared:                       0.297\n",
       "Model:                            OLS   Adj. R-squared:                  0.250\n",
       "Method:                 Least Squares   F-statistic:                     6.335\n",
       "Date:                Sun, 17 May 2015   Prob (F-statistic):             0.0237\n",
       "Time:                        12:01:47   Log-Likelihood:                -12.802\n",
       "No. Observations:                  17   AIC:                             29.60\n",
       "Df Residuals:                      15   BIC:                             31.27\n",
       "Df Model:                           1                                         \n",
       "Covariance Type:            nonrobust                                         \n",
       "==============================================================================\n",
       "                 coef    std err          t      P>|t|      [95.0% Conf. Int.]\n",
       "------------------------------------------------------------------------------\n",
       "Intercept     -0.3882      0.364     -1.065      0.304        -1.165     0.389\n",
       "DP_t          21.6134      8.587      2.517      0.024         3.311    39.916\n",
       "==============================================================================\n",
       "Omnibus:                        4.262   Durbin-Watson:                   2.195\n",
       "Prob(Omnibus):                  0.119   Jarque-Bera (JB):                2.213\n",
       "Skew:                          -0.845   Prob(JB):                        0.331\n",
       "Kurtosis:                       3.516   Cond. No.                         64.8\n",
       "==============================================================================\n",
       "\n",
       "Warnings:\n",
       "[1] Standard Errors assume that the covariance matrix of the errors is correctly specified.\n",
       "\"\"\""
      ]
     },
     "execution_count": 27,
     "metadata": {},
     "output_type": "execute_result"
    }
   ],
   "source": [
    "# To select non overlapping windows it's as simple as slicing the array as we want\n",
    "# in this case, we only have to jump every 5 observations to select the right values\n",
    "\n",
    "xR_no5_regr = sm.ols('xR_5 ~ DP_t', data = {'xR_5': prices_df['xR_5'][5::5].values,\n",
    "                                            'DP_t': prices_df['D/P'][:-5:5].values}).fit()\n",
    "\n",
    "print('{:.4f} {:.4f} {:.4f}'.format(*np.array([xR_no5_regr.params.DP_t, \n",
    "                                               xR_no5_regr.tvalues.DP_t,\n",
    "                                               xR_no5_regr.rsquared])))\n",
    "xR_no5_regr.summary()"
   ]
  },
  {
   "cell_type": "markdown",
   "metadata": {},
   "source": [
    "#####Question 11\n",
    "Comparing the 5 year return regression with overlapping data and the 5 year return regression without overlapping data, which items were really affected by using non-overlapping data? (You're looking for things that changed by 5 or $\\sqrt{5}$. Most of the numbers will change slightly by the different sample length. (check all correct statements, leave incorrect statements unchecked)\n",
    "\n",
    ">**Answer: As you see the coefficient and $R^2$ are not much changed, showing you that those measures are in fact OK with overlapping data. The standard errors are cut though, and now are just about exactly what they are in one year regressions. The GMM chapter of \"Asset Pricing\" introduces more elegant ways to correct OLS standard errors for serial correlation of the errors.\n",
    "In sum, the long run regressions show the rise of coefficient and $R^2$ with horizon, which is one way to see the economic importance of the phenomenon. Longer horizons do not change the statistical significance of return predictability much at all.**\n",
    "\n",
    "####Question 12\n",
    "Make a plot of the actual 5-year return and the prediction, i.e. the fitted value of the regression from part a. Align the data so that the prediction and return are at the same time, e.g. plot the 1926-1931 return at 1931, and plot $a+b(D/P)_{1926}$ also at 1931. This lets you see each year's prediction for subsequent 5 year returns, along with how that prediction turned out.\n",
    "\n",
    "Based on your plot, check the correct statements and leave the wrong ones blank.\n",
    "\n",
    ">**Answers: The d/p forecast varies over time less than the returns it is trying to forecast**.\n",
    "\n",
    ">**The dividend yield forecast foresees 5-10 year swings in returns early in the sample, but seems to slow down and capture 10+ year long swings in returns later in the sample**\n",
    "\n",
    "You can see that one-year observations of 5 year returns are serially correlated -- they are a 5 year moving average. You can see that the forecasts ahead of time do a pretty good job -- this is what an 0.3 $R^2$ looks like. It's not perfect. In particular, in the late 90s, prices were high signaling low returns, but prices kept getting higher. These are long-run forecasts, of general tendencies, not year-to-year predictions!"
   ]
  },
  {
   "cell_type": "code",
   "execution_count": 28,
   "metadata": {
    "collapsed": false
   },
   "outputs": [
    {
     "data": {
      "image/png": "[encoded data removed]",
      "text/plain": [
       "<matplotlib.figure.Figure at 0x7f872b6f2470>"
      ]
     },
     "metadata": {},
     "output_type": "display_data"
    }
   ],
   "source": [
    "prices_df['xR_5'][5:].plot(title = '5 Year Actual and Predicted Returns')\n",
    "plt.plot(prices_df['xR_5'].index[5:], xR_5_regr.fittedvalues)\n",
    "plt.legend(['Actual 5 Year Returns', 'Predicted Returns'], loc='best');"
   ]
  },
  {
   "cell_type": "markdown",
   "metadata": {},
   "source": [
    "Closing comment: This business of running regressions on signals to check those signal's forecast power is one of the most important tools in finance. Most quantitative hedge funds are basically founded on combing through a big set of $X$ variables, running regressions\n",
    "$$R^e_{t+1}=a+b^\\prime X_t+\\epsilon_{t+1},$$\n",
    "\n",
    "trying to overcome fishing biases, and then invest more in high expected-return strategies. This sort of regression produces $E_t(R^e_{t+1})$ and the formula we will derive later $w=\\Sigma^{−1}E_t(R^e_{t+1})$ gives the portfolio. Well, it's not quite that simple, but that's the idea, which makes slogging through this question worthwhile.\n",
    "\n",
    "The fact, which you just discovered, that expected returns vary a lot over time; that the premium for holding risk varies a lot over time, and is high when prices are low and in bad economic times, is one of the central facts of finance around which we orient our theories. "
   ]
  }
 ],
 "metadata": {
  "kernelspec": {
   "display_name": "IPython (Python 3)",
   "language": "python",
   "name": "python3"
  },
  "language_info": {
   "codemirror_mode": {
    "name": "ipython",
    "version": 3
   },
   "file_extension": ".py",
   "mimetype": "text/x-python",
   "name": "python",
   "nbconvert_exporter": "python",
   "pygments_lexer": "ipython3",
   "version": "3.4.3"
  }
 },
 "nbformat": 4,
 "nbformat_minor": 0
}
