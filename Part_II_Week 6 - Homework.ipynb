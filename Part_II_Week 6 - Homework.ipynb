{
 "cells": [
  {
   "cell_type": "markdown",
   "metadata": {},
   "source": [
    "#Homework 1: Fama-Bliss\n",
    "\n",
    "####Question 1\n",
    "Obtain the Fama-Bliss bond price data. Use the data starting in 1964 (observation 140), as Fama and Bliss do, but extending until now. We're going to replicate and extend the Fama-Bliss regressions shown in lecture. You will not get exactly the same numbers as were presented in lecture, because I have updated the data. The numbers shown in lecture will be close enough to be a guide, but not close enough to answer this quiz correctly! The data are price per \\$100 face value, our definitions have been per $1 face value, so adjust appropriately. \n",
    "\n",
    "Start by forming log prices, log yields, and log forward rates. Report the average log yield on maturities 1,2,3,4,5, in percent (3, not 0.03), separated by a space, with two decimals. Besides checking that you're on the right track, this answers the question, does the yield curve on average slope up or slope down? "
   ]
  },
  {
   "cell_type": "code",
   "execution_count": 1,
   "metadata": {
    "collapsed": false
   },
   "outputs": [],
   "source": [
    "%matplotlib inline\n",
    "import numpy as np\n",
    "import pandas as pd\n",
    "import matplotlib.pyplot as plt\n",
    "import seaborn as sns\n",
    "import statsmodels.formula.api as sm"
   ]
  },
  {
   "cell_type": "code",
   "execution_count": 40,
   "metadata": {
    "collapsed": false
   },
   "outputs": [
    {
     "name": "stdout",
     "output_type": "stream",
     "text": [
      "5.6314 5.8416 6.0224 6.1775 6.2854\n"
     ]
    }
   ],
   "source": [
    "# Get data from file\n",
    "bond_prices = pd.read_csv('https://d396qusza40orc.cloudfront.net/assetpricing%2Fdata%2FFama_\\\n",
    "                          Bliss_price.txt', sep ='\\s+', skiprows = 2, \n",
    "                          names = ['price{:}'.format(i) for i in range(1,6)], \n",
    "                          index_col = 0, parse_dates = True) \n",
    "\n",
    "# Start from the right date and scale prices down by 100\n",
    "fb_data = bond_prices.ix['1964-01-01':] / 100.\n",
    "# Calculate log prices and log yields\n",
    "fb_data = fb_data.join(-fb_data.apply(np.log) / np.arange(1,6), rsuffix ='_log_yield')\n",
    "\n",
    "# Report average log yield by maturities\n",
    "print('{:.4f} {:.4f} {:.4f} {:.4f} {:.4f}'.format(*fb_data[[col for col in fb_data.columns \n",
    "                                        if col.endswith('_log_yield') ]].mean(axis = 0) * 100))"
   ]
  },
  {
   "cell_type": "markdown",
   "metadata": {},
   "source": [
    "####Question 2\n",
    "\n",
    "Next, form annual log returns and excess log returns (excess over the one year rate),\n",
    "\n",
    "$$r^{(n)}_{t+1}=p^{(n−1)}_{t+1}−p^{(n)}_t$$\n",
    "\n",
    "$$rx^{(n)}_{t+1}=r^{(n)}_{t+1}−y^{(1)}_t$$\n",
    "\n",
    "The most common source of trouble is not implementing the definitions of forward rate and return correctly. The first log return on a two year bond is the Jan 1965 log price of a one year bond minus the Jan 1964 price of a two year bond. The second log return on a two year bond is the Feb 1965 log price of a one year bond minus the Feb 1964 log price of a two year bond.\n",
    "\n",
    "Calculate the mean and standard deviation of these annual log excess returns. Report the Sharpe ratio (of log returns),\n",
    "\n",
    "$$E(rx^{(n)}_{t+1})/\\sigma(rx^{(n)}_{t+1})$$\n"
   ]
  },
  {
   "cell_type": "code",
   "execution_count": 53,
   "metadata": {
    "collapsed": false
   },
   "outputs": [
    {
     "name": "stdout",
     "output_type": "stream",
     "text": [
      "0.2803 0.2760 0.2695 0.2411\n"
     ]
    }
   ],
   "source": [
    "# Generate returns by applying the formula above\n",
    "rets = pd.DataFrame(fb_data.ix[12:, :4].apply(np.log).values - \\\n",
    "                    fb_data.ix[:-12, 1:5].apply(np.log).values,\n",
    "                    index = fb_data.index[12:], \n",
    "                    columns = ['return_{:}'.format(i) for i in range(1,5)])\n",
    "\n",
    "# Compute excess returns by subtracting 1 year returns \n",
    "x_rets = rets.subtract(-fb_data.price1[:-12].apply(np.log).values, axis = 0)\n",
    "\n",
    "# Report Sharpe Ratios\n",
    "print('{:.4f} {:.4f} {:.4f} {:.4f}'.format(*x_rets.mean(axis = 0) / x_rets.std(axis = 0)))"
   ]
  },
  {
   "cell_type": "markdown",
   "metadata": {},
   "source": [
    "####Question 3\n",
    "Now, we're ready to have fun! Run the Fama-Bliss regression of excess returns on forward-spot spreads.\n",
    "\n",
    "$$rx^{(n)}_{t+1}=a_n+b_n(f^{(n)}_t−y^{(1)}_t)+\\epsilon^{(n)}_{t+1}$$\n",
    "\n",
    "This regression uses overlapping monthly observations of annual returns. So, for example, your first data point is the return from January 1964 to January 1965 on the January 1964 spread. Your second data point is the return from February 1964 to Feburary 1965 on the February 1964 spread. And so on.\n",
    "\n",
    "Yes, this is ok -- regressions need the error term to be uncorrelated with the right hand variable, and overlapping data doesn't affect that. Overlapping data does mean the errors are correlated over time, so your standard errors are garbage. In a deeper look at this problem I would have you compute standard errors from non-overlapping data, and apply the GMM/Hansen Hodrick and Newey-West corrections for serially correlated errors. Not today.\n",
    "\n",
    "Today, compute $a_n$, $b_n$, and $R^2$ and verify that you're getting numbers close to those presented in lecture. Report the $b_n$ coefficients. You are reporting four numbers, for maturity n=2,3,4,5, separated by a space to two decimal places. Item for review -- what did the simple expectations hypothesis say these $b$ coefficients should be?\n"
   ]
  },
  {
   "cell_type": "code",
   "execution_count": 54,
   "metadata": {
    "collapsed": false,
    "scrolled": false
   },
   "outputs": [
    {
     "name": "stdout",
     "output_type": "stream",
     "text": [
      "0.8355 1.1464 1.3939 1.1403\n"
     ]
    },
    {
     "data": {
      "text/plain": [
       "[<class 'statsmodels.iolib.summary.Summary'>\n",
       " \"\"\"\n",
       "                             OLS Regression Results                            \n",
       " ==============================================================================\n",
       " Dep. Variable:                     rx   R-squared:                       0.117\n",
       " Model:                            OLS   Adj. R-squared:                  0.115\n",
       " Method:                 Least Squares   F-statistic:                     76.57\n",
       " Date:                Tue, 05 May 2015   Prob (F-statistic):           2.31e-17\n",
       " Time:                        15:11:48   Log-Likelihood:                 1552.0\n",
       " No. Observations:                 582   AIC:                            -3100.\n",
       " Df Residuals:                     580   BIC:                            -3091.\n",
       " Df Model:                           1                                         \n",
       " Covariance Type:            nonrobust                                         \n",
       " ==============================================================================\n",
       "                  coef    std err          t      P>|t|      [95.0% Conf. Int.]\n",
       " ------------------------------------------------------------------------------\n",
       " Intercept      0.0015      0.001      1.815      0.070        -0.000     0.003\n",
       " fwd_spread     0.8355      0.095      8.751      0.000         0.648     1.023\n",
       " ==============================================================================\n",
       " Omnibus:                       10.176   Durbin-Watson:                   0.179\n",
       " Prob(Omnibus):                  0.006   Jarque-Bera (JB):               16.970\n",
       " Skew:                           0.029   Prob(JB):                     0.000207\n",
       " Kurtosis:                       3.834   Cond. No.                         137.\n",
       " ==============================================================================\n",
       " \n",
       " Warnings:\n",
       " [1] Standard Errors assume that the covariance matrix of the errors is correctly specified.\n",
       " \"\"\", <class 'statsmodels.iolib.summary.Summary'>\n",
       " \"\"\"\n",
       "                             OLS Regression Results                            \n",
       " ==============================================================================\n",
       " Dep. Variable:                     rx   R-squared:                       0.136\n",
       " Model:                            OLS   Adj. R-squared:                  0.135\n",
       " Method:                 Least Squares   F-statistic:                     91.56\n",
       " Date:                Tue, 05 May 2015   Prob (F-statistic):           3.07e-20\n",
       " Time:                        15:11:48   Log-Likelihood:                 1204.7\n",
       " No. Observations:                 582   AIC:                            -2405.\n",
       " Df Residuals:                     580   BIC:                            -2397.\n",
       " Df Model:                           1                                         \n",
       " Covariance Type:            nonrobust                                         \n",
       " ==============================================================================\n",
       "                  coef    std err          t      P>|t|      [95.0% Conf. Int.]\n",
       " ------------------------------------------------------------------------------\n",
       " Intercept      0.0004      0.002      0.247      0.805        -0.003     0.003\n",
       " fwd_spread     1.1464      0.120      9.569      0.000         0.911     1.382\n",
       " ==============================================================================\n",
       " Omnibus:                        9.569   Durbin-Watson:                   0.175\n",
       " Prob(Omnibus):                  0.008   Jarque-Bera (JB):               15.197\n",
       " Skew:                           0.060   Prob(JB):                     0.000501\n",
       " Kurtosis:                       3.783   Cond. No.                         94.5\n",
       " ==============================================================================\n",
       " \n",
       " Warnings:\n",
       " [1] Standard Errors assume that the covariance matrix of the errors is correctly specified.\n",
       " \"\"\", <class 'statsmodels.iolib.summary.Summary'>\n",
       " \"\"\"\n",
       "                             OLS Regression Results                            \n",
       " ==============================================================================\n",
       " Dep. Variable:                     rx   R-squared:                       0.158\n",
       " Model:                            OLS   Adj. R-squared:                  0.157\n",
       " Method:                 Least Squares   F-statistic:                     109.2\n",
       " Date:                Tue, 05 May 2015   Prob (F-statistic):           1.55e-23\n",
       " Time:                        15:11:48   Log-Likelihood:                 1019.6\n",
       " No. Observations:                 582   AIC:                            -2035.\n",
       " Df Residuals:                     580   BIC:                            -2027.\n",
       " Df Model:                           1                                         \n",
       " Covariance Type:            nonrobust                                         \n",
       " ==============================================================================\n",
       "                  coef    std err          t      P>|t|      [95.0% Conf. Int.]\n",
       " ------------------------------------------------------------------------------\n",
       " Intercept     -0.0018      0.002     -0.801      0.423        -0.006     0.003\n",
       " fwd_spread     1.3939      0.133     10.450      0.000         1.132     1.656\n",
       " ==============================================================================\n",
       " Omnibus:                        9.971   Durbin-Watson:                   0.184\n",
       " Prob(Omnibus):                  0.007   Jarque-Bera (JB):               16.130\n",
       " Skew:                           0.059   Prob(JB):                     0.000314\n",
       " Kurtosis:                       3.807   Cond. No.                         76.6\n",
       " ==============================================================================\n",
       " \n",
       " Warnings:\n",
       " [1] Standard Errors assume that the covariance matrix of the errors is correctly specified.\n",
       " \"\"\", <class 'statsmodels.iolib.summary.Summary'>\n",
       " \"\"\"\n",
       "                             OLS Regression Results                            \n",
       " ==============================================================================\n",
       " Dep. Variable:                     rx   R-squared:                       0.089\n",
       " Model:                            OLS   Adj. R-squared:                  0.087\n",
       " Method:                 Least Squares   F-statistic:                     56.41\n",
       " Date:                Tue, 05 May 2015   Prob (F-statistic):           2.24e-13\n",
       " Time:                        15:11:48   Log-Likelihood:                 874.12\n",
       " No. Observations:                 582   AIC:                            -1744.\n",
       " Df Residuals:                     580   BIC:                            -1736.\n",
       " Df Model:                           1                                         \n",
       " Covariance Type:            nonrobust                                         \n",
       " ==============================================================================\n",
       "                  coef    std err          t      P>|t|      [95.0% Conf. Int.]\n",
       " ------------------------------------------------------------------------------\n",
       " Intercept      0.0013      0.003      0.477      0.634        -0.004     0.007\n",
       " fwd_spread     1.1403      0.152      7.510      0.000         0.842     1.439\n",
       " ==============================================================================\n",
       " Omnibus:                       11.982   Durbin-Watson:                   0.184\n",
       " Prob(Omnibus):                  0.003   Jarque-Bera (JB):               21.088\n",
       " Skew:                           0.058   Prob(JB):                     2.63e-05\n",
       " Kurtosis:                       3.925   Cond. No.                         67.9\n",
       " ==============================================================================\n",
       " \n",
       " Warnings:\n",
       " [1] Standard Errors assume that the covariance matrix of the errors is correctly specified.\n",
       " \"\"\"]"
      ]
     },
     "execution_count": 54,
     "metadata": {},
     "output_type": "execute_result"
    }
   ],
   "source": [
    "# Calculate forward rates and spreads\n",
    "fwd_rates = fb_data.ix[:, :4].apply(np.log) - fb_data.ix[:, 1:5].apply(np.log).values\n",
    "fwd_rates.columns = ['fwd_{:}'.format(i) for i in range(1,5)]\n",
    "fwd_spread = fwd_rates.subtract(-fb_data.price1.apply(np.log).values, axis = 0)\n",
    "\n",
    "# Run Regressions\n",
    "fb_reg_xs_ret = [sm.ols('rx ~ fwd_spread', data = {'rx' : x_rets.ix[:, i].values, \n",
    "                 'fwd_spread' : fwd_spread.ix[:-12, i].values}).fit() for i in range(4)]\n",
    "\n",
    "# Get b values\n",
    "print('{:.4f} {:.4f} {:.4f} {:.4f}'.format(*[fb_reg_xs_ret[i].params.fwd_spread for \n",
    "                                             i in range(4)]))\n",
    "\n",
    "[fb_reg_xs_ret[i].summary() for i in range(4)]"
   ]
  },
  {
   "cell_type": "markdown",
   "metadata": {},
   "source": [
    "####Question 4\n",
    "\n",
    "Next, the right hand panel. Run the regression of n-year changes in the one-year rate on the forward-spot spread.\n",
    "\n",
    "$$y^{(1)}_{t+n−1}−y^{(1)}_t=a_n+b_n(f^{(n)}_t−y^{(1)}_t)+\\epsilon_{t+n}$$\n",
    "\n",
    "Calculate $a_n$, $b_n$,and $R^2$. Report your four $b_n$ values, separated by a space, to two decimal places. Each regression should contain the maximum number of data points for that maturity, so your sample will change across regressions. Item for review: What did the simple expectations hypothesis say these numbers should be?\n"
   ]
  },
  {
   "cell_type": "code",
   "execution_count": 55,
   "metadata": {
    "collapsed": false
   },
   "outputs": [
    {
     "name": "stdout",
     "output_type": "stream",
     "text": [
      "0.1645 0.5035 0.7674 0.8950\n"
     ]
    },
    {
     "data": {
      "text/plain": [
       "[<class 'statsmodels.iolib.summary.Summary'>\n",
       " \"\"\"\n",
       "                             OLS Regression Results                            \n",
       " ==============================================================================\n",
       " Dep. Variable:            rate_change   R-squared:                       0.005\n",
       " Model:                            OLS   Adj. R-squared:                  0.003\n",
       " Method:                 Least Squares   F-statistic:                     2.969\n",
       " Date:                Tue, 05 May 2015   Prob (F-statistic):             0.0854\n",
       " Time:                        15:11:54   Log-Likelihood:                 1552.0\n",
       " No. Observations:                 582   AIC:                            -3100.\n",
       " Df Residuals:                     580   BIC:                            -3091.\n",
       " Df Model:                           1                                         \n",
       " Covariance Type:            nonrobust                                         \n",
       " ==============================================================================\n",
       "                  coef    std err          t      P>|t|      [95.0% Conf. Int.]\n",
       " ------------------------------------------------------------------------------\n",
       " Intercept     -0.0015      0.001     -1.815      0.070        -0.003     0.000\n",
       " fwd_spread     0.1645      0.095      1.723      0.085        -0.023     0.352\n",
       " ==============================================================================\n",
       " Omnibus:                       10.176   Durbin-Watson:                   0.179\n",
       " Prob(Omnibus):                  0.006   Jarque-Bera (JB):               16.970\n",
       " Skew:                          -0.029   Prob(JB):                     0.000207\n",
       " Kurtosis:                       3.834   Cond. No.                         137.\n",
       " ==============================================================================\n",
       " \n",
       " Warnings:\n",
       " [1] Standard Errors assume that the covariance matrix of the errors is correctly specified.\n",
       " \"\"\", <class 'statsmodels.iolib.summary.Summary'>\n",
       " \"\"\"\n",
       "                             OLS Regression Results                            \n",
       " ==============================================================================\n",
       " Dep. Variable:            rate_change   R-squared:                       0.047\n",
       " Model:                            OLS   Adj. R-squared:                  0.046\n",
       " Method:                 Least Squares   F-statistic:                     28.25\n",
       " Date:                Tue, 05 May 2015   Prob (F-statistic):           1.54e-07\n",
       " Time:                        15:11:54   Log-Likelihood:                 1314.0\n",
       " No. Observations:                 570   AIC:                            -2624.\n",
       " Df Residuals:                     568   BIC:                            -2615.\n",
       " Df Model:                           1                                         \n",
       " Covariance Type:            nonrobust                                         \n",
       " ==============================================================================\n",
       "                  coef    std err          t      P>|t|      [95.0% Conf. Int.]\n",
       " ------------------------------------------------------------------------------\n",
       " Intercept     -0.0055      0.001     -4.404      0.000        -0.008    -0.003\n",
       " fwd_spread     0.5035      0.095      5.315      0.000         0.317     0.690\n",
       " ==============================================================================\n",
       " Omnibus:                        4.130   Durbin-Watson:                   0.076\n",
       " Prob(Omnibus):                  0.127   Jarque-Bera (JB):                4.216\n",
       " Skew:                           0.201   Prob(JB):                        0.121\n",
       " Kurtosis:                       2.873   Cond. No.                         93.6\n",
       " ==============================================================================\n",
       " \n",
       " Warnings:\n",
       " [1] Standard Errors assume that the covariance matrix of the errors is correctly specified.\n",
       " \"\"\", <class 'statsmodels.iolib.summary.Summary'>\n",
       " \"\"\"\n",
       "                             OLS Regression Results                            \n",
       " ==============================================================================\n",
       " Dep. Variable:            rate_change   R-squared:                       0.122\n",
       " Model:                            OLS   Adj. R-squared:                  0.121\n",
       " Method:                 Least Squares   F-statistic:                     77.48\n",
       " Date:                Tue, 05 May 2015   Prob (F-statistic):           1.69e-17\n",
       " Time:                        15:11:54   Log-Likelihood:                 1222.1\n",
       " No. Observations:                 558   AIC:                            -2440.\n",
       " Df Residuals:                     556   BIC:                            -2432.\n",
       " Df Model:                           1                                         \n",
       " Covariance Type:            nonrobust                                         \n",
       " ==============================================================================\n",
       "                  coef    std err          t      P>|t|      [95.0% Conf. Int.]\n",
       " ------------------------------------------------------------------------------\n",
       " Intercept     -0.0103      0.001     -7.176      0.000        -0.013    -0.007\n",
       " fwd_spread     0.7674      0.087      8.802      0.000         0.596     0.939\n",
       " ==============================================================================\n",
       " Omnibus:                       22.636   Durbin-Watson:                   0.071\n",
       " Prob(Omnibus):                  0.000   Jarque-Bera (JB):               24.275\n",
       " Skew:                           0.498   Prob(JB):                     5.35e-06\n",
       " Kurtosis:                       3.225   Cond. No.                         75.9\n",
       " ==============================================================================\n",
       " \n",
       " Warnings:\n",
       " [1] Standard Errors assume that the covariance matrix of the errors is correctly specified.\n",
       " \"\"\", <class 'statsmodels.iolib.summary.Summary'>\n",
       " \"\"\"\n",
       "                             OLS Regression Results                            \n",
       " ==============================================================================\n",
       " Dep. Variable:            rate_change   R-squared:                       0.164\n",
       " Model:                            OLS   Adj. R-squared:                  0.163\n",
       " Method:                 Least Squares   F-statistic:                     106.8\n",
       " Date:                Tue, 05 May 2015   Prob (F-statistic):           5.60e-23\n",
       " Time:                        15:11:54   Log-Likelihood:                 1164.6\n",
       " No. Observations:                 546   AIC:                            -2325.\n",
       " Df Residuals:                     544   BIC:                            -2317.\n",
       " Df Model:                           1                                         \n",
       " Covariance Type:            nonrobust                                         \n",
       " ==============================================================================\n",
       "                  coef    std err          t      P>|t|      [95.0% Conf. Int.]\n",
       " ------------------------------------------------------------------------------\n",
       " Intercept     -0.0124      0.001     -8.348      0.000        -0.015    -0.009\n",
       " fwd_spread     0.8950      0.087     10.334      0.000         0.725     1.065\n",
       " ==============================================================================\n",
       " Omnibus:                       33.424   Durbin-Watson:                   0.064\n",
       " Prob(Omnibus):                  0.000   Jarque-Bera (JB):               38.587\n",
       " Skew:                           0.590   Prob(JB):                     4.18e-09\n",
       " Kurtosis:                       3.551   Cond. No.                         70.5\n",
       " ==============================================================================\n",
       " \n",
       " Warnings:\n",
       " [1] Standard Errors assume that the covariance matrix of the errors is correctly specified.\n",
       " \"\"\"]"
      ]
     },
     "execution_count": 55,
     "metadata": {},
     "output_type": "execute_result"
    }
   ],
   "source": [
    "# Generate returns by applying the formula above\n",
    "fb_reg_yield_change = [sm.ols('rate_change ~ fwd_spread', data = {'rate_change' :\n",
    "                       fb_data.ix[:-12*i, 0].apply(np.log).values - \\\n",
    "                       fb_data.ix[12*i:, 0].apply(np.log).values, 'fwd_spread' : \n",
    "                       fwd_spread.ix[:-12*i, i-1].values}).fit() for i in range (1,5)]\n",
    "\n",
    "# Get b values\n",
    "print('{:.4f} {:.4f} {:.4f} {:.4f}'.format(*[fb_reg_yield_change[i].params.fwd_spread for \n",
    "                                             i in range(4)]))\n",
    "\n",
    "[fb_reg_yield_change[i].summary() for i in range(4)]"
   ]
  },
  {
   "cell_type": "markdown",
   "metadata": {},
   "source": [
    "####Question 5\n",
    "The regression coefficients $b_2$ add up to one. As I explained with a little picture in lecture, they add up by construction. As you raise the dot in the middle, representing the price of one-year bonds one year in the future, you raise the return of two year bonds at time 0, and you lower the one year rate at time 1. Those two components add up ex post, so they also add up ex ante. In equations, we start by breaking the return from t to t+n\n",
    "\n",
    "$0-p^{(2)}_t = [0-p^{(1)}_{t+1}] + [p^{(1)}_{t+1}-p^{(2)}_t ] \\ \\leftarrow$ this expresses how the price rise happens in period 1 and period 2\n",
    "\n",
    "$-p^{(2)}_t = y^{(1)}_{t+1} + r^{(2)}_{t+1}$\n",
    "\n",
    "$f^{(2)}_t=p^{(1)}_t-p^{(2)}_t = -y^{(1)}_t + r^{(2)}_{t+1}+y^{(1)}_{t+1}$\n",
    "\n",
    "$f^{(2)}_t-y^{(1)}_t = [r^{(2)}_{t+1}-y^{(1)}_t]+[y^{(1)}_{t+1}-y^{(1)}_t]$\n",
    "\n",
    "$f^{(2)}_t-y^{(1)}_t = rx^{(2)}+[y^{(1)}_{t+1}-y^{(1)}_t]$\n",
    "\n",
    "Mechanically, the forward-spot spread, which is on the right hand side of the regressions, is always equal, ex-post, to the sum of excess returns on two period bonds in the first period, and the change in one year yield. Now, regress both sides of this equation on $f^{(2)}_t−y^{(1)}_t$. The left hand side is one. The right hand side is the sum of the return forecast and yield change forecast coefficients.\n",
    "\n",
    "So far, so good. But the other rows do not add up to one. Why not? Aha! They aren't exactly matched in this way. To each one-year return forecast that comes out to about one there is a yield change forecast that comes out to about zero, and to each yield change forecast you did there is a corresponding return forecast. Now, what are they?\n",
    "\n",
    "I suggest that you approach this question by making a little drawing as I did in class, with price on the vertical axis and time on the horizontal axis. Draw in the paths that 2,3,4,5 year bonds follow. Draw the returns being forecast in your first regression, and the yield being forecast in your second regression. That should make it obvious what the corresponding \"complementary\" (sum to one) coefficient is. Then, work through algebra like the above. Start by breaking up the total return from $t$ to $t+n$, $0−p^{(n)}_t$ into the first year and the rest, and then the final year and the rest. Best of all, try running your \"complementary\" regressions and checking that in fact the coefficients do add up to one.\n",
    "\n",
    "This is not a technical detail. This is incredibly important. In all return forecasting regressions there is a complementary regression and an adding up constraint. Long-run dividend growth and long-run stock return forecasts add up to one. The fact that returns are predictable equals the fact that dividend growth is not predictable. Exchange rate change and excess return forecasts add up to one, the fact that returns are predictable equals the fact that exchange rates are not predictable.\n",
    "\n",
    "So, finally, the question. Corresponding to the return forecasts\n",
    "\n",
    "$rx^{(n)}_{t+1}=a^r_n+b^r_n\\left(f^{(n)}_t-y^{(1)}_t\\right)+\\varepsilon^{(n)}_{t+1}$\n",
    "\n",
    "what is the yield change forecast whose bn adds up to one? For each n, what are w, x, and z in\n",
    "\n",
    "$w(y^{(x)}_{t+z}-y^{(x)}_t)=a^y_n+b^y_n\\left(f^{(n)}_t-y^{(1)}_t\\right)+\\varepsilon_{t+n}$\n",
    "\n",
    "such that $b^r_n+b^y_n=1$? Enter, in this order, the w, x and z for n=4 and then w, x and z for n=5 (six numbers, all together), separated by a space, to two decimal places.\n",
    "\n",
    "The point: if $b_r=1$, then $b_y=0$. If the $n$ - year forward rate rises one percentage point, this means the expected excess returns on $n$ year bonds, for the next year, rise one percentage point. By complementary regression, this means that the yield on $x$ year bonds is not expected to change over the next $z$ years, which the expectations hypothesis predicted.\n"
   ]
  },
  {
   "cell_type": "code",
   "execution_count": 6,
   "metadata": {
    "collapsed": false
   },
   "outputs": [
    {
     "name": "stdout",
     "output_type": "stream",
     "text": [
      "3 3 1 4 4 1\n"
     ]
    }
   ],
   "source": [
    "# I believe the answer is that\n",
    "# z = 1, x = n-1, w = x\n",
    "\n",
    "z = 1\n",
    "x = [i - 1 for i in range(4,6)]\n",
    "w = x\n",
    "\n",
    "print('{:} {:} {:} {:} {:} {:}'.format(w[0], x[0], z, w[1], x[1], z))"
   ]
  },
  {
   "cell_type": "markdown",
   "metadata": {},
   "source": [
    "#####Question 6\n",
    "\n",
    "Similarly, corresponding to the yield-change forecasts\n",
    "\n",
    "$y^{(1)}_{t+n-1}-y^{(1)}_t=a^y_n+b^y_n\\left(f^{(n)}_t-y^{(1)}_t\\right)+\\varepsilon^{(n)}_{t+n-1}$\n",
    "\n",
    "What is the excess return forecast whose $b_r$ satisfies $b_r+b_y=1$?\n",
    "\n",
    "The answer is, the return on a x year bond held from time $t$ to time $t+z$, less the return on a w year bond held from time $t$ to time $t+v$. Enter x, z, w, v for n=4 and then for n=5. That's eight numbers, separated by a space. (Hint: some of the numbers repeat.)"
   ]
  },
  {
   "cell_type": "code",
   "execution_count": 7,
   "metadata": {
    "collapsed": false
   },
   "outputs": [
    {
     "name": "stdout",
     "output_type": "stream",
     "text": [
      "4 3 3 3 5 4 4 4\n"
     ]
    }
   ],
   "source": [
    "# I think we have x=n, z=n-1, w=n-1, v=n-1\n",
    "\n",
    "x = [i for i in range (4,6)]\n",
    "v= w = z = [i-1 for i in range (4,6)]\n",
    "print('{:} {:} {:} {:} {:} {:} {:} {:}'.format(x[0], z[0], w[0], v[0], x[1], z[1], w[1], v[1]))"
   ]
  },
  {
   "cell_type": "markdown",
   "metadata": {},
   "source": [
    "####Question 7\n",
    "\n",
    "A few quizzes ago, I asked you to fill in a plot of where the expectations hypothesis says bond prices are expected to go. \n",
    "\n",
    "Now, specializing the Fama-Bliss regression coefficients to a=0 and b=0 or b=1 as appropriate, find the expected price of the one, two, and three year bonds at time 1. Report three numbers separated by a space. In other words, the expectations hypothesis shows $E_tp^{(1)}_{t+1}=−0.10,E_tp^{(2)}_{t+1}=−0.25, E_tp^{(3)}_{t+1}=−0.40$. What do Fama and Bliss say the actual values of these three numbers are? (Include the negative sign.)\n"
   ]
  },
  {
   "cell_type": "code",
   "execution_count": 8,
   "metadata": {
    "collapsed": false
   },
   "outputs": [
    {
     "name": "stdout",
     "output_type": "stream",
     "text": [
      "-0.0500 -0.1500 -0.3000\n"
     ]
    }
   ],
   "source": [
    "p = pd.Series([-0.05, -0.15, -0.30, -0.45])\n",
    "fwd_rate = p.diff()\n",
    "e_val = p[1:] - fwd_rate[1:]\n",
    "\n",
    "print('{:.4f} {:.4f} {:.4f}'.format(*e_val))"
   ]
  },
  {
   "cell_type": "markdown",
   "metadata": {},
   "source": [
    "# A single factor for expected bond returns\n",
    "\n",
    "$$ rx^{(n)}_{t+1} = b_n (\\gamma_0 + \\gamma_1 y^{(1)}_t + \\gamma_ 2 f^{(1\\rightarrow2)}_t + \\dots + \\gamma_5) + f^{(4\\rightarrow5)}_t+ \\epsilon^{(n)}_{t+1}$$\n",
    "\n",
    "One common combination of forward rates $\\gamma' f$ , then stretch up and down more with $b_n$.\n",
    "\n",
    "Two step estimation; first $\\gamma$ then $b$.\n",
    "\n",
    "$\\overline{rx}_{t+1} = \\gamma_0 + \\gamma_1 y^{(1)}_t + \\gamma_ 2 f^{(1\\rightarrow2)}_t + \\dots + \\gamma_5 f^{(4\\rightarrow5)}_t+ \\epsilon^{t+1} = \\gamma'f + \\epsilon_{t+1}$\n",
    "\n",
    "Then\n",
    "\n",
    "$rx^{(n)}_{t+1} = b_n(\\gamma^T f_t) + ε^{(n)}_{t+1}$"
   ]
  },
  {
   "cell_type": "code",
   "execution_count": 56,
   "metadata": {
    "collapsed": false
   },
   "outputs": [
    {
     "data": {
      "text/plain": [
       "[<class 'statsmodels.iolib.summary.Summary'>\n",
       " \"\"\"\n",
       "                             OLS Regression Results                            \n",
       " ==============================================================================\n",
       " Dep. Variable:                     rx   R-squared:                       0.211\n",
       " Model:                            OLS   Adj. R-squared:                  0.204\n",
       " Method:                 Least Squares   F-statistic:                     30.86\n",
       " Date:                Tue, 05 May 2015   Prob (F-statistic):           7.50e-28\n",
       " Time:                        15:12:03   Log-Likelihood:                 1585.0\n",
       " No. Observations:                 582   AIC:                            -3158.\n",
       " Df Residuals:                     576   BIC:                            -3132.\n",
       " Df Model:                           5                                         \n",
       " Covariance Type:            nonrobust                                         \n",
       " ==============================================================================\n",
       "                  coef    std err          t      P>|t|      [95.0% Conf. Int.]\n",
       " ------------------------------------------------------------------------------\n",
       " Intercept     -0.0090      0.002     -3.829      0.000        -0.014    -0.004\n",
       " fwds[0]       -0.6269      0.118     -5.322      0.000        -0.858    -0.396\n",
       " fwds[1]        0.0048      0.240      0.020      0.984        -0.466     0.475\n",
       " fwds[2]        0.7414      0.202      3.679      0.000         0.346     1.137\n",
       " fwds[3]        0.5002      0.148      3.380      0.001         0.210     0.791\n",
       " fwds[4]       -0.4734      0.114     -4.138      0.000        -0.698    -0.249\n",
       " ==============================================================================\n",
       " Omnibus:                       13.889   Durbin-Watson:                   0.252\n",
       " Prob(Omnibus):                  0.001   Jarque-Bera (JB):               17.930\n",
       " Skew:                          -0.250   Prob(JB):                     0.000128\n",
       " Kurtosis:                       3.699   Cond. No.                         433.\n",
       " ==============================================================================\n",
       " \n",
       " Warnings:\n",
       " [1] Standard Errors assume that the covariance matrix of the errors is correctly specified.\n",
       " \"\"\", <class 'statsmodels.iolib.summary.Summary'>\n",
       " \"\"\"\n",
       "                             OLS Regression Results                            \n",
       " ==============================================================================\n",
       " Dep. Variable:                     rx   R-squared:                       0.220\n",
       " Model:                            OLS   Adj. R-squared:                  0.214\n",
       " Method:                 Least Squares   F-statistic:                     32.56\n",
       " Date:                Tue, 05 May 2015   Prob (F-statistic):           2.85e-29\n",
       " Time:                        15:12:03   Log-Likelihood:                 1234.5\n",
       " No. Observations:                 582   AIC:                            -2457.\n",
       " Df Residuals:                     576   BIC:                            -2431.\n",
       " Df Model:                           5                                         \n",
       " Covariance Type:            nonrobust                                         \n",
       " ==============================================================================\n",
       "                  coef    std err          t      P>|t|      [95.0% Conf. Int.]\n",
       " ------------------------------------------------------------------------------\n",
       " Intercept     -0.0125      0.004     -2.911      0.004        -0.021    -0.004\n",
       " fwds[0]       -1.0977      0.215     -5.102      0.000        -1.520    -0.675\n",
       " fwds[1]       -0.5978      0.438     -1.366      0.172        -1.457     0.262\n",
       " fwds[2]        2.1093      0.368      5.732      0.000         1.387     2.832\n",
       " fwds[3]        0.8218      0.270      3.041      0.002         0.291     1.353\n",
       " fwds[4]       -1.0438      0.209     -4.996      0.000        -1.454    -0.633\n",
       " ==============================================================================\n",
       " Omnibus:                        9.652   Durbin-Watson:                   0.250\n",
       " Prob(Omnibus):                  0.008   Jarque-Bera (JB):               11.590\n",
       " Skew:                          -0.203   Prob(JB):                      0.00304\n",
       " Kurtosis:                       3.560   Cond. No.                         433.\n",
       " ==============================================================================\n",
       " \n",
       " Warnings:\n",
       " [1] Standard Errors assume that the covariance matrix of the errors is correctly specified.\n",
       " \"\"\", <class 'statsmodels.iolib.summary.Summary'>\n",
       " \"\"\"\n",
       "                             OLS Regression Results                            \n",
       " ==============================================================================\n",
       " Dep. Variable:                     rx   R-squared:                       0.248\n",
       " Model:                            OLS   Adj. R-squared:                  0.242\n",
       " Method:                 Least Squares   F-statistic:                     38.08\n",
       " Date:                Tue, 05 May 2015   Prob (F-statistic):           8.87e-34\n",
       " Time:                        15:12:04   Log-Likelihood:                 1052.5\n",
       " No. Observations:                 582   AIC:                            -2093.\n",
       " Df Residuals:                     576   BIC:                            -2067.\n",
       " Df Model:                           5                                         \n",
       " Covariance Type:            nonrobust                                         \n",
       " ==============================================================================\n",
       "                  coef    std err          t      P>|t|      [95.0% Conf. Int.]\n",
       " ------------------------------------------------------------------------------\n",
       " Intercept     -0.0172      0.006     -2.947      0.003        -0.029    -0.006\n",
       " fwds[0]       -1.6027      0.294     -5.450      0.000        -2.180    -1.025\n",
       " fwds[1]       -0.7265      0.598     -1.215      0.225        -1.901     0.448\n",
       " fwds[2]        2.1758      0.503      4.325      0.000         1.188     3.164\n",
       " fwds[3]        1.9388      0.369      5.248      0.000         1.213     2.664\n",
       " fwds[4]       -1.5538      0.286     -5.440      0.000        -2.115    -0.993\n",
       " ==============================================================================\n",
       " Omnibus:                        8.095   Durbin-Watson:                   0.252\n",
       " Prob(Omnibus):                  0.017   Jarque-Bera (JB):                9.292\n",
       " Skew:                          -0.188   Prob(JB):                      0.00960\n",
       " Kurtosis:                       3.491   Cond. No.                         433.\n",
       " ==============================================================================\n",
       " \n",
       " Warnings:\n",
       " [1] Standard Errors assume that the covariance matrix of the errors is correctly specified.\n",
       " \"\"\", <class 'statsmodels.iolib.summary.Summary'>\n",
       " \"\"\"\n",
       "                             OLS Regression Results                            \n",
       " ==============================================================================\n",
       " Dep. Variable:                     rx   R-squared:                       0.228\n",
       " Model:                            OLS   Adj. R-squared:                  0.221\n",
       " Method:                 Least Squares   F-statistic:                     33.98\n",
       " Date:                Tue, 05 May 2015   Prob (F-statistic):           1.91e-30\n",
       " Time:                        15:12:04   Log-Likelihood:                 922.34\n",
       " No. Observations:                 582   AIC:                            -1833.\n",
       " Df Residuals:                     576   BIC:                            -1806.\n",
       " Df Model:                           5                                         \n",
       " Covariance Type:            nonrobust                                         \n",
       " ==============================================================================\n",
       "                  coef    std err          t      P>|t|      [95.0% Conf. Int.]\n",
       " ------------------------------------------------------------------------------\n",
       " Intercept     -0.0229      0.007     -3.127      0.002        -0.037    -0.009\n",
       " fwds[0]       -1.9872      0.368     -5.403      0.000        -2.710    -1.265\n",
       " fwds[1]       -0.7893      0.748     -1.055      0.292        -2.259     0.680\n",
       " fwds[2]        2.2230      0.629      3.533      0.000         0.987     3.459\n",
       " fwds[3]        2.1293      0.462      4.609      0.000         1.222     3.037\n",
       " fwds[4]       -1.3054      0.357     -3.654      0.000        -2.007    -0.604\n",
       " ==============================================================================\n",
       " Omnibus:                        9.906   Durbin-Watson:                   0.282\n",
       " Prob(Omnibus):                  0.007   Jarque-Bera (JB):               12.197\n",
       " Skew:                          -0.198   Prob(JB):                      0.00225\n",
       " Kurtosis:                       3.588   Cond. No.                         433.\n",
       " ==============================================================================\n",
       " \n",
       " Warnings:\n",
       " [1] Standard Errors assume that the covariance matrix of the errors is correctly specified.\n",
       " \"\"\"]"
      ]
     },
     "execution_count": 56,
     "metadata": {},
     "output_type": "execute_result"
    },
    {
     "data": {
      "image/png": "[encoded data removed]",
      "text/plain": [
       "<matplotlib.figure.Figure at 0x7fbed72aa080>"
      ]
     },
     "metadata": {},
     "output_type": "display_data"
    }
   ],
   "source": [
    "fwds = np.c_[-fb_data.price1.apply(np.log), fwd_rates]\n",
    "yield_reg = [sm.ols('rx ~ fwds', data ={'rx' : x_rets[[i]].values, 'fwds' : fwds[:-12, :]}).fit()\n",
    "             for i in range(4)]\n",
    "\n",
    "[yield_reg[i].params[1:].plot() for i in range(4)]\n",
    "[yield_reg[i].summary() for i in range(4)]"
   ]
  },
  {
   "cell_type": "code",
   "execution_count": 57,
   "metadata": {
    "collapsed": false,
    "scrolled": false
   },
   "outputs": [
    {
     "name": "stdout",
     "output_type": "stream",
     "text": [
      "0.4373 0.8389 1.2525 1.4712\n",
      "0.2292\n"
     ]
    },
    {
     "data": {
      "text/plain": [
       "[<class 'statsmodels.iolib.summary.Summary'>\n",
       " \"\"\"\n",
       "                             OLS Regression Results                            \n",
       " ==============================================================================\n",
       " Dep. Variable:                     rx   R-squared:                       0.197\n",
       " Model:                            OLS   Adj. R-squared:                  0.196\n",
       " Method:                 Least Squares   F-statistic:                     142.4\n",
       " Date:                Tue, 05 May 2015   Prob (F-statistic):           1.68e-29\n",
       " Time:                        15:12:20   Log-Likelihood:                 1579.8\n",
       " No. Observations:                 582   AIC:                            -3156.\n",
       " Df Residuals:                     580   BIC:                            -3147.\n",
       " Df Model:                           1                                         \n",
       " Covariance Type:            nonrobust                                         \n",
       " ==============================================================================\n",
       "                  coef    std err          t      P>|t|      [95.0% Conf. Int.]\n",
       " ------------------------------------------------------------------------------\n",
       " Intercept      0.0006      0.001      0.841      0.401        -0.001     0.002\n",
       " gf             0.4373      0.037     11.932      0.000         0.365     0.509\n",
       " ==============================================================================\n",
       " Omnibus:                        8.190   Durbin-Watson:                   0.272\n",
       " Prob(Omnibus):                  0.017   Jarque-Bera (JB):               12.518\n",
       " Skew:                          -0.027   Prob(JB):                      0.00191\n",
       " Kurtosis:                       3.717   Cond. No.                         55.1\n",
       " ==============================================================================\n",
       " \n",
       " Warnings:\n",
       " [1] Standard Errors assume that the covariance matrix of the errors is correctly specified.\n",
       " \"\"\", <class 'statsmodels.iolib.summary.Summary'>\n",
       " \"\"\"\n",
       "                             OLS Regression Results                            \n",
       " ==============================================================================\n",
       " Dep. Variable:                     rx   R-squared:                       0.215\n",
       " Model:                            OLS   Adj. R-squared:                  0.214\n",
       " Method:                 Least Squares   F-statistic:                     158.9\n",
       " Date:                Tue, 05 May 2015   Prob (F-statistic):           2.30e-32\n",
       " Time:                        15:12:20   Log-Likelihood:                 1232.5\n",
       " No. Observations:                 582   AIC:                            -2461.\n",
       " Df Residuals:                     580   BIC:                            -2452.\n",
       " Df Model:                           1                                         \n",
       " Covariance Type:            nonrobust                                         \n",
       " ==============================================================================\n",
       "                  coef    std err          t      P>|t|      [95.0% Conf. Int.]\n",
       " ------------------------------------------------------------------------------\n",
       " Intercept      0.0007      0.001      0.490      0.624        -0.002     0.003\n",
       " gf             0.8389      0.067     12.604      0.000         0.708     0.970\n",
       " ==============================================================================\n",
       " Omnibus:                       10.408   Durbin-Watson:                   0.252\n",
       " Prob(Omnibus):                  0.005   Jarque-Bera (JB):               14.052\n",
       " Skew:                          -0.172   Prob(JB):                     0.000889\n",
       " Kurtosis:                       3.679   Cond. No.                         55.1\n",
       " ==============================================================================\n",
       " \n",
       " Warnings:\n",
       " [1] Standard Errors assume that the covariance matrix of the errors is correctly specified.\n",
       " \"\"\", <class 'statsmodels.iolib.summary.Summary'>\n",
       " \"\"\"\n",
       "                             OLS Regression Results                            \n",
       " ==============================================================================\n",
       " Dep. Variable:                     rx   R-squared:                       0.247\n",
       " Model:                            OLS   Adj. R-squared:                  0.246\n",
       " Method:                 Least Squares   F-statistic:                     190.5\n",
       " Date:                Tue, 05 May 2015   Prob (F-statistic):           1.14e-37\n",
       " Time:                        15:12:20   Log-Likelihood:                 1052.1\n",
       " No. Observations:                 582   AIC:                            -2100.\n",
       " Df Residuals:                     580   BIC:                            -2091.\n",
       " Df Model:                           1                                         \n",
       " Covariance Type:            nonrobust                                         \n",
       " ==============================================================================\n",
       "                  coef    std err          t      P>|t|      [95.0% Conf. Int.]\n",
       " ------------------------------------------------------------------------------\n",
       " Intercept     -0.0002      0.002     -0.108      0.914        -0.004     0.003\n",
       " gf             1.2525      0.091     13.801      0.000         1.074     1.431\n",
       " ==============================================================================\n",
       " Omnibus:                       10.227   Durbin-Watson:                   0.237\n",
       " Prob(Omnibus):                  0.006   Jarque-Bera (JB):               11.726\n",
       " Skew:                          -0.232   Prob(JB):                      0.00284\n",
       " Kurtosis:                       3.519   Cond. No.                         55.1\n",
       " ==============================================================================\n",
       " \n",
       " Warnings:\n",
       " [1] Standard Errors assume that the covariance matrix of the errors is correctly specified.\n",
       " \"\"\", <class 'statsmodels.iolib.summary.Summary'>\n",
       " \"\"\"\n",
       "                             OLS Regression Results                            \n",
       " ==============================================================================\n",
       " Dep. Variable:                     rx   R-squared:                       0.224\n",
       " Model:                            OLS   Adj. R-squared:                  0.223\n",
       " Method:                 Least Squares   F-statistic:                     167.5\n",
       " Date:                Tue, 05 May 2015   Prob (F-statistic):           7.87e-34\n",
       " Time:                        15:12:20   Log-Likelihood:                 920.93\n",
       " No. Observations:                 582   AIC:                            -1838.\n",
       " Df Residuals:                     580   BIC:                            -1829.\n",
       " Df Model:                           1                                         \n",
       " Covariance Type:            nonrobust                                         \n",
       " ==============================================================================\n",
       "                  coef    std err          t      P>|t|      [95.0% Conf. Int.]\n",
       " ------------------------------------------------------------------------------\n",
       " Intercept     -0.0011      0.002     -0.472      0.637        -0.006     0.004\n",
       " gf             1.4712      0.114     12.941      0.000         1.248     1.695\n",
       " ==============================================================================\n",
       " Omnibus:                        9.389   Durbin-Watson:                   0.290\n",
       " Prob(Omnibus):                  0.009   Jarque-Bera (JB):               10.556\n",
       " Skew:                          -0.223   Prob(JB):                      0.00510\n",
       " Kurtosis:                       3.486   Cond. No.                         55.1\n",
       " ==============================================================================\n",
       " \n",
       " Warnings:\n",
       " [1] Standard Errors assume that the covariance matrix of the errors is correctly specified.\n",
       " \"\"\"]"
      ]
     },
     "execution_count": 57,
     "metadata": {},
     "output_type": "execute_result"
    }
   ],
   "source": [
    "gamma_reg = sm.ols('rx ~ fwds', data = {'rx' : x_rets.mean(axis=1), 'fwds' : fwds[:-12]}).fit()\n",
    "            \n",
    "gamma_factor = np.c_[np.ones(fwds.shape[0]), fwds].dot(gamma_reg.params)\n",
    "cp_reg = [sm.ols('rx ~ gf', data = {'rx' : x_rets[[i]], 'gf' : gamma_factor[:-12]}).fit() \n",
    "          for i in range(4)]\n",
    "\n",
    "# Get b values\n",
    "print('{:.4f} {:.4f} {:.4f} {:.4f}'.format(*[cp_reg[i].params.gf for i in range(4)]))\n",
    "\n",
    "# Get R^2\n",
    "print('{:.4f}'.format(gamma_reg.rsquared))\n",
    "[cp_reg[i].summary() for i in range(4)]"
   ]
  },
  {
   "cell_type": "markdown",
   "metadata": {},
   "source": [
    "#Homework 2: Factor Analysis and Expectations Models \n",
    "\n",
    "Let's start with running the SVD factorisation on yield data. Note that is important to remove the mean from original data before running the SVD."
   ]
  },
  {
   "cell_type": "code",
   "execution_count": 60,
   "metadata": {
    "collapsed": false
   },
   "outputs": [
    {
     "name": "stdout",
     "output_type": "stream",
     "text": [
      "1.2774 0.3979 0.1629 0.1313 0.1196\n"
     ]
    },
    {
     "data": {
      "image/png": "[encoded data removed]",
      "text/plain": [
       "<matplotlib.figure.Figure at 0x7fbed59cc898>"
      ]
     },
     "metadata": {},
     "output_type": "display_data"
    }
   ],
   "source": [
    "u, s, v = np.linalg.svd(fb_data[[i for i in fb_data.columns if i.endswith('_log_yield')\n",
    "                                ]].subtract(fb_data[[i for i in fb_data.columns \n",
    "                                if i.endswith('_log_yield')]].mean(axis=0)))\n",
    "factors = pd.DataFrame(-v.T, index=np.arange(1,6), columns=['Factor {:}'.format(i) \n",
    "                                                  for i in np.arange(1,6)])\n",
    "\n",
    "print('{:.4f} {:.4f} {:.4f} {:.4f} {:.4f}'.format(*np.sqrt(s)))\n",
    "factors.plot(title = 'Fama Bliss Yield Data SVD Factorisation');"
   ]
  },
  {
   "cell_type": "markdown",
   "metadata": {},
   "source": [
    "Next we calculate the loadings on those factors and plot the results"
   ]
  },
  {
   "cell_type": "code",
   "execution_count": 68,
   "metadata": {
    "collapsed": false
   },
   "outputs": [
    {
     "data": {
      "image/png": "[encoded data removed]",
      "text/plain": [
       "<matplotlib.figure.Figure at 0x7fbed725a630>"
      ]
     },
     "metadata": {},
     "output_type": "display_data"
    }
   ],
   "source": [
    "factors.multiply(np.sqrt(s)*[-1, 1, 1, 1, 1]).plot(title = 'Fama Bliss Yield Data Loadings');"
   ]
  },
  {
   "cell_type": "markdown",
   "metadata": {},
   "source": [
    "####Question 1\n",
    "\n",
    "In class, I showed you how the factor model formed by eigenvalue decomposition worked when applied to yields. Let's apply the same model to bond excess returns. Form the eigenvalue decomposition of the covariance matrix of the four Fama-Bliss log excess returns $rx^{(n)}_{t+1}=r^{(n)}_{t+1}−y^{(1)}_t$. Use the same sample from 196401, meaning that your first excess return will be dated 196501. Form an eigenvalue decomposition of the covariance matrix of these excess returns, and use it to construct a factor model, i.e.\n",
    "\n",
    "$rx^{(n)}_{t+1}=\\alpha+\\beta_{n,1}f_{1,t+1}+\\beta_{n,2}f_{2,t+1}+\\beta_{n,3}f_{3,t+1}+\\beta_{n,4}f_{4,t+1}$\n",
    "\n",
    "Report the standard deviations (not variance) of the factors, in percent units, organized from largest to smallest. Enter four numbers, separated by a space, accurate to two decimal points. "
   ]
  },
  {
   "cell_type": "code",
   "execution_count": 73,
   "metadata": {
    "collapsed": false
   },
   "outputs": [
    {
     "name": "stdout",
     "output_type": "stream",
     "text": [
      "8.1331 0.7880 0.2900 0.2186\n"
     ]
    }
   ],
   "source": [
    "u,s,v = np.linalg.svd(x_rets.cov())\n",
    "\n",
    "print('{:.4f} {:.4f} {:.4f} {:.4f}'.format(*np.sqrt(s) * 100))"
   ]
  },
  {
   "cell_type": "markdown",
   "metadata": {},
   "source": [
    "####Question 2\n",
    "\n",
    "Now calculate the loadings and weights. In the factor model\n",
    "\n",
    "$rx^{(n)}_{t+1}=\\alpha+\\beta_{n,1}f_{1,t+1}+\\beta_{n,2}f_{2,t+1}+\\beta_{n,3}f_{3,t+1}+\\beta_{n,4}f_{4,t+1}$,\n",
    "\n",
    "\"loadings\" means the $\\beta_{n,1}$ and \"weights\" means the $b_{i,n}$ that are used to construct factors from excess returns\n",
    "\n",
    "$f_{i,t+1} = b_{i,2}rx^{(2)}_{t+1}+b_{i,3}rx^{(3)}_{t+1}+b_{i,4}rx^{(4)}_{t+1}+b_{i,5}rx^{(5)}_{t+1}$\n",
    "\n",
    "Report the loadings on the factor with largest standard deviation, i.e. $\\beta_{2,i} \\, \\beta_{3,i} \\, \\beta_{4,i} \\, \\beta_{5,i}$ for the $i$ with largest standard deviation. You will enter four numbers, separated by a space, accurate to two decimal places. (Eigenvectors are only defined up to sign, so enter four positive numbers not four negative numbers.)\n"
   ]
  },
  {
   "cell_type": "code",
   "execution_count": 74,
   "metadata": {
    "collapsed": false
   },
   "outputs": [
    {
     "name": "stdout",
     "output_type": "stream",
     "text": [
      "0.2113 0.4002 0.5622 0.6922\n"
     ]
    }
   ],
   "source": [
    "print('{:.4f} {:.4f} {:.4f} {:.4f}'.format(*u[:, 0].abs())"
   ]
  },
  {
   "cell_type": "markdown",
   "metadata": {},
   "source": [
    "####Question 3\n",
    "\n",
    "Form a time series of the factors. Run a regression of each excess return on a) the first (largest standard deviation) and b) the first and second factors, including a constant,\n",
    "\n",
    "$rx^{(n)}_{t+1}=a+\\beta_{n,1} f_{1,t+1}+\\varepsilon^{(n)}_{t+1}$\n",
    "\n",
    "$rx^{(n)}_{t+1}=a+\\beta_{n,1} f_{1,t+1}+\\beta_{n,2}f_{2,t+1}+\\varepsilon^{(n)}_{t+1}$ ,\n",
    "\n",
    "There is an important lesson for you to learn in the betas of these regressions -- how are they different from each other? How do they relate to other quantities you have derived in doing this problem?\n",
    "\n",
    "There is also an important lesson in the $R^2$ values. Enter the $R^2$ values from the first regression, for n=2,3,4,5, and then the $R^2$ values from the second regression in the same order, separated by a space to two decimal points. This will be eight numbers to enter.\n"
   ]
  },
  {
   "cell_type": "code",
   "execution_count": 75,
   "metadata": {
    "collapsed": false
   },
   "outputs": [
    {
     "name": "stdout",
     "output_type": "stream",
     "text": [
      "0.9214 0.9798 0.9972 0.9930 0.9884 0.9976 0.9974 0.9995\n",
      "[<class 'statsmodels.iolib.summary.Summary'>\n",
      "\"\"\"\n",
      "                            OLS Regression Results                            \n",
      "==============================================================================\n",
      "Dep. Variable:             excess_ret   R-squared:                       0.988\n",
      "Model:                            OLS   Adj. R-squared:                  0.988\n",
      "Method:                 Least Squares   F-statistic:                 2.469e+04\n",
      "Date:                Tue, 05 May 2015   Prob (F-statistic):               0.00\n",
      "Time:                        16:51:08   Log-Likelihood:                 2813.1\n",
      "No. Observations:                 582   AIC:                            -5620.\n",
      "Df Residuals:                     579   BIC:                            -5607.\n",
      "Df Model:                           2                                         \n",
      "Covariance Type:            nonrobust                                         \n",
      "==============================================================================\n",
      "                 coef    std err          t      P>|t|      [95.0% Conf. Int.]\n",
      "------------------------------------------------------------------------------\n",
      "Intercept     -0.0002   8.37e-05     -2.320      0.021        -0.000 -2.98e-05\n",
      "factors[0]    -0.2113      0.001   -214.557      0.000        -0.213    -0.209\n",
      "factors[1]    -0.5880      0.010    -57.844      0.000        -0.608    -0.568\n",
      "==============================================================================\n",
      "Omnibus:                       43.458   Durbin-Watson:                   1.042\n",
      "Prob(Omnibus):                  0.000   Jarque-Bera (JB):              178.412\n",
      "Skew:                          -0.136   Prob(JB):                     1.81e-39\n",
      "Kurtosis:                       5.699   Cond. No.                         127.\n",
      "==============================================================================\n",
      "\n",
      "Warnings:\n",
      "[1] Standard Errors assume that the covariance matrix of the errors is correctly specified.\n",
      "\"\"\", <class 'statsmodels.iolib.summary.Summary'>\n",
      "\"\"\"\n",
      "                            OLS Regression Results                            \n",
      "==============================================================================\n",
      "Dep. Variable:             excess_ret   R-squared:                       0.998\n",
      "Model:                            OLS   Adj. R-squared:                  0.998\n",
      "Method:                 Least Squares   F-statistic:                 1.222e+05\n",
      "Date:                Tue, 05 May 2015   Prob (F-statistic):               0.00\n",
      "Time:                        16:51:08   Log-Likelihood:                 2921.9\n",
      "No. Observations:                 582   AIC:                            -5838.\n",
      "Df Residuals:                     579   BIC:                            -5825.\n",
      "Df Model:                           2                                         \n",
      "Covariance Type:            nonrobust                                         \n",
      "==============================================================================\n",
      "                 coef    std err          t      P>|t|      [95.0% Conf. Int.]\n",
      "------------------------------------------------------------------------------\n",
      "Intercept  -7.258e-05   6.94e-05     -1.045      0.296        -0.000  6.38e-05\n",
      "factors[0]    -0.4002      0.001   -489.926      0.000        -0.402    -0.399\n",
      "factors[1]    -0.5569      0.008    -66.040      0.000        -0.573    -0.540\n",
      "==============================================================================\n",
      "Omnibus:                       59.857   Durbin-Watson:                   1.432\n",
      "Prob(Omnibus):                  0.000   Jarque-Bera (JB):              307.983\n",
      "Skew:                           0.254   Prob(JB):                     1.33e-67\n",
      "Kurtosis:                       6.527   Cond. No.                         127.\n",
      "==============================================================================\n",
      "\n",
      "Warnings:\n",
      "[1] Standard Errors assume that the covariance matrix of the errors is correctly specified.\n",
      "\"\"\", <class 'statsmodels.iolib.summary.Summary'>\n",
      "\"\"\"\n",
      "                            OLS Regression Results                            \n",
      "==============================================================================\n",
      "Dep. Variable:             excess_ret   R-squared:                       0.997\n",
      "Model:                            OLS   Adj. R-squared:                  0.997\n",
      "Method:                 Least Squares   F-statistic:                 1.130e+05\n",
      "Date:                Tue, 05 May 2015   Prob (F-statistic):               0.00\n",
      "Time:                        16:51:08   Log-Likelihood:                 2706.7\n",
      "No. Observations:                 582   AIC:                            -5407.\n",
      "Df Residuals:                     579   BIC:                            -5394.\n",
      "Df Model:                           2                                         \n",
      "Covariance Type:            nonrobust                                         \n",
      "==============================================================================\n",
      "                 coef    std err          t      P>|t|      [95.0% Conf. Int.]\n",
      "------------------------------------------------------------------------------\n",
      "Intercept      0.0004      0.000      3.752      0.000         0.000     0.001\n",
      "factors[0]    -0.5622      0.001   -475.414      0.000        -0.564    -0.560\n",
      "factors[1]    -0.0952      0.012     -7.803      0.000        -0.119    -0.071\n",
      "==============================================================================\n",
      "Omnibus:                      138.245   Durbin-Watson:                   1.578\n",
      "Prob(Omnibus):                  0.000   Jarque-Bera (JB):             1058.978\n",
      "Skew:                          -0.821   Prob(JB):                    1.11e-230\n",
      "Kurtosis:                       9.401   Cond. No.                         127.\n",
      "==============================================================================\n",
      "\n",
      "Warnings:\n",
      "[1] Standard Errors assume that the covariance matrix of the errors is correctly specified.\n",
      "\"\"\", <class 'statsmodels.iolib.summary.Summary'>\n",
      "\"\"\"\n",
      "                            OLS Regression Results                            \n",
      "==============================================================================\n",
      "Dep. Variable:             excess_ret   R-squared:                       1.000\n",
      "Model:                            OLS   Adj. R-squared:                  1.000\n",
      "Method:                 Least Squares   F-statistic:                 5.913e+05\n",
      "Date:                Tue, 05 May 2015   Prob (F-statistic):               0.00\n",
      "Time:                        16:51:08   Log-Likelihood:                 3065.2\n",
      "No. Observations:                 582   AIC:                            -6124.\n",
      "Df Residuals:                     579   BIC:                            -6111.\n",
      "Df Model:                           2                                         \n",
      "Covariance Type:            nonrobust                                         \n",
      "==============================================================================\n",
      "                 coef    std err          t      P>|t|      [95.0% Conf. Int.]\n",
      "------------------------------------------------------------------------------\n",
      "Intercept     -0.0002   5.43e-05     -3.777      0.000        -0.000 -9.84e-05\n",
      "factors[0]    -0.6922      0.001  -1083.878      0.000        -0.693    -0.691\n",
      "factors[1]     0.5789      0.007     87.816      0.000         0.566     0.592\n",
      "==============================================================================\n",
      "Omnibus:                      111.167   Durbin-Watson:                   1.423\n",
      "Prob(Omnibus):                  0.000   Jarque-Bera (JB):              583.062\n",
      "Skew:                           0.729   Prob(JB):                    2.45e-127\n",
      "Kurtosis:                       7.682   Cond. No.                         127.\n",
      "==============================================================================\n",
      "\n",
      "Warnings:\n",
      "[1] Standard Errors assume that the covariance matrix of the errors is correctly specified.\n",
      "\"\"\"]\n"
     ]
    }
   ],
   "source": [
    "factors = x_rets.dot(u)\n",
    "one_factor_reg = [sm.ols('excess_ret ~ factors', data ={'excess_ret' : x_rets[[i]], \n",
    "                  'factors' : factors[[0]]}).fit() for i in range(4)]\n",
    "\n",
    "\n",
    "two_factor_reg = [sm.ols('excess_ret ~ factors', data ={'excess_ret' : x_rets[[i]], \n",
    "                  'factors' : factors[[0,1]]}).fit() for i in range(4)]\n",
    "\n",
    "\n",
    "print('{:.4f} {:.4f} {:.4f} {:.4f} {:.4f} {:.4f} {:.4f} {:.4f}'.format(\n",
    "        *[item for sublist in [[one_factor_reg[i].rsquared for i in range(4)], \n",
    "        [two_factor_reg[i].rsquared for i in range(4)]] for item in sublist]))\n",
    "\n",
    "print([two_factor_reg[i].summary() for i in range(4)])"
   ]
  },
  {
   "cell_type": "markdown",
   "metadata": {},
   "source": [
    "####Question 4\n",
    "\n",
    "Plot the loadings, as I plotted loadings for yield factors in class. Use your loadings and the previous questions to pick the right qualitative summary of this exercise. To think about: are these factors fundamentally the same or fundamentally different from the factors I showed in class that drive yields? "
   ]
  },
  {
   "cell_type": "code",
   "execution_count": 77,
   "metadata": {
    "collapsed": false
   },
   "outputs": [
    {
     "data": {
      "image/png": "[encoded data removed]",
      "text/plain": [
       "<matplotlib.figure.Figure at 0x7fbed5802e10>"
      ]
     },
     "metadata": {},
     "output_type": "display_data"
    }
   ],
   "source": [
    "plt.plot(range(1,5), -u)\n",
    "plt.legend(['Factor {:}'.format(i) for i in range (1,5)], loc='best');"
   ]
  },
  {
   "cell_type": "markdown",
   "metadata": {},
   "source": [
    ">**Answer: Unlike yields, the first factor loadings rise almost linearly with maturity. The second factor has a curved as well as slope shape. Factors three and four are tiny without economic pattern. The two factors together account for 99% of the variance of returns. **"
   ]
  },
  {
   "cell_type": "markdown",
   "metadata": {},
   "source": [
    "####Question 5\n",
    "\n",
    "In this problem, you'll fit a two factor model. The data clearly want two factors. So, assume that the one-year rate follows\n",
    "\n",
    "$x_t=\\rho x_{t−1}+\\epsilon_{x,t} \\\\ z_t=\\phi z_{t−1}+ε_{z,t} \\\\ y^{(1)}_t=a+x_t+z_t$\n",
    "\n",
    "Use the expectations hypothesis to derive an expression for forward rates $f^{(n)}_t$ in terms of $x_t$, $z_t$ and the parameters $a,\\phi,\\rho$. Hint: $E_t(x_{t+n})=\\rho^nx_t$\n",
    "\n",
    "Your answer should look like $f^{(n)}_t=a+(⋅)x_t+(⋅)z_t$. You have to find the expressions in (⋅) which depend on the parameters of the problem. Thus, you're staring at a two-factor model for forward rates, in which $x_t$ and $z_t$ are the factors. This problem does not require any big algebra.\n",
    "\n",
    "To check your formula, use $a=0.06, \\; \\rho=0.95, \\; \\phi=0.60$ and enter the loadings on the first two forward rates, i.e. the (⋅) in\n",
    "\n",
    "$f^{(2)}_t=a+(⋅)x_t+(⋅)z_t \\\\ f^{(3)}_t=a+(⋅)x_t+(⋅)z_t$\n",
    "\n",
    "Enter four numbers, with spaces in between, accurate to two decimal places."
   ]
  },
  {
   "cell_type": "code",
   "execution_count": 117,
   "metadata": {
    "collapsed": false
   },
   "outputs": [
    {
     "name": "stdout",
     "output_type": "stream",
     "text": [
      "0.9500 0.6000 0.9025 0.3600\n"
     ]
    }
   ],
   "source": [
    "def loadings(n, rho=.95, phi=0.6):\n",
    "    return rho**(n - 1) , phi**(n - 1)\n",
    "\n",
    "print('{:.4f} {:.4f} {:.4f} {:.4f}'.format(*[item for sublist in [loadings(2), loadings(3)]\n",
    "                                             for item in sublist]))"
   ]
  },
  {
   "cell_type": "markdown",
   "metadata": {},
   "source": [
    "####Question 6\n",
    "Find the corresponding two-factor model for yields. The easiest approach is to use*\n",
    "\n",
    "$y_{t}^{(n)}=\\frac{1}{n}\\left( y_{t}^{(1)}+f_{t}^{(2)}+...+f_{t}^{(n)}\\right) .$\n",
    "\n",
    "You can make the answers prettier with\n",
    "\n",
    "$1+c+c^{2}+..+c^{n-1}=\\frac{1-c^{n}}{1-c}$\n",
    "\n",
    "Your answer should look like\n",
    "\n",
    "$y_{t}^{(n)}=a+(\\cdot )x_{t}+(\\cdot )z_{t}$\n",
    "\n",
    "Again, enter the first two non-trivial terms (you know the answer for $y^{(1)}_t$)\n",
    "\n",
    "$y_{t}^{(2)}=a+(\\cdot )x_{t}+(\\cdot )z_{t} \\\\ y_{t}^{(3)}=a+(\\cdot )x_{t}+(\\cdot )z_{t}$\n",
    "\n",
    "You will enter four numbers, separated by a space, accurate to two decimal places.\n",
    "\n",
    "\n",
    "*Where did this come from? It's an identity. More generally, you can always discount the future using today's forward rates:\n",
    "\n",
    "$p_{t}^{(n)} =p^{(1)}-(p_{t}^{(1)}-p_{t}^{(2)})-(p_{t}^{(3)}-p_{t}^{(2)})-...-(p_{t}^{(n-2)}-p_{t}^{(n-1)})-(p_{t}^{(n-1)}-p_{t}^{(n)}) \\\\ p_{t}^{(n)} =-y_{t}^{(1)}-f_{t}^{(2)}-...-f_{t}^{(n-1)}-f_{t}^{(n)} \\\\ y_{t}^{(n)} =-np_{t}^{(n)}=\\frac{1}{n}\\left( y_{t}^{(1)}+f_{t}^{(2)}+...+f_{t}^{(n)}\\right)$\n"
   ]
  },
  {
   "cell_type": "code",
   "execution_count": 121,
   "metadata": {
    "collapsed": false
   },
   "outputs": [
    {
     "name": "stdout",
     "output_type": "stream",
     "text": [
      "0.9750 0.8000 0.9508 0.6533\n"
     ]
    }
   ],
   "source": [
    "def yields(n, rho = 0.95, phi = 0.6):\n",
    "    f = lambda x: (1 - x**n) / (1 - x)\n",
    "    return f(rho) / n, f(phi) / n\n",
    "\n",
    "print('{:.4f} {:.4f} {:.4f} {:.4f}'.format(*[item for sublist in [yields(2), yields(3)]\n",
    "                                             for item in sublist]))"
   ]
  },
  {
   "cell_type": "markdown",
   "metadata": {},
   "source": [
    "#Homework 3: Discrete-Time Vasicek Meets Fama and Bliss \n",
    "\n",
    "####Question 1\n",
    "Let's modify the basic Vasicek term structure model, and see if we can account for Fama-Bliss regressions. The basic model has a constant market price of risk. We need to have a time-varying price of risk. The obvious way to do that is just to make the price of risk depend on the single factor, which is the only thing that's time varying in this model. (More realistically, we add more factors, but not in a homework!)\n",
    "\n",
    "So, let's pursue the obvious extension, in which rather than just $\\lambda$ we have a time-varying $\\lambda_t=\\lambda_1x_t$. The model is now\n",
    "\n",
    "$x_{t+1}=\\phi x_t+\\epsilon_{t+1} \\\\ m_{t+1}=\\log M_{t+1} =-x_{t}-\\frac{1}{2}\\left( \\lambda _{1}x_{t}\\right) ^{2}\\sigma _{\\varepsilon }^{2}-\\left( \\lambda _{1}x_{t}\\right) \\varepsilon _{t+1} \\\\ p^{(n)}_t=\\log E_t \\left( e^{m_{t+1} + p^{(n-1)}_{t+1}} \\right)$\n",
    "\n",
    "(In real life you'd allow a constant too, $\\lambda_t=\\lambda_0+\\lambda_1x_t$, but I'm simplifying the algebra a bit. I also set to zero the constant $\\delta$, which isn't realistic since the mean interest rate is not zero, but that just shifts everything up. )\n",
    "\n",
    "Find expressions for $p^{(1)}_t, p^{(2)}_t$, hence $y^{(1)}_t,f^{(2)}_t$, in this model. They are still linear functions $a_n+b_n×x_t$!\n",
    "\n",
    "Hint: You have to use $Ee^{x}=e^{E(x)+\\frac{1}{2}\\sigma ^{2}(x)}$, exactly as we did in lecture. Follow the steps as in lecture! It's not as hard as it looks.\n",
    "\n",
    "To check your answer, calculate $a_2, b_2$ in\n",
    "\n",
    "$p^{(2)}_t=a_2+b_2×xt$\n",
    "\n",
    "Use $\\sigma^2_\\epsilon=0.1, \\phi=0.9, \\lambda_1=0.5$. (These values are not realistic, but they are relatively easy to calculate and let us check if you got the right answer.) Enter these two numbers, separated by a space, to two decimal places\n"
   ]
  },
  {
   "cell_type": "code",
   "execution_count": 160,
   "metadata": {
    "collapsed": false
   },
   "outputs": [
    {
     "name": "stdout",
     "output_type": "stream",
     "text": [
      "0.0500 -1.8500\n"
     ]
    }
   ],
   "source": [
    "def vasicek(n, sigma=0.1, phi=0.9, lam=0.5):\n",
    "    return 0.5 * sigma, - (1 + phi) + sigma * lam\n",
    "\n",
    "print('{:.4f} {:.4f}'.format(*vasicek(2)))"
   ]
  },
  {
   "cell_type": "markdown",
   "metadata": {},
   "source": [
    "####Question 2\n",
    "\n",
    "Continuing, calculate $c_2, d_2$ in\n",
    "\n",
    "$f^{(2)}_t=c_2+d_2×x_t$\n",
    "\n",
    "using the same parameters. You enter two numbers, separated by a space, to two decimal places.\n"
   ]
  },
  {
   "cell_type": "code",
   "execution_count": 161,
   "metadata": {
    "collapsed": false
   },
   "outputs": [
    {
     "name": "stdout",
     "output_type": "stream",
     "text": [
      "-0.0500 0.8500\n"
     ]
    }
   ],
   "source": [
    "print('{:.4f} {:.4f}'.format(-vasicek(2)[0], - (1 + vasicek(2)[1])))"
   ]
  },
  {
   "cell_type": "markdown",
   "metadata": {},
   "source": [
    "####Question 3\n",
    "\n",
    "Find an expression for $rx^{(2)}_{t+1}=p^{(1)}_{t+1}−p^{(2)}_t+p^{(1)}_t$. This is a function $rx^{(2)}_{t+1}=a+bx_t+c\\epsilon_{t+1}$. Hence, find $E_trx^{(2)}_{t+1}=a+bx_t$. Using the same parameters, enter your values for a and b, which will be two numbers, to two decimal places, separated by a space.\n"
   ]
  },
  {
   "cell_type": "code",
   "execution_count": 166,
   "metadata": {
    "collapsed": false
   },
   "outputs": [
    {
     "name": "stdout",
     "output_type": "stream",
     "text": [
      "-0.0500 -0.0500\n"
     ]
    }
   ],
   "source": [
    "phi = 0.9\n",
    "\n",
    "print('{:.4f} {:.4f}'.format(-vasicek(2)[0],  -(1 + phi + vasicek(2)[1])))"
   ]
  },
  {
   "cell_type": "markdown",
   "metadata": {},
   "source": [
    "####Question 4\n",
    "\n",
    "Find the predicted value of the Fama-Bliss slope coefficients, i.e. find $\\beta$ in\n",
    "\n",
    "$E_trx^{(2)}_{t+1}=\\alpha+\\beta(f^{(2)}_t−y^{(1)}_t).$\n",
    "\n",
    "All you're doing here is substituting out the previous results. You had\n",
    "\n",
    "$E_{t}(rx_{t+1}^{(2)})=a+bx_{t} \\\\ (f_{t}^{(2)}-y_{t}^{(1)})=c+dx_{t}$\n",
    "\n",
    "so you're just getting rid of xt on the right hand side in favor of $f^{(2)}_t−y^{(1)}_t$. Now,\n",
    "\n",
    "$E_{t}rx_{t+1}^{(2)}=\\left( \\text{mess}\\right) +\\frac{b}{d}(f_{t}^{(2)}-y_{t}^{(1)})$\n",
    "\n",
    "So, forget the mess in the constant, we're only interested in the slope coefficient, b/d. Find an algebraic expression for b/d and enter its value using the same parameters, to two decimal places. Since that won't be very close to the actual value, also calculate the coefficient for $\\phi=1$, which is as close as I can get this model to reflect the Fama Bliss regression coefficient. Thus, you are entering two numbers, to two decimal places, separated by a space.\n"
   ]
  },
  {
   "cell_type": "code",
   "execution_count": 173,
   "metadata": {
    "collapsed": false
   },
   "outputs": [
    {
     "name": "stdout",
     "output_type": "stream",
     "text": [
      "0.3333 1.0000\n"
     ]
    }
   ],
   "source": [
    "def fama_bliss_slope(n=2, phi=0.9, sig2=0.1, lam=0.5):\n",
    "    d = - (1 + vasicek(n)[1])\n",
    "    b = - (1 + phi + vasicek(n)[1])\n",
    "    return b / (d - 1)\n",
    "\n",
    "print('{:.4f} {:.4f}'.format(fama_bliss_slope(), fama_bliss_slope(phi=1)))"
   ]
  },
  {
   "cell_type": "markdown",
   "metadata": {
    "collapsed": true
   },
   "source": [
    "#Homework 4: Continuous-Time Term Structure\n",
    "\n",
    "####Question 1\n",
    "We often think of the yield curve as having at least one factor that is a level factor with a parallel shift. In this problem, we will see this is impossible -- all yield curve factors must eventually die out, and the asymptotic long rate must be constant -- if enough securities are traded. The buzzword is \"convexity,\" but we'll see the problem directly.\n",
    "\n",
    "Suppose that yields of all maturities are the same and follow parallel shifts,\n",
    "\n",
    "$dy=\\mu dt+\\sigma dz_{t}$\n",
    "\n",
    "$\\mu$ and $\\sigma$ can vary over time, so they are the instantaneous means $\\mu_t$ and $\\sigma_t$. The price of an $n$-year bond is, of course,\n",
    "\n",
    "$P(n,t)=e^{−ny_t}$\n",
    "\n",
    "The return of an n year bond is\n",
    "\n",
    "$ddR(n,t)=\\frac{dP(n,t)}{P}-\\frac{1}{P}\\frac{\\partial P(n,t)}{\\partial n}dt$\n",
    "\n",
    "You need to be quite careful here, which is a lot of the point of this problem. First, as explained in lecture, we need the second term because $P(n,t)$ is the price of a maturity, not the price of a bond. $n$ is a constant, not a function of time. (If $P$ denoted the price of a given bond, then n would decline as the bond ages.) You should review the derivation of this return to make sure you know where it comes from and won't omit it by mistake. Second, $dP(n,t)$ means $P(n,t+\\Delta)−P(n,t)$. You can't take $\\partial{P}/\\partial{t}$! You can take $\\partial{P(n,t)}/\\partial{n}$. $dP$ does not mean $\\frac{\\partial P}{\\partial t}dt+\\frac{\\partial P}{\\partial n}dn$!\n",
    "\n",
    "(If this is confusing to you, don't worry: Aaron screwed it up, too! It boils down to an issue of notation, nothing more. For the die-hard term-structure nerds out there, he's started a forum thread outlining a different notation than the one used here. Best not to look at it until after you've finished this homework.)\n",
    "\n",
    "OK, now use Ito's lemma to find $dR(n,t)−r^f_tdt$ under the parallel shifts assumption. (Hint: $r^f_t=y_t$.)\n",
    "\n",
    ">**Answer: $dR(n,t)=-ndy_{t}+\\frac{1}{2}n^{2}dy_{t}^{2}+y_{t}dt=-n\\left( \\mu dt+\\sigma dz_{t}\\right) +\\frac{1}{2}n^{2}\\sigma ^{2}dt+y_{t}dt \\\\\n",
    "r^f_t=y_t \\\\\n",
    "dR(n,t)-r_{t}^{f}dt=\\left( \\frac{1}{2}n^{2}\\sigma ^{2}-n\\mu \\right) dt-n\\sigma dz_{t}$**\n",
    "\n",
    "####Question 2\n",
    "\n",
    "Now find the annualized Sharpe ratio of the $n$ - year bond. Reminder, if $dR_t=rf_tdt+\\mu dt+\\sigma dz_t$, then the annualized Sharpe ratio is simply $\\mu/\\sigma$. Again enter your answer as an algebraic expression using \"mu\", \"sigma\", and \"n\". There are no $dt$ or $dz$ terms in this expression. Enter the actual Sharpe ratio, not its absolute value. Positive $\\mu$ means yields drift up means prices drift down, so one of your terms will be negative. Include that negative term as a negative.\n",
    "\n",
    ">**Answer: $\\frac{\\frac{1}{2}n^{2}\\sigma ^{2}-n\\mu }{n\\sigma }=-\\frac{\\mu }{\\sigma }+\\frac{1}{2}n\\sigma$**\n",
    "\n",
    "\n",
    "####Question 3\n",
    "\n",
    "What is the limit of the Sharpe ratio of an n-year bond, when the yield curve has parallel shifts, as $n \\rightarrow \\infty$?\n",
    "\n",
    ">**Answer: $\\infty $**\n",
    "\n",
    "####Question 4\n",
    "We reviewed the discrete-time Vasicek model by doing the same model with a time-varying market price of risk. Let's do the same thing for the continuous time model. Modify the model to\n",
    "\n",
    "$dr_{t} =-\\phi r_{t}dt+\\sigma _{r}dz_{t}$\n",
    "\n",
    "$\\frac{d \\Lambda _{t}}{\\Lambda } =-r_{t}dt-\\sigma _{\\Lambda} {r}_{t}dz_{t}$\n",
    "\n",
    "As in discrete time, I simplified by leaving out a positive mean of the short rate, $\\bar{r}$, and by leaving out a constant in the market price of risk, which could be $\\lambda_0+\\lambda_1r_t$. The only addition is, where we had \\sigma_Lambda$, now we have $\\sigma\\Lambda r_t$.\n",
    "\n",
    "Retrace the steps of the single-factor model we derived in lecture with this modification. You do not have to compute the $A(n)$. Do get to the new differential equation for the $B(n)$ and solve it. Use the notation $\\phi^* \\equiv \\phi +\\sigma _{r}\\sigma _{\\Lambda }$ to simplify your answer. Report your formula for B(n) as a \"math expression\". \n",
    "\n",
    "Hint: In the end you can interpret $\\Phi^*$ as the risk-neutral dynamics. This model ends up with a cross section that is priced as if $\\Phi$ is replaced with this distorted probability $\\Phi^*$, just as the regular model had a distorted mean. It's really pretty when you're done."
   ]
  },
  {
   "cell_type": "markdown",
   "metadata": {
    "collapsed": true
   },
   "source": [
    "####**Answer**\n",
    "\n",
    "$dr_{t} =-\\phi r_{t}dt+\\sigma _{r}dz_{t}$\n",
    "\n",
    "$\\frac{d \\Lambda _{t}}{\\Lambda } =-r_{t}dt-\\sigma _{\\Lambda} \\mathbf{r}_tdz_t$\n",
    "\n",
    "I made $r$ bold where it changes -- the rest of the formula is unchanged. We now have a time-varying market price of risk. As in discrete time, I simplified by leaving out a positive mean of the short rate, $\\bar{r}$, and by leaving out a constant in the market price of risk, which could be $\\lambda_0+\\lambda_1r_t$.\n",
    "\n",
    "Plugging in to the pricing equation, we now just have $\\sigma\\Lambda r$ where we had $\\sigma\\Lambda$, or\n",
    "\n",
    "$\\frac{\\partial P}{\\partial r}\\mu _{r}+\\frac{1}{2}\\sigma _{r}^{2}\\frac{\\partial ^{2}P}{\\partial r^{2}}-\\frac{\\partial P}{\\partial n}-rP=\\sigma _{r}\\sigma _{\\Lambda } {\\bf r}\\frac{\\partial P}{\\partial r}$\n",
    "\n",
    "$\\frac{\\partial P(n,r)}{\\partial n}=\\left( \\mu _{r}-\\sigma _{r}\\sigma _{\\Lambda }\\bf{r}\\right) \\frac{\\partial P(n,r)}{\\partial r}+\\frac{1}{2}\\frac{\\partial ^{2}P(n,r)}{\\partial r^{2}}\\sigma _{r}^{2}-rP(n,r)$\n",
    "\n",
    "and plug in -- nothing has changed except we got rid of $\\bar{r}$ and we added the boldface r.\n",
    "\n",
    "$\\frac{\\partial P}{\\partial n}=\\left( -\\phi r-\\sigma _{r}\\sigma _{\\Lambda }\\bf{r}\\right) \\frac{\\partial P}{\\partial r}+\\frac{1}{2}\\frac{\\partial ^{2}P}{\\partial r^{2}}\\sigma _{r}^{2}-rP$\n",
    "\n",
    "Again, we guess\n",
    "\n",
    "$P(n,r)=e^{A(n)−B(n)r}$\n",
    "\n",
    "$\\frac{\\partial P}{\\partial r} =-B(n)P$\n",
    "\n",
    "$\\frac{\\partial ^{2}P}{\\partial r^{2}} =B(n)^{2}P$\n",
    "\n",
    "$\\frac{\\partial P}{\\partial n} =\\left[ A^{\\prime }(n)-B^{\\prime }(n)r\\right] P$\n",
    "\n",
    "Our case is therefore\n",
    "\n",
    "$A^{\\prime }(n)-B^{\\prime }(n)r=-\\left[ -\\phi r-\\sigma _{r}\\sigma _{\\Lambda }\\bf{r}\\right] B(n)+\\frac{1}{2}\\sigma _{r}^{2}B(n)^{2}-r$\n",
    "\n",
    "True for every r, so constant and terms in r must equal. No more boldface. This just puts the $\\sigma\\Lambda$ in with the $r$ term and the $B$ rather than the constant term and the $A$\n",
    "\n",
    "$A^{\\prime }(n)=\\frac{1}{2}\\sigma _{r}^{2}B(n)^{2}$\n",
    "\n",
    "$B^{\\prime }(n)=1-\\left( \\phi +\\sigma _{r}\\sigma _{\\Lambda }\\right) B(n)=1-\\phi ^{\\ast }B(n)$\n",
    "\n",
    "$B(n)=\\frac{1}{\\phi ^{\\ast }}(1-e^{-\\phi ^{\\ast }n})$\n",
    "\n",
    "In the last lines, I defined $\\Phi^*$. This is the risk neutral transition matrix. The time-varying market price of risk model is equivalent to a risk-neutral distortion on $Phi$, where the constant market price of risk was equivalent to a distortion on the mean $\\bar{r}$."
   ]
  }
 ],
 "metadata": {
  "kernelspec": {
   "display_name": "IPython (Python 3)",
   "language": "python",
   "name": "python3"
  },
  "language_info": {
   "codemirror_mode": {
    "name": "ipython",
    "version": 3
   },
   "file_extension": ".py",
   "mimetype": "text/x-python",
   "name": "python",
   "nbconvert_exporter": "python",
   "pygments_lexer": "ipython3",
   "version": "3.4.3"
  }
 },
 "nbformat": 4,
 "nbformat_minor": 0
}
